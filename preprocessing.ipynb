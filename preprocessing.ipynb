{
 "cells": [
  {
   "cell_type": "code",
   "execution_count": 29,
   "metadata": {},
   "outputs": [],
   "source": [
    "import pandas as pd"
   ]
  },
  {
   "cell_type": "code",
   "execution_count": 30,
   "metadata": {},
   "outputs": [],
   "source": [
    "import matplotlib.pyplot as plt\n",
    "import seaborn as sns"
   ]
  },
  {
   "cell_type": "code",
   "execution_count": 31,
   "metadata": {},
   "outputs": [],
   "source": [
    "df=pd.read_csv(\"dataset.csv\")"
   ]
  },
  {
   "cell_type": "code",
   "execution_count": 32,
   "metadata": {},
   "outputs": [
    {
     "data": {
      "text/html": [
       "<div>\n",
       "<style scoped>\n",
       "    .dataframe tbody tr th:only-of-type {\n",
       "        vertical-align: middle;\n",
       "    }\n",
       "\n",
       "    .dataframe tbody tr th {\n",
       "        vertical-align: top;\n",
       "    }\n",
       "\n",
       "    .dataframe thead th {\n",
       "        text-align: right;\n",
       "    }\n",
       "</style>\n",
       "<table border=\"1\" class=\"dataframe\">\n",
       "  <thead>\n",
       "    <tr style=\"text-align: right;\">\n",
       "      <th></th>\n",
       "      <th>Title</th>\n",
       "      <th>Rating</th>\n",
       "      <th>Reviews</th>\n",
       "      <th>Price</th>\n",
       "      <th>Image URL</th>\n",
       "      <th>Product URL</th>\n",
       "    </tr>\n",
       "  </thead>\n",
       "  <tbody>\n",
       "    <tr>\n",
       "      <th>0</th>\n",
       "      <td>Redmi Note 13 Pro+ (Fusion Black, 8GB RAM, 256...</td>\n",
       "      <td>3.8</td>\n",
       "      <td>684</td>\n",
       "      <td>33,999</td>\n",
       "      <td>https://m.media-amazon.com/images/I/71nrf4zgq5...</td>\n",
       "      <td>https://www.amazon.in/sspa/click?ie=UTF8&amp;spc=M...</td>\n",
       "    </tr>\n",
       "    <tr>\n",
       "      <th>1</th>\n",
       "      <td>Samsung Galaxy M05 (Mint Green, 4GB RAM, 64 GB...</td>\n",
       "      <td>3.8</td>\n",
       "      <td>60</td>\n",
       "      <td>9,999</td>\n",
       "      <td>https://m.media-amazon.com/images/I/81T3olLXpU...</td>\n",
       "      <td>https://www.amazon.in/Samsung-Storage-Display-...</td>\n",
       "    </tr>\n",
       "    <tr>\n",
       "      <th>2</th>\n",
       "      <td>realme NARZO N61 (Marble Black,6GB RAM+128GB S...</td>\n",
       "      <td>4.1</td>\n",
       "      <td>346</td>\n",
       "      <td>10,999</td>\n",
       "      <td>https://m.media-amazon.com/images/I/71EN6N9kUE...</td>\n",
       "      <td>https://www.amazon.in/realme-Storage-Comfort-R...</td>\n",
       "    </tr>\n",
       "    <tr>\n",
       "      <th>3</th>\n",
       "      <td>realme NARZO N61 (Voyage Blue,6GB RAM+128GB St...</td>\n",
       "      <td>4.1</td>\n",
       "      <td>346</td>\n",
       "      <td>10,999</td>\n",
       "      <td>https://m.media-amazon.com/images/I/71r0Ysx+oV...</td>\n",
       "      <td>https://www.amazon.in/realme-Storage-Comfort-R...</td>\n",
       "    </tr>\n",
       "    <tr>\n",
       "      <th>4</th>\n",
       "      <td>POCO C61 Ethereal Blue 4GB RAM 64GB ROM</td>\n",
       "      <td>3.5</td>\n",
       "      <td>27</td>\n",
       "      <td>8,999</td>\n",
       "      <td>https://m.media-amazon.com/images/I/712tqhtIw1...</td>\n",
       "      <td>https://www.amazon.in/POCO-C61-Ethereal-Blue-6...</td>\n",
       "    </tr>\n",
       "  </tbody>\n",
       "</table>\n",
       "</div>"
      ],
      "text/plain": [
       "                                               Title Rating Reviews   Price  \\\n",
       "0  Redmi Note 13 Pro+ (Fusion Black, 8GB RAM, 256...    3.8     684  33,999   \n",
       "1  Samsung Galaxy M05 (Mint Green, 4GB RAM, 64 GB...    3.8      60   9,999   \n",
       "2  realme NARZO N61 (Marble Black,6GB RAM+128GB S...    4.1     346  10,999   \n",
       "3  realme NARZO N61 (Voyage Blue,6GB RAM+128GB St...    4.1     346  10,999   \n",
       "4            POCO C61 Ethereal Blue 4GB RAM 64GB ROM    3.5      27   8,999   \n",
       "\n",
       "                                           Image URL  \\\n",
       "0  https://m.media-amazon.com/images/I/71nrf4zgq5...   \n",
       "1  https://m.media-amazon.com/images/I/81T3olLXpU...   \n",
       "2  https://m.media-amazon.com/images/I/71EN6N9kUE...   \n",
       "3  https://m.media-amazon.com/images/I/71r0Ysx+oV...   \n",
       "4  https://m.media-amazon.com/images/I/712tqhtIw1...   \n",
       "\n",
       "                                         Product URL  \n",
       "0  https://www.amazon.in/sspa/click?ie=UTF8&spc=M...  \n",
       "1  https://www.amazon.in/Samsung-Storage-Display-...  \n",
       "2  https://www.amazon.in/realme-Storage-Comfort-R...  \n",
       "3  https://www.amazon.in/realme-Storage-Comfort-R...  \n",
       "4  https://www.amazon.in/POCO-C61-Ethereal-Blue-6...  "
      ]
     },
     "execution_count": 32,
     "metadata": {},
     "output_type": "execute_result"
    }
   ],
   "source": [
    "df.head()"
   ]
  },
  {
   "cell_type": "code",
   "execution_count": 33,
   "metadata": {},
   "outputs": [
    {
     "data": {
      "text/plain": [
       "(1582, 6)"
      ]
     },
     "execution_count": 33,
     "metadata": {},
     "output_type": "execute_result"
    }
   ],
   "source": [
    "df.shape"
   ]
  },
  {
   "cell_type": "code",
   "execution_count": 34,
   "metadata": {},
   "outputs": [
    {
     "data": {
      "text/plain": [
       "Title          object\n",
       "Rating         object\n",
       "Reviews        object\n",
       "Price          object\n",
       "Image URL      object\n",
       "Product URL    object\n",
       "dtype: object"
      ]
     },
     "execution_count": 34,
     "metadata": {},
     "output_type": "execute_result"
    }
   ],
   "source": [
    "df.dtypes"
   ]
  },
  {
   "cell_type": "code",
   "execution_count": 35,
   "metadata": {},
   "outputs": [
    {
     "data": {
      "text/plain": [
       "Title          0\n",
       "Rating         0\n",
       "Reviews        0\n",
       "Price          0\n",
       "Image URL      0\n",
       "Product URL    0\n",
       "dtype: int64"
      ]
     },
     "execution_count": 35,
     "metadata": {},
     "output_type": "execute_result"
    }
   ],
   "source": [
    "df.isna().sum()"
   ]
  },
  {
   "cell_type": "code",
   "execution_count": 36,
   "metadata": {},
   "outputs": [
    {
     "data": {
      "text/plain": [
       "Index(['Title', 'Rating', 'Reviews', 'Price', 'Image URL', 'Product URL'], dtype='object')"
      ]
     },
     "execution_count": 36,
     "metadata": {},
     "output_type": "execute_result"
    }
   ],
   "source": [
    "df.columns"
   ]
  },
  {
   "cell_type": "code",
   "execution_count": 37,
   "metadata": {},
   "outputs": [
    {
     "data": {
      "text/html": [
       "<div>\n",
       "<style scoped>\n",
       "    .dataframe tbody tr th:only-of-type {\n",
       "        vertical-align: middle;\n",
       "    }\n",
       "\n",
       "    .dataframe tbody tr th {\n",
       "        vertical-align: top;\n",
       "    }\n",
       "\n",
       "    .dataframe thead th {\n",
       "        text-align: right;\n",
       "    }\n",
       "</style>\n",
       "<table border=\"1\" class=\"dataframe\">\n",
       "  <thead>\n",
       "    <tr style=\"text-align: right;\">\n",
       "      <th></th>\n",
       "      <th>Title</th>\n",
       "      <th>Rating</th>\n",
       "      <th>Reviews</th>\n",
       "      <th>Price</th>\n",
       "      <th>Image URL</th>\n",
       "      <th>Product URL</th>\n",
       "    </tr>\n",
       "  </thead>\n",
       "  <tbody>\n",
       "    <tr>\n",
       "      <th>0</th>\n",
       "      <td>Redmi Note 13 Pro+ (Fusion Black, 8GB RAM, 256...</td>\n",
       "      <td>3.8</td>\n",
       "      <td>684</td>\n",
       "      <td>33,999</td>\n",
       "      <td>https://m.media-amazon.com/images/I/71nrf4zgq5...</td>\n",
       "      <td>https://www.amazon.in/sspa/click?ie=UTF8&amp;spc=M...</td>\n",
       "    </tr>\n",
       "    <tr>\n",
       "      <th>1</th>\n",
       "      <td>Samsung Galaxy M05 (Mint Green, 4GB RAM, 64 GB...</td>\n",
       "      <td>3.8</td>\n",
       "      <td>60</td>\n",
       "      <td>9,999</td>\n",
       "      <td>https://m.media-amazon.com/images/I/81T3olLXpU...</td>\n",
       "      <td>https://www.amazon.in/Samsung-Storage-Display-...</td>\n",
       "    </tr>\n",
       "  </tbody>\n",
       "</table>\n",
       "</div>"
      ],
      "text/plain": [
       "                                               Title Rating Reviews   Price  \\\n",
       "0  Redmi Note 13 Pro+ (Fusion Black, 8GB RAM, 256...    3.8     684  33,999   \n",
       "1  Samsung Galaxy M05 (Mint Green, 4GB RAM, 64 GB...    3.8      60   9,999   \n",
       "\n",
       "                                           Image URL  \\\n",
       "0  https://m.media-amazon.com/images/I/71nrf4zgq5...   \n",
       "1  https://m.media-amazon.com/images/I/81T3olLXpU...   \n",
       "\n",
       "                                         Product URL  \n",
       "0  https://www.amazon.in/sspa/click?ie=UTF8&spc=M...  \n",
       "1  https://www.amazon.in/Samsung-Storage-Display-...  "
      ]
     },
     "execution_count": 37,
     "metadata": {},
     "output_type": "execute_result"
    }
   ],
   "source": [
    "df.head(2)"
   ]
  },
  {
   "cell_type": "code",
   "execution_count": 38,
   "metadata": {},
   "outputs": [
    {
     "data": {
      "text/plain": [
       "<bound method IndexOpsMixin.value_counts of 0             3.8\n",
       "1             3.8\n",
       "2             4.1\n",
       "3             4.1\n",
       "4             3.5\n",
       "          ...    \n",
       "1577    No Rating\n",
       "1578          3.7\n",
       "1579          4.0\n",
       "1580          5.0\n",
       "1581          1.0\n",
       "Name: Rating, Length: 1582, dtype: object>"
      ]
     },
     "execution_count": 38,
     "metadata": {},
     "output_type": "execute_result"
    }
   ],
   "source": [
    "df[\"Rating\"].value_counts"
   ]
  },
  {
   "cell_type": "code",
   "execution_count": 39,
   "metadata": {},
   "outputs": [],
   "source": [
    "def norating(data):\n",
    "    if data==\"No Rating\":\n",
    "        return 0\n",
    "    else:\n",
    "        return data\n"
   ]
  },
  {
   "cell_type": "code",
   "execution_count": 40,
   "metadata": {},
   "outputs": [],
   "source": [
    "df[\"Rating\"]=df[\"Rating\"].fillna(0.0) "
   ]
  },
  {
   "cell_type": "code",
   "execution_count": 41,
   "metadata": {},
   "outputs": [],
   "source": [
    "df[\"Rating\"]=df[\"Rating\"].apply(norating)"
   ]
  },
  {
   "cell_type": "code",
   "execution_count": 42,
   "metadata": {},
   "outputs": [
    {
     "data": {
      "text/plain": [
       "Rating\n",
       "4.0    257\n",
       "3.9    206\n",
       "4.1    180\n",
       "3.8    159\n",
       "4.2    145\n",
       "4.4    113\n",
       "3.7     80\n",
       "4.5     74\n",
       "4.3     71\n",
       "3.6     69\n",
       "0       45\n",
       "3.5     35\n",
       "3.3     28\n",
       "5.0     21\n",
       "3.4     19\n",
       "4.6     16\n",
       "3.1     13\n",
       "3.2      9\n",
       "3.0      8\n",
       "2.9      8\n",
       "1.0      4\n",
       "4.7      4\n",
       "2.8      3\n",
       "2.3      3\n",
       "2.7      2\n",
       "2.0      2\n",
       "2.6      2\n",
       "1.9      1\n",
       "2.1      1\n",
       "2.5      1\n",
       "4.8      1\n",
       "4.9      1\n",
       "2.2      1\n",
       "Name: count, dtype: int64"
      ]
     },
     "execution_count": 42,
     "metadata": {},
     "output_type": "execute_result"
    }
   ],
   "source": [
    "df[\"Rating\"].value_counts()"
   ]
  },
  {
   "cell_type": "code",
   "execution_count": 43,
   "metadata": {},
   "outputs": [],
   "source": [
    "df[\"Rating\"]=df[\"Rating\"].astype(float)"
   ]
  },
  {
   "cell_type": "code",
   "execution_count": 44,
   "metadata": {},
   "outputs": [
    {
     "data": {
      "text/plain": [
       "<Axes: xlabel='Rating', ylabel='Density'>"
      ]
     },
     "execution_count": 44,
     "metadata": {},
     "output_type": "execute_result"
    },
    {
     "data": {
      "image/png": "[encoded data removed]",
      "text/plain": [
       "<Figure size 640x480 with 1 Axes>"
      ]
     },
     "metadata": {},
     "output_type": "display_data"
    }
   ],
   "source": [
    "sns.kdeplot(data=df,x=\"Rating\")"
   ]
  },
  {
   "cell_type": "code",
   "execution_count": 45,
   "metadata": {},
   "outputs": [
    {
     "data": {
      "text/plain": [
       "<Axes: xlabel='Rating'>"
      ]
     },
     "execution_count": 45,
     "metadata": {},
     "output_type": "execute_result"
    },
    {
     "data": {
      "image/png": "[encoded data removed]",
      "text/plain": [
       "<Figure size 640x480 with 1 Axes>"
      ]
     },
     "metadata": {},
     "output_type": "display_data"
    }
   ],
   "source": [
    "sns.boxplot(data=df,x=\"Rating\")"
   ]
  },
  {
   "cell_type": "code",
   "execution_count": 46,
   "metadata": {},
   "outputs": [
    {
     "data": {
      "text/plain": [
       "Title           object\n",
       "Rating         float64\n",
       "Reviews         object\n",
       "Price           object\n",
       "Image URL       object\n",
       "Product URL     object\n",
       "dtype: object"
      ]
     },
     "execution_count": 46,
     "metadata": {},
     "output_type": "execute_result"
    }
   ],
   "source": [
    "df.dtypes"
   ]
  },
  {
   "cell_type": "code",
   "execution_count": 47,
   "metadata": {},
   "outputs": [
    {
     "data": {
      "text/html": [
       "<div>\n",
       "<style scoped>\n",
       "    .dataframe tbody tr th:only-of-type {\n",
       "        vertical-align: middle;\n",
       "    }\n",
       "\n",
       "    .dataframe tbody tr th {\n",
       "        vertical-align: top;\n",
       "    }\n",
       "\n",
       "    .dataframe thead th {\n",
       "        text-align: right;\n",
       "    }\n",
       "</style>\n",
       "<table border=\"1\" class=\"dataframe\">\n",
       "  <thead>\n",
       "    <tr style=\"text-align: right;\">\n",
       "      <th></th>\n",
       "      <th>Title</th>\n",
       "      <th>Rating</th>\n",
       "      <th>Reviews</th>\n",
       "      <th>Price</th>\n",
       "      <th>Image URL</th>\n",
       "      <th>Product URL</th>\n",
       "    </tr>\n",
       "  </thead>\n",
       "  <tbody>\n",
       "    <tr>\n",
       "      <th>0</th>\n",
       "      <td>Redmi Note 13 Pro+ (Fusion Black, 8GB RAM, 256...</td>\n",
       "      <td>3.8</td>\n",
       "      <td>684</td>\n",
       "      <td>33,999</td>\n",
       "      <td>https://m.media-amazon.com/images/I/71nrf4zgq5...</td>\n",
       "      <td>https://www.amazon.in/sspa/click?ie=UTF8&amp;spc=M...</td>\n",
       "    </tr>\n",
       "    <tr>\n",
       "      <th>1</th>\n",
       "      <td>Samsung Galaxy M05 (Mint Green, 4GB RAM, 64 GB...</td>\n",
       "      <td>3.8</td>\n",
       "      <td>60</td>\n",
       "      <td>9,999</td>\n",
       "      <td>https://m.media-amazon.com/images/I/81T3olLXpU...</td>\n",
       "      <td>https://www.amazon.in/Samsung-Storage-Display-...</td>\n",
       "    </tr>\n",
       "    <tr>\n",
       "      <th>2</th>\n",
       "      <td>realme NARZO N61 (Marble Black,6GB RAM+128GB S...</td>\n",
       "      <td>4.1</td>\n",
       "      <td>346</td>\n",
       "      <td>10,999</td>\n",
       "      <td>https://m.media-amazon.com/images/I/71EN6N9kUE...</td>\n",
       "      <td>https://www.amazon.in/realme-Storage-Comfort-R...</td>\n",
       "    </tr>\n",
       "  </tbody>\n",
       "</table>\n",
       "</div>"
      ],
      "text/plain": [
       "                                               Title  Rating Reviews   Price  \\\n",
       "0  Redmi Note 13 Pro+ (Fusion Black, 8GB RAM, 256...     3.8     684  33,999   \n",
       "1  Samsung Galaxy M05 (Mint Green, 4GB RAM, 64 GB...     3.8      60   9,999   \n",
       "2  realme NARZO N61 (Marble Black,6GB RAM+128GB S...     4.1     346  10,999   \n",
       "\n",
       "                                           Image URL  \\\n",
       "0  https://m.media-amazon.com/images/I/71nrf4zgq5...   \n",
       "1  https://m.media-amazon.com/images/I/81T3olLXpU...   \n",
       "2  https://m.media-amazon.com/images/I/71EN6N9kUE...   \n",
       "\n",
       "                                         Product URL  \n",
       "0  https://www.amazon.in/sspa/click?ie=UTF8&spc=M...  \n",
       "1  https://www.amazon.in/Samsung-Storage-Display-...  \n",
       "2  https://www.amazon.in/realme-Storage-Comfort-R...  "
      ]
     },
     "execution_count": 47,
     "metadata": {},
     "output_type": "execute_result"
    }
   ],
   "source": [
    "df.head(3)"
   ]
  },
  {
   "cell_type": "code",
   "execution_count": 48,
   "metadata": {},
   "outputs": [
    {
     "data": {
      "text/plain": [
       "Rating\n",
       "4.0    257\n",
       "3.9    206\n",
       "4.1    180\n",
       "3.8    159\n",
       "4.2    145\n",
       "4.4    113\n",
       "3.7     80\n",
       "4.5     74\n",
       "4.3     71\n",
       "3.6     69\n",
       "0.0     45\n",
       "3.5     35\n",
       "3.3     28\n",
       "5.0     21\n",
       "3.4     19\n",
       "4.6     16\n",
       "3.1     13\n",
       "3.2      9\n",
       "3.0      8\n",
       "2.9      8\n",
       "1.0      4\n",
       "4.7      4\n",
       "2.8      3\n",
       "2.3      3\n",
       "2.7      2\n",
       "2.0      2\n",
       "2.6      2\n",
       "1.9      1\n",
       "2.1      1\n",
       "2.5      1\n",
       "4.8      1\n",
       "4.9      1\n",
       "2.2      1\n",
       "Name: count, dtype: int64"
      ]
     },
     "execution_count": 48,
     "metadata": {},
     "output_type": "execute_result"
    }
   ],
   "source": [
    "df[\"Rating\"].value_counts()"
   ]
  },
  {
   "cell_type": "code",
   "execution_count": 49,
   "metadata": {},
   "outputs": [
    {
     "data": {
      "text/plain": [
       "'def reviwes(data):\\n    if data==\"7,990\":\\n        return 7990\\n    else:\\n        return data'"
      ]
     },
     "execution_count": 49,
     "metadata": {},
     "output_type": "execute_result"
    }
   ],
   "source": [
    "\"\"\"def reviwes(data):\n",
    "    if data==\"7,990\":\n",
    "        return 7990\n",
    "    else:\n",
    "        return data\"\"\""
   ]
  },
  {
   "cell_type": "code",
   "execution_count": 50,
   "metadata": {},
   "outputs": [],
   "source": [
    "#df[\"Reviews\"]=df[\"Reviews\"].apply(reviwes)"
   ]
  },
  {
   "cell_type": "code",
   "execution_count": 51,
   "metadata": {},
   "outputs": [],
   "source": [
    "def pre_review_comma(data):\n",
    "    data=data.replace(\",\",\"\")\n",
    "    return data"
   ]
  },
  {
   "cell_type": "code",
   "execution_count": 52,
   "metadata": {},
   "outputs": [],
   "source": [
    "df1=df"
   ]
  },
  {
   "cell_type": "code",
   "execution_count": 53,
   "metadata": {},
   "outputs": [],
   "source": [
    "df1[\"Reviews\"]=df1[\"Reviews\"].apply(pre_review_comma)"
   ]
  },
  {
   "cell_type": "code",
   "execution_count": 54,
   "metadata": {},
   "outputs": [],
   "source": [
    "def pre_review(val,means):\n",
    "    try:\n",
    "        return int(val)\n",
    "    except ValueError:\n",
    "        return means\n",
    "df1[\"Reviews\"]=df1[\"Reviews\"].astype(str)\n",
    "num=[int(x) for x in df1[\"Reviews\"] if x.isdigit()]\n",
    "means=sum(num)/len(num)"
   ]
  },
  {
   "cell_type": "code",
   "execution_count": 55,
   "metadata": {},
   "outputs": [],
   "source": [
    "df1[\"Reviews\"]=df1[\"Reviews\"].apply(lambda x:pre_review(x,means))"
   ]
  },
  {
   "cell_type": "code",
   "execution_count": 56,
   "metadata": {},
   "outputs": [
    {
     "data": {
      "text/plain": [
       "<Axes: xlabel='Reviews', ylabel='Density'>"
      ]
     },
     "execution_count": 56,
     "metadata": {},
     "output_type": "execute_result"
    },
    {
     "data": {
      "image/png": "[encoded data removed]",
      "text/plain": [
       "<Figure size 640x480 with 1 Axes>"
      ]
     },
     "metadata": {},
     "output_type": "display_data"
    }
   ],
   "source": [
    "sns.kdeplot(data=df1,x=\"Reviews\")"
   ]
  },
  {
   "cell_type": "code",
   "execution_count": 57,
   "metadata": {},
   "outputs": [
    {
     "data": {
      "text/plain": [
       "<Axes: xlabel='Reviews'>"
      ]
     },
     "execution_count": 57,
     "metadata": {},
     "output_type": "execute_result"
    },
    {
     "data": {
      "image/png": "[encoded data removed]",
      "text/plain": [
       "<Figure size 640x480 with 1 Axes>"
      ]
     },
     "metadata": {},
     "output_type": "display_data"
    }
   ],
   "source": [
    "sns.boxplot(data=df1,x=\"Reviews\")"
   ]
  },
  {
   "cell_type": "code",
   "execution_count": 58,
   "metadata": {},
   "outputs": [
    {
     "data": {
      "text/html": [
       "<div>\n",
       "<style scoped>\n",
       "    .dataframe tbody tr th:only-of-type {\n",
       "        vertical-align: middle;\n",
       "    }\n",
       "\n",
       "    .dataframe tbody tr th {\n",
       "        vertical-align: top;\n",
       "    }\n",
       "\n",
       "    .dataframe thead th {\n",
       "        text-align: right;\n",
       "    }\n",
       "</style>\n",
       "<table border=\"1\" class=\"dataframe\">\n",
       "  <thead>\n",
       "    <tr style=\"text-align: right;\">\n",
       "      <th></th>\n",
       "      <th>Title</th>\n",
       "      <th>Rating</th>\n",
       "      <th>Reviews</th>\n",
       "      <th>Price</th>\n",
       "      <th>Image URL</th>\n",
       "      <th>Product URL</th>\n",
       "    </tr>\n",
       "  </thead>\n",
       "  <tbody>\n",
       "    <tr>\n",
       "      <th>0</th>\n",
       "      <td>Redmi Note 13 Pro+ (Fusion Black, 8GB RAM, 256...</td>\n",
       "      <td>3.8</td>\n",
       "      <td>684.0</td>\n",
       "      <td>33,999</td>\n",
       "      <td>https://m.media-amazon.com/images/I/71nrf4zgq5...</td>\n",
       "      <td>https://www.amazon.in/sspa/click?ie=UTF8&amp;spc=M...</td>\n",
       "    </tr>\n",
       "    <tr>\n",
       "      <th>1</th>\n",
       "      <td>Samsung Galaxy M05 (Mint Green, 4GB RAM, 64 GB...</td>\n",
       "      <td>3.8</td>\n",
       "      <td>60.0</td>\n",
       "      <td>9,999</td>\n",
       "      <td>https://m.media-amazon.com/images/I/81T3olLXpU...</td>\n",
       "      <td>https://www.amazon.in/Samsung-Storage-Display-...</td>\n",
       "    </tr>\n",
       "    <tr>\n",
       "      <th>2</th>\n",
       "      <td>realme NARZO N61 (Marble Black,6GB RAM+128GB S...</td>\n",
       "      <td>4.1</td>\n",
       "      <td>346.0</td>\n",
       "      <td>10,999</td>\n",
       "      <td>https://m.media-amazon.com/images/I/71EN6N9kUE...</td>\n",
       "      <td>https://www.amazon.in/realme-Storage-Comfort-R...</td>\n",
       "    </tr>\n",
       "    <tr>\n",
       "      <th>3</th>\n",
       "      <td>realme NARZO N61 (Voyage Blue,6GB RAM+128GB St...</td>\n",
       "      <td>4.1</td>\n",
       "      <td>346.0</td>\n",
       "      <td>10,999</td>\n",
       "      <td>https://m.media-amazon.com/images/I/71r0Ysx+oV...</td>\n",
       "      <td>https://www.amazon.in/realme-Storage-Comfort-R...</td>\n",
       "    </tr>\n",
       "    <tr>\n",
       "      <th>4</th>\n",
       "      <td>POCO C61 Ethereal Blue 4GB RAM 64GB ROM</td>\n",
       "      <td>3.5</td>\n",
       "      <td>27.0</td>\n",
       "      <td>8,999</td>\n",
       "      <td>https://m.media-amazon.com/images/I/712tqhtIw1...</td>\n",
       "      <td>https://www.amazon.in/POCO-C61-Ethereal-Blue-6...</td>\n",
       "    </tr>\n",
       "  </tbody>\n",
       "</table>\n",
       "</div>"
      ],
      "text/plain": [
       "                                               Title  Rating  Reviews   Price  \\\n",
       "0  Redmi Note 13 Pro+ (Fusion Black, 8GB RAM, 256...     3.8    684.0  33,999   \n",
       "1  Samsung Galaxy M05 (Mint Green, 4GB RAM, 64 GB...     3.8     60.0   9,999   \n",
       "2  realme NARZO N61 (Marble Black,6GB RAM+128GB S...     4.1    346.0  10,999   \n",
       "3  realme NARZO N61 (Voyage Blue,6GB RAM+128GB St...     4.1    346.0  10,999   \n",
       "4            POCO C61 Ethereal Blue 4GB RAM 64GB ROM     3.5     27.0   8,999   \n",
       "\n",
       "                                           Image URL  \\\n",
       "0  https://m.media-amazon.com/images/I/71nrf4zgq5...   \n",
       "1  https://m.media-amazon.com/images/I/81T3olLXpU...   \n",
       "2  https://m.media-amazon.com/images/I/71EN6N9kUE...   \n",
       "3  https://m.media-amazon.com/images/I/71r0Ysx+oV...   \n",
       "4  https://m.media-amazon.com/images/I/712tqhtIw1...   \n",
       "\n",
       "                                         Product URL  \n",
       "0  https://www.amazon.in/sspa/click?ie=UTF8&spc=M...  \n",
       "1  https://www.amazon.in/Samsung-Storage-Display-...  \n",
       "2  https://www.amazon.in/realme-Storage-Comfort-R...  \n",
       "3  https://www.amazon.in/realme-Storage-Comfort-R...  \n",
       "4  https://www.amazon.in/POCO-C61-Ethereal-Blue-6...  "
      ]
     },
     "execution_count": 58,
     "metadata": {},
     "output_type": "execute_result"
    }
   ],
   "source": [
    "df1.head()"
   ]
  },
  {
   "cell_type": "code",
   "execution_count": 59,
   "metadata": {},
   "outputs": [],
   "source": [
    "def pre_price_comma(data):\n",
    "    data=data.replace(\",\",\"\")\n",
    "    return data"
   ]
  },
  {
   "cell_type": "code",
   "execution_count": 60,
   "metadata": {},
   "outputs": [],
   "source": [
    "df1[\"Price\"]=df1[\"Price\"].apply(pre_price_comma)"
   ]
  },
  {
   "cell_type": "code",
   "execution_count": 61,
   "metadata": {},
   "outputs": [
    {
     "data": {
      "text/html": [
       "<div>\n",
       "<style scoped>\n",
       "    .dataframe tbody tr th:only-of-type {\n",
       "        vertical-align: middle;\n",
       "    }\n",
       "\n",
       "    .dataframe tbody tr th {\n",
       "        vertical-align: top;\n",
       "    }\n",
       "\n",
       "    .dataframe thead th {\n",
       "        text-align: right;\n",
       "    }\n",
       "</style>\n",
       "<table border=\"1\" class=\"dataframe\">\n",
       "  <thead>\n",
       "    <tr style=\"text-align: right;\">\n",
       "      <th></th>\n",
       "      <th>Title</th>\n",
       "      <th>Rating</th>\n",
       "      <th>Reviews</th>\n",
       "      <th>Price</th>\n",
       "      <th>Image URL</th>\n",
       "      <th>Product URL</th>\n",
       "    </tr>\n",
       "  </thead>\n",
       "  <tbody>\n",
       "    <tr>\n",
       "      <th>0</th>\n",
       "      <td>Redmi Note 13 Pro+ (Fusion Black, 8GB RAM, 256...</td>\n",
       "      <td>3.8</td>\n",
       "      <td>684.0</td>\n",
       "      <td>33999</td>\n",
       "      <td>https://m.media-amazon.com/images/I/71nrf4zgq5...</td>\n",
       "      <td>https://www.amazon.in/sspa/click?ie=UTF8&amp;spc=M...</td>\n",
       "    </tr>\n",
       "    <tr>\n",
       "      <th>1</th>\n",
       "      <td>Samsung Galaxy M05 (Mint Green, 4GB RAM, 64 GB...</td>\n",
       "      <td>3.8</td>\n",
       "      <td>60.0</td>\n",
       "      <td>9999</td>\n",
       "      <td>https://m.media-amazon.com/images/I/81T3olLXpU...</td>\n",
       "      <td>https://www.amazon.in/Samsung-Storage-Display-...</td>\n",
       "    </tr>\n",
       "    <tr>\n",
       "      <th>2</th>\n",
       "      <td>realme NARZO N61 (Marble Black,6GB RAM+128GB S...</td>\n",
       "      <td>4.1</td>\n",
       "      <td>346.0</td>\n",
       "      <td>10999</td>\n",
       "      <td>https://m.media-amazon.com/images/I/71EN6N9kUE...</td>\n",
       "      <td>https://www.amazon.in/realme-Storage-Comfort-R...</td>\n",
       "    </tr>\n",
       "    <tr>\n",
       "      <th>3</th>\n",
       "      <td>realme NARZO N61 (Voyage Blue,6GB RAM+128GB St...</td>\n",
       "      <td>4.1</td>\n",
       "      <td>346.0</td>\n",
       "      <td>10999</td>\n",
       "      <td>https://m.media-amazon.com/images/I/71r0Ysx+oV...</td>\n",
       "      <td>https://www.amazon.in/realme-Storage-Comfort-R...</td>\n",
       "    </tr>\n",
       "    <tr>\n",
       "      <th>4</th>\n",
       "      <td>POCO C61 Ethereal Blue 4GB RAM 64GB ROM</td>\n",
       "      <td>3.5</td>\n",
       "      <td>27.0</td>\n",
       "      <td>8999</td>\n",
       "      <td>https://m.media-amazon.com/images/I/712tqhtIw1...</td>\n",
       "      <td>https://www.amazon.in/POCO-C61-Ethereal-Blue-6...</td>\n",
       "    </tr>\n",
       "  </tbody>\n",
       "</table>\n",
       "</div>"
      ],
      "text/plain": [
       "                                               Title  Rating  Reviews  Price  \\\n",
       "0  Redmi Note 13 Pro+ (Fusion Black, 8GB RAM, 256...     3.8    684.0  33999   \n",
       "1  Samsung Galaxy M05 (Mint Green, 4GB RAM, 64 GB...     3.8     60.0   9999   \n",
       "2  realme NARZO N61 (Marble Black,6GB RAM+128GB S...     4.1    346.0  10999   \n",
       "3  realme NARZO N61 (Voyage Blue,6GB RAM+128GB St...     4.1    346.0  10999   \n",
       "4            POCO C61 Ethereal Blue 4GB RAM 64GB ROM     3.5     27.0   8999   \n",
       "\n",
       "                                           Image URL  \\\n",
       "0  https://m.media-amazon.com/images/I/71nrf4zgq5...   \n",
       "1  https://m.media-amazon.com/images/I/81T3olLXpU...   \n",
       "2  https://m.media-amazon.com/images/I/71EN6N9kUE...   \n",
       "3  https://m.media-amazon.com/images/I/71r0Ysx+oV...   \n",
       "4  https://m.media-amazon.com/images/I/712tqhtIw1...   \n",
       "\n",
       "                                         Product URL  \n",
       "0  https://www.amazon.in/sspa/click?ie=UTF8&spc=M...  \n",
       "1  https://www.amazon.in/Samsung-Storage-Display-...  \n",
       "2  https://www.amazon.in/realme-Storage-Comfort-R...  \n",
       "3  https://www.amazon.in/realme-Storage-Comfort-R...  \n",
       "4  https://www.amazon.in/POCO-C61-Ethereal-Blue-6...  "
      ]
     },
     "execution_count": 61,
     "metadata": {},
     "output_type": "execute_result"
    }
   ],
   "source": [
    "df.head()"
   ]
  },
  {
   "cell_type": "code",
   "execution_count": 62,
   "metadata": {},
   "outputs": [
    {
     "data": {
      "text/plain": [
       "Title           object\n",
       "Rating         float64\n",
       "Reviews        float64\n",
       "Price           object\n",
       "Image URL       object\n",
       "Product URL     object\n",
       "dtype: object"
      ]
     },
     "execution_count": 62,
     "metadata": {},
     "output_type": "execute_result"
    }
   ],
   "source": [
    "df.dtypes"
   ]
  },
  {
   "cell_type": "code",
   "execution_count": 63,
   "metadata": {},
   "outputs": [],
   "source": [
    "df2=df"
   ]
  },
  {
   "cell_type": "code",
   "execution_count": 64,
   "metadata": {},
   "outputs": [],
   "source": [
    "def pre_price_dot(data):\n",
    "    data=data.replace(\".\",\"\")\n",
    "    return data"
   ]
  },
  {
   "cell_type": "code",
   "execution_count": 65,
   "metadata": {},
   "outputs": [],
   "source": [
    "df2[\"Price\"]=df2[\"Price\"].apply(pre_price_dot)"
   ]
  },
  {
   "cell_type": "code",
   "execution_count": 66,
   "metadata": {},
   "outputs": [],
   "source": [
    "df2[\"Price\"]=df2[\"Price\"].astype(int)"
   ]
  },
  {
   "cell_type": "code",
   "execution_count": 67,
   "metadata": {},
   "outputs": [
    {
     "data": {
      "text/html": [
       "<div>\n",
       "<style scoped>\n",
       "    .dataframe tbody tr th:only-of-type {\n",
       "        vertical-align: middle;\n",
       "    }\n",
       "\n",
       "    .dataframe tbody tr th {\n",
       "        vertical-align: top;\n",
       "    }\n",
       "\n",
       "    .dataframe thead th {\n",
       "        text-align: right;\n",
       "    }\n",
       "</style>\n",
       "<table border=\"1\" class=\"dataframe\">\n",
       "  <thead>\n",
       "    <tr style=\"text-align: right;\">\n",
       "      <th></th>\n",
       "      <th>Title</th>\n",
       "      <th>Rating</th>\n",
       "      <th>Reviews</th>\n",
       "      <th>Price</th>\n",
       "      <th>Image URL</th>\n",
       "      <th>Product URL</th>\n",
       "    </tr>\n",
       "  </thead>\n",
       "  <tbody>\n",
       "    <tr>\n",
       "      <th>0</th>\n",
       "      <td>Redmi Note 13 Pro+ (Fusion Black, 8GB RAM, 256...</td>\n",
       "      <td>3.8</td>\n",
       "      <td>684.0</td>\n",
       "      <td>33999</td>\n",
       "      <td>https://m.media-amazon.com/images/I/71nrf4zgq5...</td>\n",
       "      <td>https://www.amazon.in/sspa/click?ie=UTF8&amp;spc=M...</td>\n",
       "    </tr>\n",
       "    <tr>\n",
       "      <th>1</th>\n",
       "      <td>Samsung Galaxy M05 (Mint Green, 4GB RAM, 64 GB...</td>\n",
       "      <td>3.8</td>\n",
       "      <td>60.0</td>\n",
       "      <td>9999</td>\n",
       "      <td>https://m.media-amazon.com/images/I/81T3olLXpU...</td>\n",
       "      <td>https://www.amazon.in/Samsung-Storage-Display-...</td>\n",
       "    </tr>\n",
       "    <tr>\n",
       "      <th>2</th>\n",
       "      <td>realme NARZO N61 (Marble Black,6GB RAM+128GB S...</td>\n",
       "      <td>4.1</td>\n",
       "      <td>346.0</td>\n",
       "      <td>10999</td>\n",
       "      <td>https://m.media-amazon.com/images/I/71EN6N9kUE...</td>\n",
       "      <td>https://www.amazon.in/realme-Storage-Comfort-R...</td>\n",
       "    </tr>\n",
       "    <tr>\n",
       "      <th>3</th>\n",
       "      <td>realme NARZO N61 (Voyage Blue,6GB RAM+128GB St...</td>\n",
       "      <td>4.1</td>\n",
       "      <td>346.0</td>\n",
       "      <td>10999</td>\n",
       "      <td>https://m.media-amazon.com/images/I/71r0Ysx+oV...</td>\n",
       "      <td>https://www.amazon.in/realme-Storage-Comfort-R...</td>\n",
       "    </tr>\n",
       "    <tr>\n",
       "      <th>4</th>\n",
       "      <td>POCO C61 Ethereal Blue 4GB RAM 64GB ROM</td>\n",
       "      <td>3.5</td>\n",
       "      <td>27.0</td>\n",
       "      <td>8999</td>\n",
       "      <td>https://m.media-amazon.com/images/I/712tqhtIw1...</td>\n",
       "      <td>https://www.amazon.in/POCO-C61-Ethereal-Blue-6...</td>\n",
       "    </tr>\n",
       "  </tbody>\n",
       "</table>\n",
       "</div>"
      ],
      "text/plain": [
       "                                               Title  Rating  Reviews  Price  \\\n",
       "0  Redmi Note 13 Pro+ (Fusion Black, 8GB RAM, 256...     3.8    684.0  33999   \n",
       "1  Samsung Galaxy M05 (Mint Green, 4GB RAM, 64 GB...     3.8     60.0   9999   \n",
       "2  realme NARZO N61 (Marble Black,6GB RAM+128GB S...     4.1    346.0  10999   \n",
       "3  realme NARZO N61 (Voyage Blue,6GB RAM+128GB St...     4.1    346.0  10999   \n",
       "4            POCO C61 Ethereal Blue 4GB RAM 64GB ROM     3.5     27.0   8999   \n",
       "\n",
       "                                           Image URL  \\\n",
       "0  https://m.media-amazon.com/images/I/71nrf4zgq5...   \n",
       "1  https://m.media-amazon.com/images/I/81T3olLXpU...   \n",
       "2  https://m.media-amazon.com/images/I/71EN6N9kUE...   \n",
       "3  https://m.media-amazon.com/images/I/71r0Ysx+oV...   \n",
       "4  https://m.media-amazon.com/images/I/712tqhtIw1...   \n",
       "\n",
       "                                         Product URL  \n",
       "0  https://www.amazon.in/sspa/click?ie=UTF8&spc=M...  \n",
       "1  https://www.amazon.in/Samsung-Storage-Display-...  \n",
       "2  https://www.amazon.in/realme-Storage-Comfort-R...  \n",
       "3  https://www.amazon.in/realme-Storage-Comfort-R...  \n",
       "4  https://www.amazon.in/POCO-C61-Ethereal-Blue-6...  "
      ]
     },
     "execution_count": 67,
     "metadata": {},
     "output_type": "execute_result"
    }
   ],
   "source": [
    "df2.head()"
   ]
  },
  {
   "cell_type": "code",
   "execution_count": 68,
   "metadata": {},
   "outputs": [
    {
     "data": {
      "text/plain": [
       "Title           object\n",
       "Rating         float64\n",
       "Reviews        float64\n",
       "Price            int64\n",
       "Image URL       object\n",
       "Product URL     object\n",
       "dtype: object"
      ]
     },
     "execution_count": 68,
     "metadata": {},
     "output_type": "execute_result"
    }
   ],
   "source": [
    "df2.dtypes"
   ]
  },
  {
   "cell_type": "code",
   "execution_count": 69,
   "metadata": {},
   "outputs": [
    {
     "data": {
      "text/plain": [
       "\"Redmi Note 13 Pro+ (Fusion Black, 8GB RAM, 256GB Storage) | World's First Mediatek 7200 Ultra 5G | 200MP Hi-Res Camera | 1.5K Curved AMOLED | 120W HyperCharge\""
      ]
     },
     "execution_count": 69,
     "metadata": {},
     "output_type": "execute_result"
    }
   ],
   "source": [
    "df2[\"Title\"].iloc[0]"
   ]
  },
  {
   "cell_type": "code",
   "execution_count": 70,
   "metadata": {},
   "outputs": [
    {
     "data": {
      "text/plain": [
       "'Samsung Galaxy M05 (Mint Green, 4GB RAM, 64 GB Storage) | 50MP Dual Camera | Bigger 6.7\" HD+ Display | 5000mAh Battery | 25W Fast Charging | 2 Gen OS Upgrade & 4 Year Security Update | Without Charger'"
      ]
     },
     "execution_count": 70,
     "metadata": {},
     "output_type": "execute_result"
    }
   ],
   "source": [
    "df2[\"Title\"].iloc[1]"
   ]
  },
  {
   "cell_type": "code",
   "execution_count": 71,
   "metadata": {},
   "outputs": [],
   "source": [
    "df3=df2"
   ]
  },
  {
   "cell_type": "code",
   "execution_count": 72,
   "metadata": {},
   "outputs": [
    {
     "data": {
      "text/plain": [
       "<Axes: xlabel='Price', ylabel='Density'>"
      ]
     },
     "execution_count": 72,
     "metadata": {},
     "output_type": "execute_result"
    },
    {
     "data": {
      "image/png": "[encoded data removed]",
      "text/plain": [
       "<Figure size 640x480 with 1 Axes>"
      ]
     },
     "metadata": {},
     "output_type": "display_data"
    }
   ],
   "source": [
    "sns.kdeplot(data=df3,x=\"Price\")"
   ]
  },
  {
   "cell_type": "code",
   "execution_count": 73,
   "metadata": {},
   "outputs": [
    {
     "data": {
      "text/plain": [
       "<Axes: xlabel='Price'>"
      ]
     },
     "execution_count": 73,
     "metadata": {},
     "output_type": "execute_result"
    },
    {
     "data": {
      "image/png": "[encoded data removed]",
      "text/plain": [
       "<Figure size 640x480 with 1 Axes>"
      ]
     },
     "metadata": {},
     "output_type": "display_data"
    }
   ],
   "source": [
    "sns.boxplot(data=df3,x=\"Price\")"
   ]
  },
  {
   "cell_type": "code",
   "execution_count": 74,
   "metadata": {},
   "outputs": [
    {
     "data": {
      "text/plain": [
       "'realme NARZO N61 (Marble Black,6GB RAM+128GB Storage) 90Hz Eye Comfort Display | IP54 Dust & Water Resistance | 48-Month Fluency | Charger in The Box'"
      ]
     },
     "execution_count": 74,
     "metadata": {},
     "output_type": "execute_result"
    }
   ],
   "source": [
    "df3[\"Title\"].iloc[2]"
   ]
  },
  {
   "cell_type": "code",
   "execution_count": 75,
   "metadata": {},
   "outputs": [],
   "source": [
    "df4=df3"
   ]
  },
  {
   "cell_type": "code",
   "execution_count": 76,
   "metadata": {},
   "outputs": [],
   "source": [
    "str1=\"Samsung Galaxy M05 (Mint Green, 4GB RAM, 64 GB Storage)\"\n",
    "import re\n",
    "pat=\"\\((.*?)\\)\"\n",
    "da=re.findall(pat,str1)"
   ]
  },
  {
   "cell_type": "code",
   "execution_count": 77,
   "metadata": {},
   "outputs": [],
   "source": [
    "str2=str(da)"
   ]
  },
  {
   "cell_type": "code",
   "execution_count": 78,
   "metadata": {},
   "outputs": [
    {
     "data": {
      "text/plain": [
       "\"'Mint Green, 4GB RAM, 64 GB Storage'\""
      ]
     },
     "execution_count": 78,
     "metadata": {},
     "output_type": "execute_result"
    }
   ],
   "source": [
    "str2=str2.replace(\"[\",\"\")\n",
    "str2=str2.replace(\"]\",\"\")\n",
    "str2"
   ]
  },
  {
   "cell_type": "code",
   "execution_count": 79,
   "metadata": {},
   "outputs": [
    {
     "data": {
      "text/plain": [
       "'Mint Green, 4GB RAM, 64 GB Storage'"
      ]
     },
     "execution_count": 79,
     "metadata": {},
     "output_type": "execute_result"
    }
   ],
   "source": [
    "str2=str2.replace(\"'\",\"\")\n",
    "str2"
   ]
  },
  {
   "cell_type": "code",
   "execution_count": 80,
   "metadata": {},
   "outputs": [],
   "source": [
    "def pre_process_feature1(data):\n",
    "    pat=\"\\((.*?)\\)\"\n",
    "    da=re.findall(pat,data)\n",
    "    str2=str(da)\n",
    "    str2=str2.replace(\"[\",\"\")\n",
    "    str2=str2.replace(\"]\",\"\")\n",
    "    str2=str2.replace(\"'\",\"\")\n",
    "    return str2"
   ]
  },
  {
   "cell_type": "code",
   "execution_count": 81,
   "metadata": {},
   "outputs": [],
   "source": [
    "df4[\"features-1\"]=df4[\"Title\"].apply(pre_process_feature1)"
   ]
  },
  {
   "cell_type": "code",
   "execution_count": 82,
   "metadata": {},
   "outputs": [
    {
     "data": {
      "text/plain": [
       "Title                    POCO C61 Ethereal Blue 4GB RAM 64GB ROM\n",
       "Rating                                                       3.5\n",
       "Reviews                                                     27.0\n",
       "Price                                                       8999\n",
       "Image URL      https://m.media-amazon.com/images/I/712tqhtIw1...\n",
       "Product URL    https://www.amazon.in/POCO-C61-Ethereal-Blue-6...\n",
       "features-1                                                      \n",
       "Name: 4, dtype: object"
      ]
     },
     "execution_count": 82,
     "metadata": {},
     "output_type": "execute_result"
    }
   ],
   "source": [
    "df4.iloc[4]"
   ]
  },
  {
   "cell_type": "code",
   "execution_count": 83,
   "metadata": {},
   "outputs": [
    {
     "data": {
      "text/plain": [
       "'realme NARZO N61 (Voyage Blue,6GB RAM+128GB Storage) 90Hz Eye Comfort Display | IP54 Dust & Water Resistance | 48-Month Fluency | Charger in The Box'"
      ]
     },
     "execution_count": 83,
     "metadata": {},
     "output_type": "execute_result"
    }
   ],
   "source": [
    "df4[\"Title\"].iloc[3]"
   ]
  },
  {
   "cell_type": "code",
   "execution_count": 84,
   "metadata": {},
   "outputs": [],
   "source": [
    "str1=\"realme NARZO N61 (Voyage Blue,6GB RAM+128GB Storage) 90Hz Eye Comfort Display | IP54 Dust & Water Resistance | 48-Month Fluency | Charger in The Box\"\n",
    "pat=\"^(.*?)\\s*\\(\"\n",
    "d=re.findall(pat,str1)\n"
   ]
  },
  {
   "cell_type": "code",
   "execution_count": 85,
   "metadata": {},
   "outputs": [
    {
     "data": {
      "text/plain": [
       "['realme NARZO N61']"
      ]
     },
     "execution_count": 85,
     "metadata": {},
     "output_type": "execute_result"
    }
   ],
   "source": [
    "d"
   ]
  },
  {
   "cell_type": "code",
   "execution_count": 86,
   "metadata": {},
   "outputs": [
    {
     "name": "stdout",
     "output_type": "stream",
     "text": [
      "realme NARZO N61\n"
     ]
    }
   ],
   "source": [
    "str2=str(d)\n",
    "str2=str2.replace(\"[\",\"\").replace(\"]\",\"\").replace(\"'\",\"\")\n",
    "print(str2)"
   ]
  },
  {
   "cell_type": "code",
   "execution_count": 87,
   "metadata": {},
   "outputs": [
    {
     "data": {
      "text/plain": [
       "str"
      ]
     },
     "execution_count": 87,
     "metadata": {},
     "output_type": "execute_result"
    }
   ],
   "source": [
    "type(str2)"
   ]
  },
  {
   "cell_type": "code",
   "execution_count": 88,
   "metadata": {},
   "outputs": [],
   "source": [
    "def extract_company(data):\n",
    "    pat=\"^(.*?)\\s*\\(\"\n",
    "    if re.match(pat,data):\n",
    "        da=re.findall(pat,data)\n",
    "        str2=str(da)\n",
    "        str2=str2.replace(\"[\",\"\").replace(\"]\",\"\").replace(\"'\",\"\")\n",
    "        return str2\n",
    "    else:\n",
    "        return data\n"
   ]
  },
  {
   "cell_type": "code",
   "execution_count": 89,
   "metadata": {},
   "outputs": [],
   "source": [
    "df5=df4"
   ]
  },
  {
   "cell_type": "code",
   "execution_count": 90,
   "metadata": {},
   "outputs": [],
   "source": [
    "df5[\"Company and Specifications\"]=df5[\"Title\"].apply(extract_company)"
   ]
  },
  {
   "cell_type": "code",
   "execution_count": 91,
   "metadata": {},
   "outputs": [
    {
     "data": {
      "text/html": [
       "<div>\n",
       "<style scoped>\n",
       "    .dataframe tbody tr th:only-of-type {\n",
       "        vertical-align: middle;\n",
       "    }\n",
       "\n",
       "    .dataframe tbody tr th {\n",
       "        vertical-align: top;\n",
       "    }\n",
       "\n",
       "    .dataframe thead th {\n",
       "        text-align: right;\n",
       "    }\n",
       "</style>\n",
       "<table border=\"1\" class=\"dataframe\">\n",
       "  <thead>\n",
       "    <tr style=\"text-align: right;\">\n",
       "      <th></th>\n",
       "      <th>Title</th>\n",
       "      <th>Rating</th>\n",
       "      <th>Reviews</th>\n",
       "      <th>Price</th>\n",
       "      <th>Image URL</th>\n",
       "      <th>Product URL</th>\n",
       "      <th>features-1</th>\n",
       "      <th>Company and Specifications</th>\n",
       "    </tr>\n",
       "  </thead>\n",
       "  <tbody>\n",
       "    <tr>\n",
       "      <th>0</th>\n",
       "      <td>Redmi Note 13 Pro+ (Fusion Black, 8GB RAM, 256...</td>\n",
       "      <td>3.8</td>\n",
       "      <td>684.0</td>\n",
       "      <td>33999</td>\n",
       "      <td>https://m.media-amazon.com/images/I/71nrf4zgq5...</td>\n",
       "      <td>https://www.amazon.in/sspa/click?ie=UTF8&amp;spc=M...</td>\n",
       "      <td>Fusion Black, 8GB RAM, 256GB Storage</td>\n",
       "      <td>Redmi Note 13 Pro+</td>\n",
       "    </tr>\n",
       "    <tr>\n",
       "      <th>1</th>\n",
       "      <td>Samsung Galaxy M05 (Mint Green, 4GB RAM, 64 GB...</td>\n",
       "      <td>3.8</td>\n",
       "      <td>60.0</td>\n",
       "      <td>9999</td>\n",
       "      <td>https://m.media-amazon.com/images/I/81T3olLXpU...</td>\n",
       "      <td>https://www.amazon.in/Samsung-Storage-Display-...</td>\n",
       "      <td>Mint Green, 4GB RAM, 64 GB Storage</td>\n",
       "      <td>Samsung Galaxy M05</td>\n",
       "    </tr>\n",
       "    <tr>\n",
       "      <th>2</th>\n",
       "      <td>realme NARZO N61 (Marble Black,6GB RAM+128GB S...</td>\n",
       "      <td>4.1</td>\n",
       "      <td>346.0</td>\n",
       "      <td>10999</td>\n",
       "      <td>https://m.media-amazon.com/images/I/71EN6N9kUE...</td>\n",
       "      <td>https://www.amazon.in/realme-Storage-Comfort-R...</td>\n",
       "      <td>Marble Black,6GB RAM+128GB Storage</td>\n",
       "      <td>realme NARZO N61</td>\n",
       "    </tr>\n",
       "    <tr>\n",
       "      <th>3</th>\n",
       "      <td>realme NARZO N61 (Voyage Blue,6GB RAM+128GB St...</td>\n",
       "      <td>4.1</td>\n",
       "      <td>346.0</td>\n",
       "      <td>10999</td>\n",
       "      <td>https://m.media-amazon.com/images/I/71r0Ysx+oV...</td>\n",
       "      <td>https://www.amazon.in/realme-Storage-Comfort-R...</td>\n",
       "      <td>Voyage Blue,6GB RAM+128GB Storage</td>\n",
       "      <td>realme NARZO N61</td>\n",
       "    </tr>\n",
       "    <tr>\n",
       "      <th>4</th>\n",
       "      <td>POCO C61 Ethereal Blue 4GB RAM 64GB ROM</td>\n",
       "      <td>3.5</td>\n",
       "      <td>27.0</td>\n",
       "      <td>8999</td>\n",
       "      <td>https://m.media-amazon.com/images/I/712tqhtIw1...</td>\n",
       "      <td>https://www.amazon.in/POCO-C61-Ethereal-Blue-6...</td>\n",
       "      <td></td>\n",
       "      <td>POCO C61 Ethereal Blue 4GB RAM 64GB ROM</td>\n",
       "    </tr>\n",
       "  </tbody>\n",
       "</table>\n",
       "</div>"
      ],
      "text/plain": [
       "                                               Title  Rating  Reviews  Price  \\\n",
       "0  Redmi Note 13 Pro+ (Fusion Black, 8GB RAM, 256...     3.8    684.0  33999   \n",
       "1  Samsung Galaxy M05 (Mint Green, 4GB RAM, 64 GB...     3.8     60.0   9999   \n",
       "2  realme NARZO N61 (Marble Black,6GB RAM+128GB S...     4.1    346.0  10999   \n",
       "3  realme NARZO N61 (Voyage Blue,6GB RAM+128GB St...     4.1    346.0  10999   \n",
       "4            POCO C61 Ethereal Blue 4GB RAM 64GB ROM     3.5     27.0   8999   \n",
       "\n",
       "                                           Image URL  \\\n",
       "0  https://m.media-amazon.com/images/I/71nrf4zgq5...   \n",
       "1  https://m.media-amazon.com/images/I/81T3olLXpU...   \n",
       "2  https://m.media-amazon.com/images/I/71EN6N9kUE...   \n",
       "3  https://m.media-amazon.com/images/I/71r0Ysx+oV...   \n",
       "4  https://m.media-amazon.com/images/I/712tqhtIw1...   \n",
       "\n",
       "                                         Product URL  \\\n",
       "0  https://www.amazon.in/sspa/click?ie=UTF8&spc=M...   \n",
       "1  https://www.amazon.in/Samsung-Storage-Display-...   \n",
       "2  https://www.amazon.in/realme-Storage-Comfort-R...   \n",
       "3  https://www.amazon.in/realme-Storage-Comfort-R...   \n",
       "4  https://www.amazon.in/POCO-C61-Ethereal-Blue-6...   \n",
       "\n",
       "                             features-1  \\\n",
       "0  Fusion Black, 8GB RAM, 256GB Storage   \n",
       "1    Mint Green, 4GB RAM, 64 GB Storage   \n",
       "2    Marble Black,6GB RAM+128GB Storage   \n",
       "3     Voyage Blue,6GB RAM+128GB Storage   \n",
       "4                                         \n",
       "\n",
       "                Company and Specifications  \n",
       "0                       Redmi Note 13 Pro+  \n",
       "1                       Samsung Galaxy M05  \n",
       "2                         realme NARZO N61  \n",
       "3                         realme NARZO N61  \n",
       "4  POCO C61 Ethereal Blue 4GB RAM 64GB ROM  "
      ]
     },
     "execution_count": 91,
     "metadata": {},
     "output_type": "execute_result"
    }
   ],
   "source": [
    "df5.head()"
   ]
  },
  {
   "cell_type": "code",
   "execution_count": 92,
   "metadata": {},
   "outputs": [
    {
     "data": {
      "text/plain": [
       "'realme NARZO N61 (Voyage Blue,6GB RAM+128GB Storage) 90Hz Eye Comfort Display | IP54 Dust & Water Resistance | 48-Month Fluency | Charger in The Box'"
      ]
     },
     "execution_count": 92,
     "metadata": {},
     "output_type": "execute_result"
    }
   ],
   "source": [
    "df5[\"Title\"].iloc[3]"
   ]
  },
  {
   "cell_type": "code",
   "execution_count": 93,
   "metadata": {},
   "outputs": [
    {
     "data": {
      "text/plain": [
       "'| 50MP Triple Cam| 5000mAh Battery| Snapdragon 7 Gen 1 | 4 Gen. OS Upgrade & 5 Year Security Update| Super AMOLED+ Display| Without Charger'"
      ]
     },
     "execution_count": 93,
     "metadata": {},
     "output_type": "execute_result"
    }
   ],
   "source": [
    "str1=\"Samsung Galaxy M55s 5G (Thunder Black,8GB RAM,128GB Storage) | 50MP Triple Cam| 5000mAh Battery| Snapdragon 7 Gen 1 | 4 Gen. OS Upgrade & 5 Year Security Update| Super AMOLED+ Display| Without Charger\"\n",
    "str1=str1.split(\")\")[1].strip()\n",
    "str1"
   ]
  },
  {
   "cell_type": "code",
   "execution_count": 94,
   "metadata": {},
   "outputs": [
    {
     "data": {
      "text/plain": [
       "' 50MPTripleCam 5000mAhBattery Snapdragon7Gen1'"
      ]
     },
     "execution_count": 94,
     "metadata": {},
     "output_type": "execute_result"
    }
   ],
   "source": [
    "str2=str1.split(\"|\")[0:4]\n",
    "str2=str(str2)\n",
    "str2=str2.replace(\"[\",\"\").replace(\" \",\"\").replace(\"]\",\"\").replace(\"'\",\"\").replace(\",\",\" \")\n",
    "str2\n"
   ]
  },
  {
   "cell_type": "code",
   "execution_count": 95,
   "metadata": {},
   "outputs": [],
   "source": [
    "def details1(data):\n",
    "    try:\n",
    "        str1=data.split(\")\")[1].strip()\n",
    "        str2=str1.split(\"|\")[0:4]\n",
    "        str2=str(str2)\n",
    "        str2=str2.replace(\"[\",\"\").replace(\" \",\"\").replace(\"]\",\"\").replace(\"'\",\"\").replace(\",\",\" \")\n",
    "        return str2\n",
    "    except IndexError:\n",
    "        return data\n",
    "        "
   ]
  },
  {
   "cell_type": "code",
   "execution_count": 96,
   "metadata": {},
   "outputs": [],
   "source": [
    "df6=df5"
   ]
  },
  {
   "cell_type": "code",
   "execution_count": 97,
   "metadata": {},
   "outputs": [],
   "source": [
    "df6[\"Deatils-1\"]=df6[\"Title\"].apply(details1)"
   ]
  },
  {
   "cell_type": "code",
   "execution_count": 98,
   "metadata": {},
   "outputs": [
    {
     "data": {
      "text/html": [
       "<div>\n",
       "<style scoped>\n",
       "    .dataframe tbody tr th:only-of-type {\n",
       "        vertical-align: middle;\n",
       "    }\n",
       "\n",
       "    .dataframe tbody tr th {\n",
       "        vertical-align: top;\n",
       "    }\n",
       "\n",
       "    .dataframe thead th {\n",
       "        text-align: right;\n",
       "    }\n",
       "</style>\n",
       "<table border=\"1\" class=\"dataframe\">\n",
       "  <thead>\n",
       "    <tr style=\"text-align: right;\">\n",
       "      <th></th>\n",
       "      <th>Title</th>\n",
       "      <th>Rating</th>\n",
       "      <th>Reviews</th>\n",
       "      <th>Price</th>\n",
       "      <th>Image URL</th>\n",
       "      <th>Product URL</th>\n",
       "      <th>features-1</th>\n",
       "      <th>Company and Specifications</th>\n",
       "      <th>Deatils-1</th>\n",
       "    </tr>\n",
       "  </thead>\n",
       "  <tbody>\n",
       "    <tr>\n",
       "      <th>0</th>\n",
       "      <td>Redmi Note 13 Pro+ (Fusion Black, 8GB RAM, 256...</td>\n",
       "      <td>3.8</td>\n",
       "      <td>684.000000</td>\n",
       "      <td>33999</td>\n",
       "      <td>https://m.media-amazon.com/images/I/71nrf4zgq5...</td>\n",
       "      <td>https://www.amazon.in/sspa/click?ie=UTF8&amp;spc=M...</td>\n",
       "      <td>Fusion Black, 8GB RAM, 256GB Storage</td>\n",
       "      <td>Redmi Note 13 Pro+</td>\n",
       "      <td>\"WorldsFirstMediatek7200Ultra5G\" 200MPHi-ResC...</td>\n",
       "    </tr>\n",
       "    <tr>\n",
       "      <th>1</th>\n",
       "      <td>Samsung Galaxy M05 (Mint Green, 4GB RAM, 64 GB...</td>\n",
       "      <td>3.8</td>\n",
       "      <td>60.000000</td>\n",
       "      <td>9999</td>\n",
       "      <td>https://m.media-amazon.com/images/I/81T3olLXpU...</td>\n",
       "      <td>https://www.amazon.in/Samsung-Storage-Display-...</td>\n",
       "      <td>Mint Green, 4GB RAM, 64 GB Storage</td>\n",
       "      <td>Samsung Galaxy M05</td>\n",
       "      <td>50MPDualCamera Bigger6.7\"HD+Display 5000mAhBa...</td>\n",
       "    </tr>\n",
       "    <tr>\n",
       "      <th>2</th>\n",
       "      <td>realme NARZO N61 (Marble Black,6GB RAM+128GB S...</td>\n",
       "      <td>4.1</td>\n",
       "      <td>346.000000</td>\n",
       "      <td>10999</td>\n",
       "      <td>https://m.media-amazon.com/images/I/71EN6N9kUE...</td>\n",
       "      <td>https://www.amazon.in/realme-Storage-Comfort-R...</td>\n",
       "      <td>Marble Black,6GB RAM+128GB Storage</td>\n",
       "      <td>realme NARZO N61</td>\n",
       "      <td>90HzEyeComfortDisplay IP54Dust&amp;WaterResistance...</td>\n",
       "    </tr>\n",
       "    <tr>\n",
       "      <th>3</th>\n",
       "      <td>realme NARZO N61 (Voyage Blue,6GB RAM+128GB St...</td>\n",
       "      <td>4.1</td>\n",
       "      <td>346.000000</td>\n",
       "      <td>10999</td>\n",
       "      <td>https://m.media-amazon.com/images/I/71r0Ysx+oV...</td>\n",
       "      <td>https://www.amazon.in/realme-Storage-Comfort-R...</td>\n",
       "      <td>Voyage Blue,6GB RAM+128GB Storage</td>\n",
       "      <td>realme NARZO N61</td>\n",
       "      <td>90HzEyeComfortDisplay IP54Dust&amp;WaterResistance...</td>\n",
       "    </tr>\n",
       "    <tr>\n",
       "      <th>4</th>\n",
       "      <td>POCO C61 Ethereal Blue 4GB RAM 64GB ROM</td>\n",
       "      <td>3.5</td>\n",
       "      <td>27.000000</td>\n",
       "      <td>8999</td>\n",
       "      <td>https://m.media-amazon.com/images/I/712tqhtIw1...</td>\n",
       "      <td>https://www.amazon.in/POCO-C61-Ethereal-Blue-6...</td>\n",
       "      <td></td>\n",
       "      <td>POCO C61 Ethereal Blue 4GB RAM 64GB ROM</td>\n",
       "      <td>POCO C61 Ethereal Blue 4GB RAM 64GB ROM</td>\n",
       "    </tr>\n",
       "    <tr>\n",
       "      <th>...</th>\n",
       "      <td>...</td>\n",
       "      <td>...</td>\n",
       "      <td>...</td>\n",
       "      <td>...</td>\n",
       "      <td>...</td>\n",
       "      <td>...</td>\n",
       "      <td>...</td>\n",
       "      <td>...</td>\n",
       "      <td>...</td>\n",
       "    </tr>\n",
       "    <tr>\n",
       "      <th>1577</th>\n",
       "      <td>(Refurbished) iQOO Neo 7 Pro 5G (Dark Storm, 8...</td>\n",
       "      <td>0.0</td>\n",
       "      <td>3655.046194</td>\n",
       "      <td>39999</td>\n",
       "      <td>https://m.media-amazon.com/images/I/611rQWZa5r...</td>\n",
       "      <td>https://www.amazon.in/Refurbished-iQOO-Snapdra...</td>\n",
       "      <td>Refurbished, Dark Storm, 8Gb Ram, 128Gb Storage</td>\n",
       "      <td></td>\n",
       "      <td>iQOONeo7Pro5G(DarkStorm 8GbRam 128GbStorage</td>\n",
       "    </tr>\n",
       "    <tr>\n",
       "      <th>1578</th>\n",
       "      <td>(Refurbished) iQOO Z6 Lite 5G (Stellar Green, ...</td>\n",
       "      <td>3.7</td>\n",
       "      <td>5.000000</td>\n",
       "      <td>15999</td>\n",
       "      <td>https://m.media-amazon.com/images/I/61VbKHdE0r...</td>\n",
       "      <td>https://www.amazon.in/iQOO-Z6-Lite-Snapdragon-...</td>\n",
       "      <td>Refurbished, Stellar Green, 4GB RAM, 64GB Storage</td>\n",
       "      <td></td>\n",
       "      <td>iQOOZ6Lite5G(StellarGreen 4GBRAM 64GBStorage</td>\n",
       "    </tr>\n",
       "    <tr>\n",
       "      <th>1579</th>\n",
       "      <td>(Refurbished) iQOO Z3 5G (Cyber Blue, 8GB RAM,...</td>\n",
       "      <td>4.0</td>\n",
       "      <td>65.000000</td>\n",
       "      <td>26990</td>\n",
       "      <td>https://m.media-amazon.com/images/I/61R3cVyCcJ...</td>\n",
       "      <td>https://www.amazon.in/Renewed-iQOO-Cyber-256GB...</td>\n",
       "      <td>Refurbished, Cyber Blue, 8GB RAM, 256GB Storage</td>\n",
       "      <td></td>\n",
       "      <td>iQOOZ35G(CyberBlue 8GBRAM 256GBStorage</td>\n",
       "    </tr>\n",
       "    <tr>\n",
       "      <th>1580</th>\n",
       "      <td>(Refurbished) iQOO Neo 7 Pro 5G (Dark Storm, 1...</td>\n",
       "      <td>5.0</td>\n",
       "      <td>1.000000</td>\n",
       "      <td>42999</td>\n",
       "      <td>https://m.media-amazon.com/images/I/611rQWZa5r...</td>\n",
       "      <td>https://www.amazon.in/Refurbished-iQOO-Snapdra...</td>\n",
       "      <td>Refurbished, Dark Storm, 12Gb Ram, 256Gb Storage</td>\n",
       "      <td></td>\n",
       "      <td>iQOONeo7Pro5G(DarkStorm 12GbRam 256GbStorage</td>\n",
       "    </tr>\n",
       "    <tr>\n",
       "      <th>1581</th>\n",
       "      <td>(Refurbished) iQOO 11 5G (Legend, 16GB RAM, 25...</td>\n",
       "      <td>1.0</td>\n",
       "      <td>1.000000</td>\n",
       "      <td>66999</td>\n",
       "      <td>https://m.media-amazon.com/images/I/71ZeuCAbcS...</td>\n",
       "      <td>https://www.amazon.in/Refurbished-iQOO-Snapdra...</td>\n",
       "      <td>Refurbished, Legend, 16GB RAM, 256 GB Storage</td>\n",
       "      <td></td>\n",
       "      <td>iQOO115G(Legend 16GBRAM 256GBStorage</td>\n",
       "    </tr>\n",
       "  </tbody>\n",
       "</table>\n",
       "<p>1582 rows × 9 columns</p>\n",
       "</div>"
      ],
      "text/plain": [
       "                                                  Title  Rating      Reviews  \\\n",
       "0     Redmi Note 13 Pro+ (Fusion Black, 8GB RAM, 256...     3.8   684.000000   \n",
       "1     Samsung Galaxy M05 (Mint Green, 4GB RAM, 64 GB...     3.8    60.000000   \n",
       "2     realme NARZO N61 (Marble Black,6GB RAM+128GB S...     4.1   346.000000   \n",
       "3     realme NARZO N61 (Voyage Blue,6GB RAM+128GB St...     4.1   346.000000   \n",
       "4               POCO C61 Ethereal Blue 4GB RAM 64GB ROM     3.5    27.000000   \n",
       "...                                                 ...     ...          ...   \n",
       "1577  (Refurbished) iQOO Neo 7 Pro 5G (Dark Storm, 8...     0.0  3655.046194   \n",
       "1578  (Refurbished) iQOO Z6 Lite 5G (Stellar Green, ...     3.7     5.000000   \n",
       "1579  (Refurbished) iQOO Z3 5G (Cyber Blue, 8GB RAM,...     4.0    65.000000   \n",
       "1580  (Refurbished) iQOO Neo 7 Pro 5G (Dark Storm, 1...     5.0     1.000000   \n",
       "1581  (Refurbished) iQOO 11 5G (Legend, 16GB RAM, 25...     1.0     1.000000   \n",
       "\n",
       "      Price                                          Image URL  \\\n",
       "0     33999  https://m.media-amazon.com/images/I/71nrf4zgq5...   \n",
       "1      9999  https://m.media-amazon.com/images/I/81T3olLXpU...   \n",
       "2     10999  https://m.media-amazon.com/images/I/71EN6N9kUE...   \n",
       "3     10999  https://m.media-amazon.com/images/I/71r0Ysx+oV...   \n",
       "4      8999  https://m.media-amazon.com/images/I/712tqhtIw1...   \n",
       "...     ...                                                ...   \n",
       "1577  39999  https://m.media-amazon.com/images/I/611rQWZa5r...   \n",
       "1578  15999  https://m.media-amazon.com/images/I/61VbKHdE0r...   \n",
       "1579  26990  https://m.media-amazon.com/images/I/61R3cVyCcJ...   \n",
       "1580  42999  https://m.media-amazon.com/images/I/611rQWZa5r...   \n",
       "1581  66999  https://m.media-amazon.com/images/I/71ZeuCAbcS...   \n",
       "\n",
       "                                            Product URL  \\\n",
       "0     https://www.amazon.in/sspa/click?ie=UTF8&spc=M...   \n",
       "1     https://www.amazon.in/Samsung-Storage-Display-...   \n",
       "2     https://www.amazon.in/realme-Storage-Comfort-R...   \n",
       "3     https://www.amazon.in/realme-Storage-Comfort-R...   \n",
       "4     https://www.amazon.in/POCO-C61-Ethereal-Blue-6...   \n",
       "...                                                 ...   \n",
       "1577  https://www.amazon.in/Refurbished-iQOO-Snapdra...   \n",
       "1578  https://www.amazon.in/iQOO-Z6-Lite-Snapdragon-...   \n",
       "1579  https://www.amazon.in/Renewed-iQOO-Cyber-256GB...   \n",
       "1580  https://www.amazon.in/Refurbished-iQOO-Snapdra...   \n",
       "1581  https://www.amazon.in/Refurbished-iQOO-Snapdra...   \n",
       "\n",
       "                                             features-1  \\\n",
       "0                  Fusion Black, 8GB RAM, 256GB Storage   \n",
       "1                    Mint Green, 4GB RAM, 64 GB Storage   \n",
       "2                    Marble Black,6GB RAM+128GB Storage   \n",
       "3                     Voyage Blue,6GB RAM+128GB Storage   \n",
       "4                                                         \n",
       "...                                                 ...   \n",
       "1577    Refurbished, Dark Storm, 8Gb Ram, 128Gb Storage   \n",
       "1578  Refurbished, Stellar Green, 4GB RAM, 64GB Storage   \n",
       "1579    Refurbished, Cyber Blue, 8GB RAM, 256GB Storage   \n",
       "1580   Refurbished, Dark Storm, 12Gb Ram, 256Gb Storage   \n",
       "1581      Refurbished, Legend, 16GB RAM, 256 GB Storage   \n",
       "\n",
       "                   Company and Specifications  \\\n",
       "0                          Redmi Note 13 Pro+   \n",
       "1                          Samsung Galaxy M05   \n",
       "2                            realme NARZO N61   \n",
       "3                            realme NARZO N61   \n",
       "4     POCO C61 Ethereal Blue 4GB RAM 64GB ROM   \n",
       "...                                       ...   \n",
       "1577                                            \n",
       "1578                                            \n",
       "1579                                            \n",
       "1580                                            \n",
       "1581                                            \n",
       "\n",
       "                                              Deatils-1  \n",
       "0      \"WorldsFirstMediatek7200Ultra5G\" 200MPHi-ResC...  \n",
       "1      50MPDualCamera Bigger6.7\"HD+Display 5000mAhBa...  \n",
       "2     90HzEyeComfortDisplay IP54Dust&WaterResistance...  \n",
       "3     90HzEyeComfortDisplay IP54Dust&WaterResistance...  \n",
       "4               POCO C61 Ethereal Blue 4GB RAM 64GB ROM  \n",
       "...                                                 ...  \n",
       "1577        iQOONeo7Pro5G(DarkStorm 8GbRam 128GbStorage  \n",
       "1578       iQOOZ6Lite5G(StellarGreen 4GBRAM 64GBStorage  \n",
       "1579             iQOOZ35G(CyberBlue 8GBRAM 256GBStorage  \n",
       "1580       iQOONeo7Pro5G(DarkStorm 12GbRam 256GbStorage  \n",
       "1581               iQOO115G(Legend 16GBRAM 256GBStorage  \n",
       "\n",
       "[1582 rows x 9 columns]"
      ]
     },
     "execution_count": 98,
     "metadata": {},
     "output_type": "execute_result"
    }
   ],
   "source": [
    "df6"
   ]
  },
  {
   "cell_type": "code",
   "execution_count": 99,
   "metadata": {},
   "outputs": [],
   "source": [
    "df7=df6.drop(\"Title\",axis=1)"
   ]
  },
  {
   "cell_type": "code",
   "execution_count": 100,
   "metadata": {},
   "outputs": [
    {
     "data": {
      "text/html": [
       "<div>\n",
       "<style scoped>\n",
       "    .dataframe tbody tr th:only-of-type {\n",
       "        vertical-align: middle;\n",
       "    }\n",
       "\n",
       "    .dataframe tbody tr th {\n",
       "        vertical-align: top;\n",
       "    }\n",
       "\n",
       "    .dataframe thead th {\n",
       "        text-align: right;\n",
       "    }\n",
       "</style>\n",
       "<table border=\"1\" class=\"dataframe\">\n",
       "  <thead>\n",
       "    <tr style=\"text-align: right;\">\n",
       "      <th></th>\n",
       "      <th>Rating</th>\n",
       "      <th>Reviews</th>\n",
       "      <th>Price</th>\n",
       "      <th>Image URL</th>\n",
       "      <th>Product URL</th>\n",
       "      <th>features-1</th>\n",
       "      <th>Company and Specifications</th>\n",
       "      <th>Deatils-1</th>\n",
       "    </tr>\n",
       "  </thead>\n",
       "  <tbody>\n",
       "    <tr>\n",
       "      <th>0</th>\n",
       "      <td>3.8</td>\n",
       "      <td>684.000000</td>\n",
       "      <td>33999</td>\n",
       "      <td>https://m.media-amazon.com/images/I/71nrf4zgq5...</td>\n",
       "      <td>https://www.amazon.in/sspa/click?ie=UTF8&amp;spc=M...</td>\n",
       "      <td>Fusion Black, 8GB RAM, 256GB Storage</td>\n",
       "      <td>Redmi Note 13 Pro+</td>\n",
       "      <td>\"WorldsFirstMediatek7200Ultra5G\" 200MPHi-ResC...</td>\n",
       "    </tr>\n",
       "    <tr>\n",
       "      <th>1</th>\n",
       "      <td>3.8</td>\n",
       "      <td>60.000000</td>\n",
       "      <td>9999</td>\n",
       "      <td>https://m.media-amazon.com/images/I/81T3olLXpU...</td>\n",
       "      <td>https://www.amazon.in/Samsung-Storage-Display-...</td>\n",
       "      <td>Mint Green, 4GB RAM, 64 GB Storage</td>\n",
       "      <td>Samsung Galaxy M05</td>\n",
       "      <td>50MPDualCamera Bigger6.7\"HD+Display 5000mAhBa...</td>\n",
       "    </tr>\n",
       "    <tr>\n",
       "      <th>2</th>\n",
       "      <td>4.1</td>\n",
       "      <td>346.000000</td>\n",
       "      <td>10999</td>\n",
       "      <td>https://m.media-amazon.com/images/I/71EN6N9kUE...</td>\n",
       "      <td>https://www.amazon.in/realme-Storage-Comfort-R...</td>\n",
       "      <td>Marble Black,6GB RAM+128GB Storage</td>\n",
       "      <td>realme NARZO N61</td>\n",
       "      <td>90HzEyeComfortDisplay IP54Dust&amp;WaterResistance...</td>\n",
       "    </tr>\n",
       "    <tr>\n",
       "      <th>3</th>\n",
       "      <td>4.1</td>\n",
       "      <td>346.000000</td>\n",
       "      <td>10999</td>\n",
       "      <td>https://m.media-amazon.com/images/I/71r0Ysx+oV...</td>\n",
       "      <td>https://www.amazon.in/realme-Storage-Comfort-R...</td>\n",
       "      <td>Voyage Blue,6GB RAM+128GB Storage</td>\n",
       "      <td>realme NARZO N61</td>\n",
       "      <td>90HzEyeComfortDisplay IP54Dust&amp;WaterResistance...</td>\n",
       "    </tr>\n",
       "    <tr>\n",
       "      <th>4</th>\n",
       "      <td>3.5</td>\n",
       "      <td>27.000000</td>\n",
       "      <td>8999</td>\n",
       "      <td>https://m.media-amazon.com/images/I/712tqhtIw1...</td>\n",
       "      <td>https://www.amazon.in/POCO-C61-Ethereal-Blue-6...</td>\n",
       "      <td></td>\n",
       "      <td>POCO C61 Ethereal Blue 4GB RAM 64GB ROM</td>\n",
       "      <td>POCO C61 Ethereal Blue 4GB RAM 64GB ROM</td>\n",
       "    </tr>\n",
       "    <tr>\n",
       "      <th>...</th>\n",
       "      <td>...</td>\n",
       "      <td>...</td>\n",
       "      <td>...</td>\n",
       "      <td>...</td>\n",
       "      <td>...</td>\n",
       "      <td>...</td>\n",
       "      <td>...</td>\n",
       "      <td>...</td>\n",
       "    </tr>\n",
       "    <tr>\n",
       "      <th>1577</th>\n",
       "      <td>0.0</td>\n",
       "      <td>3655.046194</td>\n",
       "      <td>39999</td>\n",
       "      <td>https://m.media-amazon.com/images/I/611rQWZa5r...</td>\n",
       "      <td>https://www.amazon.in/Refurbished-iQOO-Snapdra...</td>\n",
       "      <td>Refurbished, Dark Storm, 8Gb Ram, 128Gb Storage</td>\n",
       "      <td></td>\n",
       "      <td>iQOONeo7Pro5G(DarkStorm 8GbRam 128GbStorage</td>\n",
       "    </tr>\n",
       "    <tr>\n",
       "      <th>1578</th>\n",
       "      <td>3.7</td>\n",
       "      <td>5.000000</td>\n",
       "      <td>15999</td>\n",
       "      <td>https://m.media-amazon.com/images/I/61VbKHdE0r...</td>\n",
       "      <td>https://www.amazon.in/iQOO-Z6-Lite-Snapdragon-...</td>\n",
       "      <td>Refurbished, Stellar Green, 4GB RAM, 64GB Storage</td>\n",
       "      <td></td>\n",
       "      <td>iQOOZ6Lite5G(StellarGreen 4GBRAM 64GBStorage</td>\n",
       "    </tr>\n",
       "    <tr>\n",
       "      <th>1579</th>\n",
       "      <td>4.0</td>\n",
       "      <td>65.000000</td>\n",
       "      <td>26990</td>\n",
       "      <td>https://m.media-amazon.com/images/I/61R3cVyCcJ...</td>\n",
       "      <td>https://www.amazon.in/Renewed-iQOO-Cyber-256GB...</td>\n",
       "      <td>Refurbished, Cyber Blue, 8GB RAM, 256GB Storage</td>\n",
       "      <td></td>\n",
       "      <td>iQOOZ35G(CyberBlue 8GBRAM 256GBStorage</td>\n",
       "    </tr>\n",
       "    <tr>\n",
       "      <th>1580</th>\n",
       "      <td>5.0</td>\n",
       "      <td>1.000000</td>\n",
       "      <td>42999</td>\n",
       "      <td>https://m.media-amazon.com/images/I/611rQWZa5r...</td>\n",
       "      <td>https://www.amazon.in/Refurbished-iQOO-Snapdra...</td>\n",
       "      <td>Refurbished, Dark Storm, 12Gb Ram, 256Gb Storage</td>\n",
       "      <td></td>\n",
       "      <td>iQOONeo7Pro5G(DarkStorm 12GbRam 256GbStorage</td>\n",
       "    </tr>\n",
       "    <tr>\n",
       "      <th>1581</th>\n",
       "      <td>1.0</td>\n",
       "      <td>1.000000</td>\n",
       "      <td>66999</td>\n",
       "      <td>https://m.media-amazon.com/images/I/71ZeuCAbcS...</td>\n",
       "      <td>https://www.amazon.in/Refurbished-iQOO-Snapdra...</td>\n",
       "      <td>Refurbished, Legend, 16GB RAM, 256 GB Storage</td>\n",
       "      <td></td>\n",
       "      <td>iQOO115G(Legend 16GBRAM 256GBStorage</td>\n",
       "    </tr>\n",
       "  </tbody>\n",
       "</table>\n",
       "<p>1582 rows × 8 columns</p>\n",
       "</div>"
      ],
      "text/plain": [
       "      Rating      Reviews  Price  \\\n",
       "0        3.8   684.000000  33999   \n",
       "1        3.8    60.000000   9999   \n",
       "2        4.1   346.000000  10999   \n",
       "3        4.1   346.000000  10999   \n",
       "4        3.5    27.000000   8999   \n",
       "...      ...          ...    ...   \n",
       "1577     0.0  3655.046194  39999   \n",
       "1578     3.7     5.000000  15999   \n",
       "1579     4.0    65.000000  26990   \n",
       "1580     5.0     1.000000  42999   \n",
       "1581     1.0     1.000000  66999   \n",
       "\n",
       "                                              Image URL  \\\n",
       "0     https://m.media-amazon.com/images/I/71nrf4zgq5...   \n",
       "1     https://m.media-amazon.com/images/I/81T3olLXpU...   \n",
       "2     https://m.media-amazon.com/images/I/71EN6N9kUE...   \n",
       "3     https://m.media-amazon.com/images/I/71r0Ysx+oV...   \n",
       "4     https://m.media-amazon.com/images/I/712tqhtIw1...   \n",
       "...                                                 ...   \n",
       "1577  https://m.media-amazon.com/images/I/611rQWZa5r...   \n",
       "1578  https://m.media-amazon.com/images/I/61VbKHdE0r...   \n",
       "1579  https://m.media-amazon.com/images/I/61R3cVyCcJ...   \n",
       "1580  https://m.media-amazon.com/images/I/611rQWZa5r...   \n",
       "1581  https://m.media-amazon.com/images/I/71ZeuCAbcS...   \n",
       "\n",
       "                                            Product URL  \\\n",
       "0     https://www.amazon.in/sspa/click?ie=UTF8&spc=M...   \n",
       "1     https://www.amazon.in/Samsung-Storage-Display-...   \n",
       "2     https://www.amazon.in/realme-Storage-Comfort-R...   \n",
       "3     https://www.amazon.in/realme-Storage-Comfort-R...   \n",
       "4     https://www.amazon.in/POCO-C61-Ethereal-Blue-6...   \n",
       "...                                                 ...   \n",
       "1577  https://www.amazon.in/Refurbished-iQOO-Snapdra...   \n",
       "1578  https://www.amazon.in/iQOO-Z6-Lite-Snapdragon-...   \n",
       "1579  https://www.amazon.in/Renewed-iQOO-Cyber-256GB...   \n",
       "1580  https://www.amazon.in/Refurbished-iQOO-Snapdra...   \n",
       "1581  https://www.amazon.in/Refurbished-iQOO-Snapdra...   \n",
       "\n",
       "                                             features-1  \\\n",
       "0                  Fusion Black, 8GB RAM, 256GB Storage   \n",
       "1                    Mint Green, 4GB RAM, 64 GB Storage   \n",
       "2                    Marble Black,6GB RAM+128GB Storage   \n",
       "3                     Voyage Blue,6GB RAM+128GB Storage   \n",
       "4                                                         \n",
       "...                                                 ...   \n",
       "1577    Refurbished, Dark Storm, 8Gb Ram, 128Gb Storage   \n",
       "1578  Refurbished, Stellar Green, 4GB RAM, 64GB Storage   \n",
       "1579    Refurbished, Cyber Blue, 8GB RAM, 256GB Storage   \n",
       "1580   Refurbished, Dark Storm, 12Gb Ram, 256Gb Storage   \n",
       "1581      Refurbished, Legend, 16GB RAM, 256 GB Storage   \n",
       "\n",
       "                   Company and Specifications  \\\n",
       "0                          Redmi Note 13 Pro+   \n",
       "1                          Samsung Galaxy M05   \n",
       "2                            realme NARZO N61   \n",
       "3                            realme NARZO N61   \n",
       "4     POCO C61 Ethereal Blue 4GB RAM 64GB ROM   \n",
       "...                                       ...   \n",
       "1577                                            \n",
       "1578                                            \n",
       "1579                                            \n",
       "1580                                            \n",
       "1581                                            \n",
       "\n",
       "                                              Deatils-1  \n",
       "0      \"WorldsFirstMediatek7200Ultra5G\" 200MPHi-ResC...  \n",
       "1      50MPDualCamera Bigger6.7\"HD+Display 5000mAhBa...  \n",
       "2     90HzEyeComfortDisplay IP54Dust&WaterResistance...  \n",
       "3     90HzEyeComfortDisplay IP54Dust&WaterResistance...  \n",
       "4               POCO C61 Ethereal Blue 4GB RAM 64GB ROM  \n",
       "...                                                 ...  \n",
       "1577        iQOONeo7Pro5G(DarkStorm 8GbRam 128GbStorage  \n",
       "1578       iQOOZ6Lite5G(StellarGreen 4GBRAM 64GBStorage  \n",
       "1579             iQOOZ35G(CyberBlue 8GBRAM 256GBStorage  \n",
       "1580       iQOONeo7Pro5G(DarkStorm 12GbRam 256GbStorage  \n",
       "1581               iQOO115G(Legend 16GBRAM 256GBStorage  \n",
       "\n",
       "[1582 rows x 8 columns]"
      ]
     },
     "execution_count": 100,
     "metadata": {},
     "output_type": "execute_result"
    }
   ],
   "source": [
    "df7"
   ]
  },
  {
   "cell_type": "code",
   "execution_count": 101,
   "metadata": {},
   "outputs": [],
   "source": [
    "image_url=df7[\"Image URL\"]\n",
    "product_url=df7[\"Product URL\"]"
   ]
  },
  {
   "cell_type": "code",
   "execution_count": 102,
   "metadata": {},
   "outputs": [],
   "source": [
    "df8=df7.drop([\"Image URL\",\"Product URL\"],axis=1)"
   ]
  },
  {
   "cell_type": "code",
   "execution_count": 103,
   "metadata": {},
   "outputs": [
    {
     "data": {
      "text/plain": [
       "''"
      ]
     },
     "execution_count": 103,
     "metadata": {},
     "output_type": "execute_result"
    }
   ],
   "source": [
    "df8[\"Company and Specifications\"].iloc[1577]"
   ]
  },
  {
   "cell_type": "code",
   "execution_count": 104,
   "metadata": {},
   "outputs": [
    {
     "data": {
      "text/html": [
       "<div>\n",
       "<style scoped>\n",
       "    .dataframe tbody tr th:only-of-type {\n",
       "        vertical-align: middle;\n",
       "    }\n",
       "\n",
       "    .dataframe tbody tr th {\n",
       "        vertical-align: top;\n",
       "    }\n",
       "\n",
       "    .dataframe thead th {\n",
       "        text-align: right;\n",
       "    }\n",
       "</style>\n",
       "<table border=\"1\" class=\"dataframe\">\n",
       "  <thead>\n",
       "    <tr style=\"text-align: right;\">\n",
       "      <th></th>\n",
       "      <th>Rating</th>\n",
       "      <th>Reviews</th>\n",
       "      <th>Price</th>\n",
       "      <th>features-1</th>\n",
       "      <th>Company and Specifications</th>\n",
       "      <th>Deatils-1</th>\n",
       "    </tr>\n",
       "  </thead>\n",
       "  <tbody>\n",
       "    <tr>\n",
       "      <th>0</th>\n",
       "      <td>3.8</td>\n",
       "      <td>684.0</td>\n",
       "      <td>33999</td>\n",
       "      <td>Fusion Black, 8GB RAM, 256GB Storage</td>\n",
       "      <td>Redmi Note 13 Pro+</td>\n",
       "      <td>\"WorldsFirstMediatek7200Ultra5G\" 200MPHi-ResC...</td>\n",
       "    </tr>\n",
       "    <tr>\n",
       "      <th>1</th>\n",
       "      <td>3.8</td>\n",
       "      <td>60.0</td>\n",
       "      <td>9999</td>\n",
       "      <td>Mint Green, 4GB RAM, 64 GB Storage</td>\n",
       "      <td>Samsung Galaxy M05</td>\n",
       "      <td>50MPDualCamera Bigger6.7\"HD+Display 5000mAhBa...</td>\n",
       "    </tr>\n",
       "    <tr>\n",
       "      <th>2</th>\n",
       "      <td>4.1</td>\n",
       "      <td>346.0</td>\n",
       "      <td>10999</td>\n",
       "      <td>Marble Black,6GB RAM+128GB Storage</td>\n",
       "      <td>realme NARZO N61</td>\n",
       "      <td>90HzEyeComfortDisplay IP54Dust&amp;WaterResistance...</td>\n",
       "    </tr>\n",
       "    <tr>\n",
       "      <th>3</th>\n",
       "      <td>4.1</td>\n",
       "      <td>346.0</td>\n",
       "      <td>10999</td>\n",
       "      <td>Voyage Blue,6GB RAM+128GB Storage</td>\n",
       "      <td>realme NARZO N61</td>\n",
       "      <td>90HzEyeComfortDisplay IP54Dust&amp;WaterResistance...</td>\n",
       "    </tr>\n",
       "    <tr>\n",
       "      <th>4</th>\n",
       "      <td>3.5</td>\n",
       "      <td>27.0</td>\n",
       "      <td>8999</td>\n",
       "      <td></td>\n",
       "      <td>POCO C61 Ethereal Blue 4GB RAM 64GB ROM</td>\n",
       "      <td>POCO C61 Ethereal Blue 4GB RAM 64GB ROM</td>\n",
       "    </tr>\n",
       "  </tbody>\n",
       "</table>\n",
       "</div>"
      ],
      "text/plain": [
       "   Rating  Reviews  Price                            features-1  \\\n",
       "0     3.8    684.0  33999  Fusion Black, 8GB RAM, 256GB Storage   \n",
       "1     3.8     60.0   9999    Mint Green, 4GB RAM, 64 GB Storage   \n",
       "2     4.1    346.0  10999    Marble Black,6GB RAM+128GB Storage   \n",
       "3     4.1    346.0  10999     Voyage Blue,6GB RAM+128GB Storage   \n",
       "4     3.5     27.0   8999                                         \n",
       "\n",
       "                Company and Specifications  \\\n",
       "0                       Redmi Note 13 Pro+   \n",
       "1                       Samsung Galaxy M05   \n",
       "2                         realme NARZO N61   \n",
       "3                         realme NARZO N61   \n",
       "4  POCO C61 Ethereal Blue 4GB RAM 64GB ROM   \n",
       "\n",
       "                                           Deatils-1  \n",
       "0   \"WorldsFirstMediatek7200Ultra5G\" 200MPHi-ResC...  \n",
       "1   50MPDualCamera Bigger6.7\"HD+Display 5000mAhBa...  \n",
       "2  90HzEyeComfortDisplay IP54Dust&WaterResistance...  \n",
       "3  90HzEyeComfortDisplay IP54Dust&WaterResistance...  \n",
       "4            POCO C61 Ethereal Blue 4GB RAM 64GB ROM  "
      ]
     },
     "execution_count": 104,
     "metadata": {},
     "output_type": "execute_result"
    }
   ],
   "source": [
    "df8.head()"
   ]
  },
  {
   "cell_type": "code",
   "execution_count": 105,
   "metadata": {},
   "outputs": [
    {
     "data": {
      "text/html": [
       "<div>\n",
       "<style scoped>\n",
       "    .dataframe tbody tr th:only-of-type {\n",
       "        vertical-align: middle;\n",
       "    }\n",
       "\n",
       "    .dataframe tbody tr th {\n",
       "        vertical-align: top;\n",
       "    }\n",
       "\n",
       "    .dataframe thead th {\n",
       "        text-align: right;\n",
       "    }\n",
       "</style>\n",
       "<table border=\"1\" class=\"dataframe\">\n",
       "  <thead>\n",
       "    <tr style=\"text-align: right;\">\n",
       "      <th></th>\n",
       "      <th>Rating</th>\n",
       "      <th>Reviews</th>\n",
       "      <th>Price</th>\n",
       "      <th>Image URL</th>\n",
       "      <th>Product URL</th>\n",
       "      <th>features-1</th>\n",
       "      <th>Company and Specifications</th>\n",
       "      <th>Deatils-1</th>\n",
       "    </tr>\n",
       "  </thead>\n",
       "  <tbody>\n",
       "    <tr>\n",
       "      <th>0</th>\n",
       "      <td>3.8</td>\n",
       "      <td>684.0</td>\n",
       "      <td>33999</td>\n",
       "      <td>https://m.media-amazon.com/images/I/71nrf4zgq5...</td>\n",
       "      <td>https://www.amazon.in/sspa/click?ie=UTF8&amp;spc=M...</td>\n",
       "      <td>Fusion Black, 8GB RAM, 256GB Storage</td>\n",
       "      <td>Redmi Note 13 Pro+</td>\n",
       "      <td>\"WorldsFirstMediatek7200Ultra5G\" 200MPHi-ResC...</td>\n",
       "    </tr>\n",
       "    <tr>\n",
       "      <th>1</th>\n",
       "      <td>3.8</td>\n",
       "      <td>60.0</td>\n",
       "      <td>9999</td>\n",
       "      <td>https://m.media-amazon.com/images/I/81T3olLXpU...</td>\n",
       "      <td>https://www.amazon.in/Samsung-Storage-Display-...</td>\n",
       "      <td>Mint Green, 4GB RAM, 64 GB Storage</td>\n",
       "      <td>Samsung Galaxy M05</td>\n",
       "      <td>50MPDualCamera Bigger6.7\"HD+Display 5000mAhBa...</td>\n",
       "    </tr>\n",
       "    <tr>\n",
       "      <th>2</th>\n",
       "      <td>4.1</td>\n",
       "      <td>346.0</td>\n",
       "      <td>10999</td>\n",
       "      <td>https://m.media-amazon.com/images/I/71EN6N9kUE...</td>\n",
       "      <td>https://www.amazon.in/realme-Storage-Comfort-R...</td>\n",
       "      <td>Marble Black,6GB RAM+128GB Storage</td>\n",
       "      <td>realme NARZO N61</td>\n",
       "      <td>90HzEyeComfortDisplay IP54Dust&amp;WaterResistance...</td>\n",
       "    </tr>\n",
       "    <tr>\n",
       "      <th>3</th>\n",
       "      <td>4.1</td>\n",
       "      <td>346.0</td>\n",
       "      <td>10999</td>\n",
       "      <td>https://m.media-amazon.com/images/I/71r0Ysx+oV...</td>\n",
       "      <td>https://www.amazon.in/realme-Storage-Comfort-R...</td>\n",
       "      <td>Voyage Blue,6GB RAM+128GB Storage</td>\n",
       "      <td>realme NARZO N61</td>\n",
       "      <td>90HzEyeComfortDisplay IP54Dust&amp;WaterResistance...</td>\n",
       "    </tr>\n",
       "    <tr>\n",
       "      <th>4</th>\n",
       "      <td>3.5</td>\n",
       "      <td>27.0</td>\n",
       "      <td>8999</td>\n",
       "      <td>https://m.media-amazon.com/images/I/712tqhtIw1...</td>\n",
       "      <td>https://www.amazon.in/POCO-C61-Ethereal-Blue-6...</td>\n",
       "      <td></td>\n",
       "      <td>POCO C61 Ethereal Blue 4GB RAM 64GB ROM</td>\n",
       "      <td>POCO C61 Ethereal Blue 4GB RAM 64GB ROM</td>\n",
       "    </tr>\n",
       "  </tbody>\n",
       "</table>\n",
       "</div>"
      ],
      "text/plain": [
       "   Rating  Reviews  Price                                          Image URL  \\\n",
       "0     3.8    684.0  33999  https://m.media-amazon.com/images/I/71nrf4zgq5...   \n",
       "1     3.8     60.0   9999  https://m.media-amazon.com/images/I/81T3olLXpU...   \n",
       "2     4.1    346.0  10999  https://m.media-amazon.com/images/I/71EN6N9kUE...   \n",
       "3     4.1    346.0  10999  https://m.media-amazon.com/images/I/71r0Ysx+oV...   \n",
       "4     3.5     27.0   8999  https://m.media-amazon.com/images/I/712tqhtIw1...   \n",
       "\n",
       "                                         Product URL  \\\n",
       "0  https://www.amazon.in/sspa/click?ie=UTF8&spc=M...   \n",
       "1  https://www.amazon.in/Samsung-Storage-Display-...   \n",
       "2  https://www.amazon.in/realme-Storage-Comfort-R...   \n",
       "3  https://www.amazon.in/realme-Storage-Comfort-R...   \n",
       "4  https://www.amazon.in/POCO-C61-Ethereal-Blue-6...   \n",
       "\n",
       "                             features-1  \\\n",
       "0  Fusion Black, 8GB RAM, 256GB Storage   \n",
       "1    Mint Green, 4GB RAM, 64 GB Storage   \n",
       "2    Marble Black,6GB RAM+128GB Storage   \n",
       "3     Voyage Blue,6GB RAM+128GB Storage   \n",
       "4                                         \n",
       "\n",
       "                Company and Specifications  \\\n",
       "0                       Redmi Note 13 Pro+   \n",
       "1                       Samsung Galaxy M05   \n",
       "2                         realme NARZO N61   \n",
       "3                         realme NARZO N61   \n",
       "4  POCO C61 Ethereal Blue 4GB RAM 64GB ROM   \n",
       "\n",
       "                                           Deatils-1  \n",
       "0   \"WorldsFirstMediatek7200Ultra5G\" 200MPHi-ResC...  \n",
       "1   50MPDualCamera Bigger6.7\"HD+Display 5000mAhBa...  \n",
       "2  90HzEyeComfortDisplay IP54Dust&WaterResistance...  \n",
       "3  90HzEyeComfortDisplay IP54Dust&WaterResistance...  \n",
       "4            POCO C61 Ethereal Blue 4GB RAM 64GB ROM  "
      ]
     },
     "execution_count": 105,
     "metadata": {},
     "output_type": "execute_result"
    }
   ],
   "source": [
    "df7.head()"
   ]
  },
  {
   "cell_type": "code",
   "execution_count": 106,
   "metadata": {},
   "outputs": [],
   "source": [
    "def removeoutliers(data,column):\n",
    "    q1=data[column].quantile(0.25)\n",
    "    q3=data[column].quantile(0.75)\n",
    "    iqr=q3-q1\n",
    "    lower_bound=q1-(iqr*1.5)\n",
    "    upper_bound=q3+(iqr*1.5)\n",
    "    cleaned_data=cleaned_data[(cleaned_data[column]>lower_bound)&(cleaned_data[column]<upper_bound)]\n",
    "    return cleaned_data"
   ]
  },
  {
   "cell_type": "code",
   "execution_count": 107,
   "metadata": {},
   "outputs": [],
   "source": [
    "df6=df7"
   ]
  },
  {
   "cell_type": "code",
   "execution_count": 108,
   "metadata": {},
   "outputs": [
    {
     "data": {
      "text/plain": [
       "Index(['Rating', 'Reviews', 'Price', 'Image URL', 'Product URL', 'features-1',\n",
       "       'Company and Specifications', 'Deatils-1'],\n",
       "      dtype='object')"
      ]
     },
     "execution_count": 108,
     "metadata": {},
     "output_type": "execute_result"
    }
   ],
   "source": [
    "df7.columns"
   ]
  },
  {
   "cell_type": "code",
   "execution_count": 109,
   "metadata": {},
   "outputs": [],
   "source": [
    "df9=df7"
   ]
  },
  {
   "cell_type": "code",
   "execution_count": 110,
   "metadata": {},
   "outputs": [],
   "source": [
    "import pandas as pd\n",
    "\n",
    "def remove_outliers(data, column):\n",
    "    \n",
    "    q1 = data[column].quantile(0.25)\n",
    "    q3 = data[column].quantile(0.75)\n",
    "    iqr = q3 - q1  \n",
    "    lower_bound = q1 - (iqr * 1.5)\n",
    "    upper_bound = q3 + (iqr * 1.5)\n",
    "    \n",
    "  \n",
    "    cleaned_data = data[(data[column] > lower_bound) & (data[column] < upper_bound)]\n",
    "    \n",
    "    return cleaned_data\n",
    "\n",
    "\n",
    "df7_cleaned = remove_outliers(df7, \"Rating\")\n"
   ]
  },
  {
   "cell_type": "code",
   "execution_count": 111,
   "metadata": {},
   "outputs": [
    {
     "data": {
      "text/html": [
       "<div>\n",
       "<style scoped>\n",
       "    .dataframe tbody tr th:only-of-type {\n",
       "        vertical-align: middle;\n",
       "    }\n",
       "\n",
       "    .dataframe tbody tr th {\n",
       "        vertical-align: top;\n",
       "    }\n",
       "\n",
       "    .dataframe thead th {\n",
       "        text-align: right;\n",
       "    }\n",
       "</style>\n",
       "<table border=\"1\" class=\"dataframe\">\n",
       "  <thead>\n",
       "    <tr style=\"text-align: right;\">\n",
       "      <th></th>\n",
       "      <th>Rating</th>\n",
       "      <th>Reviews</th>\n",
       "      <th>Price</th>\n",
       "      <th>Image URL</th>\n",
       "      <th>Product URL</th>\n",
       "      <th>features-1</th>\n",
       "      <th>Company and Specifications</th>\n",
       "      <th>Deatils-1</th>\n",
       "    </tr>\n",
       "  </thead>\n",
       "  <tbody>\n",
       "    <tr>\n",
       "      <th>0</th>\n",
       "      <td>3.8</td>\n",
       "      <td>684.0</td>\n",
       "      <td>33999</td>\n",
       "      <td>https://m.media-amazon.com/images/I/71nrf4zgq5...</td>\n",
       "      <td>https://www.amazon.in/sspa/click?ie=UTF8&amp;spc=M...</td>\n",
       "      <td>Fusion Black, 8GB RAM, 256GB Storage</td>\n",
       "      <td>Redmi Note 13 Pro+</td>\n",
       "      <td>\"WorldsFirstMediatek7200Ultra5G\" 200MPHi-ResC...</td>\n",
       "    </tr>\n",
       "    <tr>\n",
       "      <th>1</th>\n",
       "      <td>3.8</td>\n",
       "      <td>60.0</td>\n",
       "      <td>9999</td>\n",
       "      <td>https://m.media-amazon.com/images/I/81T3olLXpU...</td>\n",
       "      <td>https://www.amazon.in/Samsung-Storage-Display-...</td>\n",
       "      <td>Mint Green, 4GB RAM, 64 GB Storage</td>\n",
       "      <td>Samsung Galaxy M05</td>\n",
       "      <td>50MPDualCamera Bigger6.7\"HD+Display 5000mAhBa...</td>\n",
       "    </tr>\n",
       "    <tr>\n",
       "      <th>2</th>\n",
       "      <td>4.1</td>\n",
       "      <td>346.0</td>\n",
       "      <td>10999</td>\n",
       "      <td>https://m.media-amazon.com/images/I/71EN6N9kUE...</td>\n",
       "      <td>https://www.amazon.in/realme-Storage-Comfort-R...</td>\n",
       "      <td>Marble Black,6GB RAM+128GB Storage</td>\n",
       "      <td>realme NARZO N61</td>\n",
       "      <td>90HzEyeComfortDisplay IP54Dust&amp;WaterResistance...</td>\n",
       "    </tr>\n",
       "    <tr>\n",
       "      <th>3</th>\n",
       "      <td>4.1</td>\n",
       "      <td>346.0</td>\n",
       "      <td>10999</td>\n",
       "      <td>https://m.media-amazon.com/images/I/71r0Ysx+oV...</td>\n",
       "      <td>https://www.amazon.in/realme-Storage-Comfort-R...</td>\n",
       "      <td>Voyage Blue,6GB RAM+128GB Storage</td>\n",
       "      <td>realme NARZO N61</td>\n",
       "      <td>90HzEyeComfortDisplay IP54Dust&amp;WaterResistance...</td>\n",
       "    </tr>\n",
       "    <tr>\n",
       "      <th>4</th>\n",
       "      <td>3.5</td>\n",
       "      <td>27.0</td>\n",
       "      <td>8999</td>\n",
       "      <td>https://m.media-amazon.com/images/I/712tqhtIw1...</td>\n",
       "      <td>https://www.amazon.in/POCO-C61-Ethereal-Blue-6...</td>\n",
       "      <td></td>\n",
       "      <td>POCO C61 Ethereal Blue 4GB RAM 64GB ROM</td>\n",
       "      <td>POCO C61 Ethereal Blue 4GB RAM 64GB ROM</td>\n",
       "    </tr>\n",
       "    <tr>\n",
       "      <th>...</th>\n",
       "      <td>...</td>\n",
       "      <td>...</td>\n",
       "      <td>...</td>\n",
       "      <td>...</td>\n",
       "      <td>...</td>\n",
       "      <td>...</td>\n",
       "      <td>...</td>\n",
       "      <td>...</td>\n",
       "    </tr>\n",
       "    <tr>\n",
       "      <th>1574</th>\n",
       "      <td>3.8</td>\n",
       "      <td>15.0</td>\n",
       "      <td>29990</td>\n",
       "      <td>https://m.media-amazon.com/images/I/61E4zA32Fr...</td>\n",
       "      <td>https://www.amazon.in/Renewed-Z6-Storage-Snapd...</td>\n",
       "      <td>Refurbished, Legion Sky, 8GB RAM, 128GB Storage</td>\n",
       "      <td></td>\n",
       "      <td>IQOOZ6Pro5G(LegionSky 8GBRAM 128GBStorage</td>\n",
       "    </tr>\n",
       "    <tr>\n",
       "      <th>1575</th>\n",
       "      <td>3.7</td>\n",
       "      <td>11.0</td>\n",
       "      <td>27990</td>\n",
       "      <td>https://m.media-amazon.com/images/I/61Aj6UW+yu...</td>\n",
       "      <td>https://www.amazon.in/Renewed-Z6-Phantom-Snapd...</td>\n",
       "      <td>Refurbished, Phantom Dusk, 6GB RAM, 128GB Storage</td>\n",
       "      <td></td>\n",
       "      <td>IQOOZ6Pro5G(PhantomDusk 6GBRAM 128GBStorage</td>\n",
       "    </tr>\n",
       "    <tr>\n",
       "      <th>1576</th>\n",
       "      <td>3.3</td>\n",
       "      <td>6.0</td>\n",
       "      <td>54999</td>\n",
       "      <td>https://m.media-amazon.com/images/I/6157kr+aea...</td>\n",
       "      <td>https://www.amazon.in/Renewed-Legend-Storage-S...</td>\n",
       "      <td>Refurbished, Legend, 8GB RAM, 128GB Storage</td>\n",
       "      <td></td>\n",
       "      <td>IQOO9T5G(Legend 8GBRAM 128GBStorage</td>\n",
       "    </tr>\n",
       "    <tr>\n",
       "      <th>1578</th>\n",
       "      <td>3.7</td>\n",
       "      <td>5.0</td>\n",
       "      <td>15999</td>\n",
       "      <td>https://m.media-amazon.com/images/I/61VbKHdE0r...</td>\n",
       "      <td>https://www.amazon.in/iQOO-Z6-Lite-Snapdragon-...</td>\n",
       "      <td>Refurbished, Stellar Green, 4GB RAM, 64GB Storage</td>\n",
       "      <td></td>\n",
       "      <td>iQOOZ6Lite5G(StellarGreen 4GBRAM 64GBStorage</td>\n",
       "    </tr>\n",
       "    <tr>\n",
       "      <th>1579</th>\n",
       "      <td>4.0</td>\n",
       "      <td>65.0</td>\n",
       "      <td>26990</td>\n",
       "      <td>https://m.media-amazon.com/images/I/61R3cVyCcJ...</td>\n",
       "      <td>https://www.amazon.in/Renewed-iQOO-Cyber-256GB...</td>\n",
       "      <td>Refurbished, Cyber Blue, 8GB RAM, 256GB Storage</td>\n",
       "      <td></td>\n",
       "      <td>iQOOZ35G(CyberBlue 8GBRAM 256GBStorage</td>\n",
       "    </tr>\n",
       "  </tbody>\n",
       "</table>\n",
       "<p>1466 rows × 8 columns</p>\n",
       "</div>"
      ],
      "text/plain": [
       "      Rating  Reviews  Price  \\\n",
       "0        3.8    684.0  33999   \n",
       "1        3.8     60.0   9999   \n",
       "2        4.1    346.0  10999   \n",
       "3        4.1    346.0  10999   \n",
       "4        3.5     27.0   8999   \n",
       "...      ...      ...    ...   \n",
       "1574     3.8     15.0  29990   \n",
       "1575     3.7     11.0  27990   \n",
       "1576     3.3      6.0  54999   \n",
       "1578     3.7      5.0  15999   \n",
       "1579     4.0     65.0  26990   \n",
       "\n",
       "                                              Image URL  \\\n",
       "0     https://m.media-amazon.com/images/I/71nrf4zgq5...   \n",
       "1     https://m.media-amazon.com/images/I/81T3olLXpU...   \n",
       "2     https://m.media-amazon.com/images/I/71EN6N9kUE...   \n",
       "3     https://m.media-amazon.com/images/I/71r0Ysx+oV...   \n",
       "4     https://m.media-amazon.com/images/I/712tqhtIw1...   \n",
       "...                                                 ...   \n",
       "1574  https://m.media-amazon.com/images/I/61E4zA32Fr...   \n",
       "1575  https://m.media-amazon.com/images/I/61Aj6UW+yu...   \n",
       "1576  https://m.media-amazon.com/images/I/6157kr+aea...   \n",
       "1578  https://m.media-amazon.com/images/I/61VbKHdE0r...   \n",
       "1579  https://m.media-amazon.com/images/I/61R3cVyCcJ...   \n",
       "\n",
       "                                            Product URL  \\\n",
       "0     https://www.amazon.in/sspa/click?ie=UTF8&spc=M...   \n",
       "1     https://www.amazon.in/Samsung-Storage-Display-...   \n",
       "2     https://www.amazon.in/realme-Storage-Comfort-R...   \n",
       "3     https://www.amazon.in/realme-Storage-Comfort-R...   \n",
       "4     https://www.amazon.in/POCO-C61-Ethereal-Blue-6...   \n",
       "...                                                 ...   \n",
       "1574  https://www.amazon.in/Renewed-Z6-Storage-Snapd...   \n",
       "1575  https://www.amazon.in/Renewed-Z6-Phantom-Snapd...   \n",
       "1576  https://www.amazon.in/Renewed-Legend-Storage-S...   \n",
       "1578  https://www.amazon.in/iQOO-Z6-Lite-Snapdragon-...   \n",
       "1579  https://www.amazon.in/Renewed-iQOO-Cyber-256GB...   \n",
       "\n",
       "                                             features-1  \\\n",
       "0                  Fusion Black, 8GB RAM, 256GB Storage   \n",
       "1                    Mint Green, 4GB RAM, 64 GB Storage   \n",
       "2                    Marble Black,6GB RAM+128GB Storage   \n",
       "3                     Voyage Blue,6GB RAM+128GB Storage   \n",
       "4                                                         \n",
       "...                                                 ...   \n",
       "1574    Refurbished, Legion Sky, 8GB RAM, 128GB Storage   \n",
       "1575  Refurbished, Phantom Dusk, 6GB RAM, 128GB Storage   \n",
       "1576        Refurbished, Legend, 8GB RAM, 128GB Storage   \n",
       "1578  Refurbished, Stellar Green, 4GB RAM, 64GB Storage   \n",
       "1579    Refurbished, Cyber Blue, 8GB RAM, 256GB Storage   \n",
       "\n",
       "                   Company and Specifications  \\\n",
       "0                          Redmi Note 13 Pro+   \n",
       "1                          Samsung Galaxy M05   \n",
       "2                            realme NARZO N61   \n",
       "3                            realme NARZO N61   \n",
       "4     POCO C61 Ethereal Blue 4GB RAM 64GB ROM   \n",
       "...                                       ...   \n",
       "1574                                            \n",
       "1575                                            \n",
       "1576                                            \n",
       "1578                                            \n",
       "1579                                            \n",
       "\n",
       "                                              Deatils-1  \n",
       "0      \"WorldsFirstMediatek7200Ultra5G\" 200MPHi-ResC...  \n",
       "1      50MPDualCamera Bigger6.7\"HD+Display 5000mAhBa...  \n",
       "2     90HzEyeComfortDisplay IP54Dust&WaterResistance...  \n",
       "3     90HzEyeComfortDisplay IP54Dust&WaterResistance...  \n",
       "4               POCO C61 Ethereal Blue 4GB RAM 64GB ROM  \n",
       "...                                                 ...  \n",
       "1574          IQOOZ6Pro5G(LegionSky 8GBRAM 128GBStorage  \n",
       "1575        IQOOZ6Pro5G(PhantomDusk 6GBRAM 128GBStorage  \n",
       "1576                IQOO9T5G(Legend 8GBRAM 128GBStorage  \n",
       "1578       iQOOZ6Lite5G(StellarGreen 4GBRAM 64GBStorage  \n",
       "1579             iQOOZ35G(CyberBlue 8GBRAM 256GBStorage  \n",
       "\n",
       "[1466 rows x 8 columns]"
      ]
     },
     "execution_count": 111,
     "metadata": {},
     "output_type": "execute_result"
    }
   ],
   "source": [
    "df7_cleaned"
   ]
  },
  {
   "cell_type": "code",
   "execution_count": 112,
   "metadata": {},
   "outputs": [
    {
     "data": {
      "text/plain": [
       "Rating                        float64\n",
       "Reviews                       float64\n",
       "Price                           int64\n",
       "Image URL                      object\n",
       "Product URL                    object\n",
       "features-1                     object\n",
       "Company and Specifications     object\n",
       "Deatils-1                      object\n",
       "dtype: object"
      ]
     },
     "execution_count": 112,
     "metadata": {},
     "output_type": "execute_result"
    }
   ],
   "source": [
    "df7_cleaned.dtypes"
   ]
  },
  {
   "cell_type": "code",
   "execution_count": 113,
   "metadata": {},
   "outputs": [
    {
     "data": {
      "image/png": "[encoded data removed]",
      "text/plain": [
       "<Figure size 1200x600 with 1 Axes>"
      ]
     },
     "metadata": {},
     "output_type": "display_data"
    },
    {
     "data": {
      "image/png": "[encoded data removed]",
      "text/plain": [
       "<Figure size 1200x600 with 1 Axes>"
      ]
     },
     "metadata": {},
     "output_type": "display_data"
    },
    {
     "data": {
      "image/png": "[encoded data removed]",
      "text/plain": [
       "<Figure size 1200x600 with 1 Axes>"
      ]
     },
     "metadata": {},
     "output_type": "display_data"
    }
   ],
   "source": [
    "for x in df7_cleaned.columns:\n",
    "    ty=df7_cleaned[x].dtype\n",
    "    if ty=='int64' or ty=='float64':\n",
    "        plt.figure(figsize=(12,6))\n",
    "        sns.kdeplot(data=df7_cleaned,x=x)\n",
    "        plt.show()\n",
    "    "
   ]
  },
  {
   "cell_type": "code",
   "execution_count": 114,
   "metadata": {},
   "outputs": [
    {
     "data": {
      "text/plain": [
       "dtype('int64')"
      ]
     },
     "execution_count": 114,
     "metadata": {},
     "output_type": "execute_result"
    }
   ],
   "source": [
    "df7_cleaned[\"Price\"].dtype"
   ]
  },
  {
   "cell_type": "code",
   "execution_count": 115,
   "metadata": {},
   "outputs": [],
   "source": [
    "df8_cleaned=remove_outliers(df7_cleaned,\"Price\")"
   ]
  },
  {
   "cell_type": "code",
   "execution_count": 116,
   "metadata": {},
   "outputs": [],
   "source": [
    "df9_cleaned=remove_outliers(df8_cleaned,\"Reviews\")"
   ]
  },
  {
   "cell_type": "code",
   "execution_count": 160,
   "metadata": {},
   "outputs": [
    {
     "data": {
      "text/plain": [
       "(1139, 8)"
      ]
     },
     "execution_count": 160,
     "metadata": {},
     "output_type": "execute_result"
    }
   ],
   "source": [
    "df9_cleaned.shape"
   ]
  },
  {
   "cell_type": "code",
   "execution_count": 117,
   "metadata": {},
   "outputs": [
    {
     "data": {
      "image/png": "[encoded data removed]",
      "text/plain": [
       "<Figure size 1200x600 with 1 Axes>"
      ]
     },
     "metadata": {},
     "output_type": "display_data"
    },
    {
     "data": {
      "image/png": "[encoded data removed]",
      "text/plain": [
       "<Figure size 1200x600 with 1 Axes>"
      ]
     },
     "metadata": {},
     "output_type": "display_data"
    },
    {
     "data": {
      "image/png": "[encoded data removed]",
      "text/plain": [
       "<Figure size 1200x600 with 1 Axes>"
      ]
     },
     "metadata": {},
     "output_type": "display_data"
    }
   ],
   "source": [
    "for x in df9_cleaned.columns:\n",
    "    ty=df9_cleaned[x].dtype\n",
    "    if ty=='int64' or ty=='float64':\n",
    "        plt.figure(figsize=(12,6))\n",
    "        sns.boxplot(data=df9_cleaned,x=x)\n",
    "        plt.show()\n",
    "    "
   ]
  },
  {
   "cell_type": "code",
   "execution_count": 118,
   "metadata": {},
   "outputs": [],
   "source": [
    "import pandas as pd\n",
    "\n",
    "def remove_outliers(data, column):\n",
    "    \n",
    "    q1 = data[column].quantile(0.25)\n",
    "    q3 = data[column].quantile(0.65)\n",
    "    iqr = q3 - q1  \n",
    "    lower_bound = q1 - (iqr * 1.5)\n",
    "    upper_bound = q3 + (iqr * 1.5)\n",
    "    \n",
    "  \n",
    "    cleaned_data = data[(data[column] > lower_bound) & (data[column] < upper_bound)]\n",
    "    \n",
    "    return cleaned_data"
   ]
  },
  {
   "cell_type": "code",
   "execution_count": 119,
   "metadata": {},
   "outputs": [],
   "source": [
    "df10=df9_cleaned"
   ]
  },
  {
   "cell_type": "code",
   "execution_count": 120,
   "metadata": {},
   "outputs": [],
   "source": [
    "df10_cleaned=remove_outliers(df10,\"Reviews\")"
   ]
  },
  {
   "cell_type": "code",
   "execution_count": 161,
   "metadata": {},
   "outputs": [
    {
     "data": {
      "text/plain": [
       "(1035, 8)"
      ]
     },
     "execution_count": 161,
     "metadata": {},
     "output_type": "execute_result"
    }
   ],
   "source": [
    "df10_cleaned.shape"
   ]
  },
  {
   "cell_type": "code",
   "execution_count": 162,
   "metadata": {},
   "outputs": [
    {
     "data": {
      "text/html": [
       "<div>\n",
       "<style scoped>\n",
       "    .dataframe tbody tr th:only-of-type {\n",
       "        vertical-align: middle;\n",
       "    }\n",
       "\n",
       "    .dataframe tbody tr th {\n",
       "        vertical-align: top;\n",
       "    }\n",
       "\n",
       "    .dataframe thead th {\n",
       "        text-align: right;\n",
       "    }\n",
       "</style>\n",
       "<table border=\"1\" class=\"dataframe\">\n",
       "  <thead>\n",
       "    <tr style=\"text-align: right;\">\n",
       "      <th></th>\n",
       "      <th>Rating</th>\n",
       "      <th>Reviews</th>\n",
       "      <th>Price</th>\n",
       "      <th>Image URL</th>\n",
       "      <th>Product URL</th>\n",
       "      <th>features-1</th>\n",
       "      <th>Company and Specifications</th>\n",
       "      <th>Deatils-1</th>\n",
       "    </tr>\n",
       "  </thead>\n",
       "  <tbody>\n",
       "    <tr>\n",
       "      <th>0</th>\n",
       "      <td>3.8</td>\n",
       "      <td>684.0</td>\n",
       "      <td>33999</td>\n",
       "      <td>https://m.media-amazon.com/images/I/71nrf4zgq5...</td>\n",
       "      <td>https://www.amazon.in/sspa/click?ie=UTF8&amp;spc=M...</td>\n",
       "      <td>fusion Black 8 GB RAM 256 GB storage</td>\n",
       "      <td>Redmi note 13 Proplus</td>\n",
       "      <td>WorldsFirstMediatek7200Ultra5 G 200MPHi ResC...</td>\n",
       "    </tr>\n",
       "    <tr>\n",
       "      <th>1</th>\n",
       "      <td>3.8</td>\n",
       "      <td>60.0</td>\n",
       "      <td>9999</td>\n",
       "      <td>https://m.media-amazon.com/images/I/81T3olLXpU...</td>\n",
       "      <td>https://www.amazon.in/Samsung-Storage-Display-...</td>\n",
       "      <td>Mint Green 4 GB RAM 64 GB storage</td>\n",
       "      <td>Samsung Galaxy M05</td>\n",
       "      <td>50mpdualcamera bigger6.7\"hd+display 5000mahb...</td>\n",
       "    </tr>\n",
       "    <tr>\n",
       "      <th>2</th>\n",
       "      <td>4.1</td>\n",
       "      <td>346.0</td>\n",
       "      <td>10999</td>\n",
       "      <td>https://m.media-amazon.com/images/I/71EN6N9kUE...</td>\n",
       "      <td>https://www.amazon.in/realme-Storage-Comfort-R...</td>\n",
       "      <td>marble black,6 GB ram+128 GB storage</td>\n",
       "      <td>realme NARZO N61</td>\n",
       "      <td>90hzeyecomfortdisplay ip54dust&amp;waterresistance...</td>\n",
       "    </tr>\n",
       "    <tr>\n",
       "      <th>3</th>\n",
       "      <td>4.1</td>\n",
       "      <td>346.0</td>\n",
       "      <td>10999</td>\n",
       "      <td>https://m.media-amazon.com/images/I/71r0Ysx+oV...</td>\n",
       "      <td>https://www.amazon.in/realme-Storage-Comfort-R...</td>\n",
       "      <td>Voyage Blue,6 GB ram+128 GB storage</td>\n",
       "      <td>realme NARZO N61</td>\n",
       "      <td>90hzeyecomfortdisplay ip54dust&amp;waterresistance...</td>\n",
       "    </tr>\n",
       "    <tr>\n",
       "      <th>4</th>\n",
       "      <td>3.5</td>\n",
       "      <td>27.0</td>\n",
       "      <td>8999</td>\n",
       "      <td>https://m.media-amazon.com/images/I/712tqhtIw1...</td>\n",
       "      <td>https://www.amazon.in/POCO-C61-Ethereal-Blue-6...</td>\n",
       "      <td></td>\n",
       "      <td>poco C61 Ethereal Blue 4 GB ram 64 GB rom</td>\n",
       "      <td>poco C61 Ethereal Blue 4 GB ram 64 GB rom</td>\n",
       "    </tr>\n",
       "  </tbody>\n",
       "</table>\n",
       "</div>"
      ],
      "text/plain": [
       "   Rating  Reviews  Price                                          Image URL  \\\n",
       "0     3.8    684.0  33999  https://m.media-amazon.com/images/I/71nrf4zgq5...   \n",
       "1     3.8     60.0   9999  https://m.media-amazon.com/images/I/81T3olLXpU...   \n",
       "2     4.1    346.0  10999  https://m.media-amazon.com/images/I/71EN6N9kUE...   \n",
       "3     4.1    346.0  10999  https://m.media-amazon.com/images/I/71r0Ysx+oV...   \n",
       "4     3.5     27.0   8999  https://m.media-amazon.com/images/I/712tqhtIw1...   \n",
       "\n",
       "                                         Product URL  \\\n",
       "0  https://www.amazon.in/sspa/click?ie=UTF8&spc=M...   \n",
       "1  https://www.amazon.in/Samsung-Storage-Display-...   \n",
       "2  https://www.amazon.in/realme-Storage-Comfort-R...   \n",
       "3  https://www.amazon.in/realme-Storage-Comfort-R...   \n",
       "4  https://www.amazon.in/POCO-C61-Ethereal-Blue-6...   \n",
       "\n",
       "                             features-1  \\\n",
       "0  fusion Black 8 GB RAM 256 GB storage   \n",
       "1     Mint Green 4 GB RAM 64 GB storage   \n",
       "2  marble black,6 GB ram+128 GB storage   \n",
       "3   Voyage Blue,6 GB ram+128 GB storage   \n",
       "4                                         \n",
       "\n",
       "                  Company and Specifications  \\\n",
       "0                      Redmi note 13 Proplus   \n",
       "1                         Samsung Galaxy M05   \n",
       "2                           realme NARZO N61   \n",
       "3                           realme NARZO N61   \n",
       "4  poco C61 Ethereal Blue 4 GB ram 64 GB rom   \n",
       "\n",
       "                                           Deatils-1  \n",
       "0    WorldsFirstMediatek7200Ultra5 G 200MPHi ResC...  \n",
       "1    50mpdualcamera bigger6.7\"hd+display 5000mahb...  \n",
       "2  90hzeyecomfortdisplay ip54dust&waterresistance...  \n",
       "3  90hzeyecomfortdisplay ip54dust&waterresistance...  \n",
       "4          poco C61 Ethereal Blue 4 GB ram 64 GB rom  "
      ]
     },
     "execution_count": 162,
     "metadata": {},
     "output_type": "execute_result"
    }
   ],
   "source": [
    "df10_cleaned.head()"
   ]
  },
  {
   "cell_type": "code",
   "execution_count": 165,
   "metadata": {},
   "outputs": [],
   "source": [
    "\n",
    "image_url1 = df10_cleaned[[\"Company and Specifications\", \"Image URL\"]]\n",
    "\n",
    "product_url1 = df10_cleaned[[\"Company and Specifications\", \"Product URL\"]]\n"
   ]
  },
  {
   "cell_type": "code",
   "execution_count": 166,
   "metadata": {},
   "outputs": [
    {
     "data": {
      "text/plain": [
       "(1035, 2)"
      ]
     },
     "execution_count": 166,
     "metadata": {},
     "output_type": "execute_result"
    }
   ],
   "source": [
    "image_url1.shape"
   ]
  },
  {
   "cell_type": "code",
   "execution_count": 121,
   "metadata": {},
   "outputs": [
    {
     "data": {
      "text/plain": [
       "<Axes: xlabel='Reviews'>"
      ]
     },
     "execution_count": 121,
     "metadata": {},
     "output_type": "execute_result"
    },
    {
     "data": {
      "image/png": "[encoded data removed]",
      "text/plain": [
       "<Figure size 640x480 with 1 Axes>"
      ]
     },
     "metadata": {},
     "output_type": "display_data"
    }
   ],
   "source": [
    "sns.boxplot(data=df10_cleaned,x=\"Reviews\")"
   ]
  },
  {
   "cell_type": "code",
   "execution_count": 122,
   "metadata": {},
   "outputs": [
    {
     "data": {
      "image/png": "[encoded data removed]",
      "text/plain": [
       "<Figure size 1200x600 with 1 Axes>"
      ]
     },
     "metadata": {},
     "output_type": "display_data"
    },
    {
     "data": {
      "image/png": "[encoded data removed]",
      "text/plain": [
       "<Figure size 1200x600 with 1 Axes>"
      ]
     },
     "metadata": {},
     "output_type": "display_data"
    },
    {
     "data": {
      "image/png": "[encoded data removed]",
      "text/plain": [
       "<Figure size 1200x600 with 1 Axes>"
      ]
     },
     "metadata": {},
     "output_type": "display_data"
    }
   ],
   "source": [
    "for x in df10_cleaned.columns:\n",
    "    ty=df10_cleaned[x].dtype\n",
    "    if ty=='int64' or ty=='float64':\n",
    "        plt.figure(figsize=(12,6))\n",
    "        sns.boxplot(data=df10_cleaned,x=x)\n",
    "        plt.show()\n",
    "    "
   ]
  },
  {
   "cell_type": "code",
   "execution_count": 123,
   "metadata": {},
   "outputs": [
    {
     "data": {
      "text/plain": [
       "(1035, 8)"
      ]
     },
     "execution_count": 123,
     "metadata": {},
     "output_type": "execute_result"
    }
   ],
   "source": [
    "df10_cleaned.shape"
   ]
  },
  {
   "cell_type": "code",
   "execution_count": 124,
   "metadata": {},
   "outputs": [],
   "source": [
    "df10=df10_cleaned"
   ]
  },
  {
   "cell_type": "code",
   "execution_count": 125,
   "metadata": {},
   "outputs": [
    {
     "data": {
      "text/html": [
       "<div>\n",
       "<style scoped>\n",
       "    .dataframe tbody tr th:only-of-type {\n",
       "        vertical-align: middle;\n",
       "    }\n",
       "\n",
       "    .dataframe tbody tr th {\n",
       "        vertical-align: top;\n",
       "    }\n",
       "\n",
       "    .dataframe thead th {\n",
       "        text-align: right;\n",
       "    }\n",
       "</style>\n",
       "<table border=\"1\" class=\"dataframe\">\n",
       "  <thead>\n",
       "    <tr style=\"text-align: right;\">\n",
       "      <th></th>\n",
       "      <th>Rating</th>\n",
       "      <th>Reviews</th>\n",
       "      <th>Price</th>\n",
       "      <th>Image URL</th>\n",
       "      <th>Product URL</th>\n",
       "      <th>features-1</th>\n",
       "      <th>Company and Specifications</th>\n",
       "      <th>Deatils-1</th>\n",
       "    </tr>\n",
       "  </thead>\n",
       "  <tbody>\n",
       "    <tr>\n",
       "      <th>0</th>\n",
       "      <td>3.8</td>\n",
       "      <td>684.0</td>\n",
       "      <td>33999</td>\n",
       "      <td>https://m.media-amazon.com/images/I/71nrf4zgq5...</td>\n",
       "      <td>https://www.amazon.in/sspa/click?ie=UTF8&amp;spc=M...</td>\n",
       "      <td>Fusion Black, 8GB RAM, 256GB Storage</td>\n",
       "      <td>Redmi Note 13 Pro+</td>\n",
       "      <td>\"WorldsFirstMediatek7200Ultra5G\" 200MPHi-ResC...</td>\n",
       "    </tr>\n",
       "    <tr>\n",
       "      <th>1</th>\n",
       "      <td>3.8</td>\n",
       "      <td>60.0</td>\n",
       "      <td>9999</td>\n",
       "      <td>https://m.media-amazon.com/images/I/81T3olLXpU...</td>\n",
       "      <td>https://www.amazon.in/Samsung-Storage-Display-...</td>\n",
       "      <td>Mint Green, 4GB RAM, 64 GB Storage</td>\n",
       "      <td>Samsung Galaxy M05</td>\n",
       "      <td>50MPDualCamera Bigger6.7\"HD+Display 5000mAhBa...</td>\n",
       "    </tr>\n",
       "    <tr>\n",
       "      <th>2</th>\n",
       "      <td>4.1</td>\n",
       "      <td>346.0</td>\n",
       "      <td>10999</td>\n",
       "      <td>https://m.media-amazon.com/images/I/71EN6N9kUE...</td>\n",
       "      <td>https://www.amazon.in/realme-Storage-Comfort-R...</td>\n",
       "      <td>Marble Black,6GB RAM+128GB Storage</td>\n",
       "      <td>realme NARZO N61</td>\n",
       "      <td>90HzEyeComfortDisplay IP54Dust&amp;WaterResistance...</td>\n",
       "    </tr>\n",
       "    <tr>\n",
       "      <th>3</th>\n",
       "      <td>4.1</td>\n",
       "      <td>346.0</td>\n",
       "      <td>10999</td>\n",
       "      <td>https://m.media-amazon.com/images/I/71r0Ysx+oV...</td>\n",
       "      <td>https://www.amazon.in/realme-Storage-Comfort-R...</td>\n",
       "      <td>Voyage Blue,6GB RAM+128GB Storage</td>\n",
       "      <td>realme NARZO N61</td>\n",
       "      <td>90HzEyeComfortDisplay IP54Dust&amp;WaterResistance...</td>\n",
       "    </tr>\n",
       "    <tr>\n",
       "      <th>4</th>\n",
       "      <td>3.5</td>\n",
       "      <td>27.0</td>\n",
       "      <td>8999</td>\n",
       "      <td>https://m.media-amazon.com/images/I/712tqhtIw1...</td>\n",
       "      <td>https://www.amazon.in/POCO-C61-Ethereal-Blue-6...</td>\n",
       "      <td></td>\n",
       "      <td>POCO C61 Ethereal Blue 4GB RAM 64GB ROM</td>\n",
       "      <td>POCO C61 Ethereal Blue 4GB RAM 64GB ROM</td>\n",
       "    </tr>\n",
       "  </tbody>\n",
       "</table>\n",
       "</div>"
      ],
      "text/plain": [
       "   Rating  Reviews  Price                                          Image URL  \\\n",
       "0     3.8    684.0  33999  https://m.media-amazon.com/images/I/71nrf4zgq5...   \n",
       "1     3.8     60.0   9999  https://m.media-amazon.com/images/I/81T3olLXpU...   \n",
       "2     4.1    346.0  10999  https://m.media-amazon.com/images/I/71EN6N9kUE...   \n",
       "3     4.1    346.0  10999  https://m.media-amazon.com/images/I/71r0Ysx+oV...   \n",
       "4     3.5     27.0   8999  https://m.media-amazon.com/images/I/712tqhtIw1...   \n",
       "\n",
       "                                         Product URL  \\\n",
       "0  https://www.amazon.in/sspa/click?ie=UTF8&spc=M...   \n",
       "1  https://www.amazon.in/Samsung-Storage-Display-...   \n",
       "2  https://www.amazon.in/realme-Storage-Comfort-R...   \n",
       "3  https://www.amazon.in/realme-Storage-Comfort-R...   \n",
       "4  https://www.amazon.in/POCO-C61-Ethereal-Blue-6...   \n",
       "\n",
       "                             features-1  \\\n",
       "0  Fusion Black, 8GB RAM, 256GB Storage   \n",
       "1    Mint Green, 4GB RAM, 64 GB Storage   \n",
       "2    Marble Black,6GB RAM+128GB Storage   \n",
       "3     Voyage Blue,6GB RAM+128GB Storage   \n",
       "4                                         \n",
       "\n",
       "                Company and Specifications  \\\n",
       "0                       Redmi Note 13 Pro+   \n",
       "1                       Samsung Galaxy M05   \n",
       "2                         realme NARZO N61   \n",
       "3                         realme NARZO N61   \n",
       "4  POCO C61 Ethereal Blue 4GB RAM 64GB ROM   \n",
       "\n",
       "                                           Deatils-1  \n",
       "0   \"WorldsFirstMediatek7200Ultra5G\" 200MPHi-ResC...  \n",
       "1   50MPDualCamera Bigger6.7\"HD+Display 5000mAhBa...  \n",
       "2  90HzEyeComfortDisplay IP54Dust&WaterResistance...  \n",
       "3  90HzEyeComfortDisplay IP54Dust&WaterResistance...  \n",
       "4            POCO C61 Ethereal Blue 4GB RAM 64GB ROM  "
      ]
     },
     "execution_count": 125,
     "metadata": {},
     "output_type": "execute_result"
    }
   ],
   "source": [
    "df10.head()"
   ]
  },
  {
   "cell_type": "code",
   "execution_count": 126,
   "metadata": {},
   "outputs": [],
   "source": [
    "from sklearn.feature_extraction.text import TfidfTransformer\n",
    "vectorizer=TfidfTransformer()\n"
   ]
  },
  {
   "cell_type": "code",
   "execution_count": 127,
   "metadata": {},
   "outputs": [],
   "source": [
    "\n",
    "df11=df10"
   ]
  },
  {
   "cell_type": "code",
   "execution_count": 128,
   "metadata": {},
   "outputs": [
    {
     "data": {
      "text/html": [
       "<div>\n",
       "<style scoped>\n",
       "    .dataframe tbody tr th:only-of-type {\n",
       "        vertical-align: middle;\n",
       "    }\n",
       "\n",
       "    .dataframe tbody tr th {\n",
       "        vertical-align: top;\n",
       "    }\n",
       "\n",
       "    .dataframe thead th {\n",
       "        text-align: right;\n",
       "    }\n",
       "</style>\n",
       "<table border=\"1\" class=\"dataframe\">\n",
       "  <thead>\n",
       "    <tr style=\"text-align: right;\">\n",
       "      <th></th>\n",
       "      <th>Rating</th>\n",
       "      <th>Reviews</th>\n",
       "      <th>Price</th>\n",
       "      <th>Image URL</th>\n",
       "      <th>Product URL</th>\n",
       "      <th>features-1</th>\n",
       "      <th>Company and Specifications</th>\n",
       "      <th>Deatils-1</th>\n",
       "    </tr>\n",
       "  </thead>\n",
       "  <tbody>\n",
       "    <tr>\n",
       "      <th>0</th>\n",
       "      <td>3.8</td>\n",
       "      <td>684.0</td>\n",
       "      <td>33999</td>\n",
       "      <td>https://m.media-amazon.com/images/I/71nrf4zgq5...</td>\n",
       "      <td>https://www.amazon.in/sspa/click?ie=UTF8&amp;spc=M...</td>\n",
       "      <td>Fusion Black, 8GB RAM, 256GB Storage</td>\n",
       "      <td>Redmi Note 13 Pro+</td>\n",
       "      <td>\"WorldsFirstMediatek7200Ultra5G\" 200MPHi-ResC...</td>\n",
       "    </tr>\n",
       "    <tr>\n",
       "      <th>1</th>\n",
       "      <td>3.8</td>\n",
       "      <td>60.0</td>\n",
       "      <td>9999</td>\n",
       "      <td>https://m.media-amazon.com/images/I/81T3olLXpU...</td>\n",
       "      <td>https://www.amazon.in/Samsung-Storage-Display-...</td>\n",
       "      <td>Mint Green, 4GB RAM, 64 GB Storage</td>\n",
       "      <td>Samsung Galaxy M05</td>\n",
       "      <td>50MPDualCamera Bigger6.7\"HD+Display 5000mAhBa...</td>\n",
       "    </tr>\n",
       "    <tr>\n",
       "      <th>2</th>\n",
       "      <td>4.1</td>\n",
       "      <td>346.0</td>\n",
       "      <td>10999</td>\n",
       "      <td>https://m.media-amazon.com/images/I/71EN6N9kUE...</td>\n",
       "      <td>https://www.amazon.in/realme-Storage-Comfort-R...</td>\n",
       "      <td>Marble Black,6GB RAM+128GB Storage</td>\n",
       "      <td>realme NARZO N61</td>\n",
       "      <td>90HzEyeComfortDisplay IP54Dust&amp;WaterResistance...</td>\n",
       "    </tr>\n",
       "    <tr>\n",
       "      <th>3</th>\n",
       "      <td>4.1</td>\n",
       "      <td>346.0</td>\n",
       "      <td>10999</td>\n",
       "      <td>https://m.media-amazon.com/images/I/71r0Ysx+oV...</td>\n",
       "      <td>https://www.amazon.in/realme-Storage-Comfort-R...</td>\n",
       "      <td>Voyage Blue,6GB RAM+128GB Storage</td>\n",
       "      <td>realme NARZO N61</td>\n",
       "      <td>90HzEyeComfortDisplay IP54Dust&amp;WaterResistance...</td>\n",
       "    </tr>\n",
       "    <tr>\n",
       "      <th>4</th>\n",
       "      <td>3.5</td>\n",
       "      <td>27.0</td>\n",
       "      <td>8999</td>\n",
       "      <td>https://m.media-amazon.com/images/I/712tqhtIw1...</td>\n",
       "      <td>https://www.amazon.in/POCO-C61-Ethereal-Blue-6...</td>\n",
       "      <td></td>\n",
       "      <td>POCO C61 Ethereal Blue 4GB RAM 64GB ROM</td>\n",
       "      <td>POCO C61 Ethereal Blue 4GB RAM 64GB ROM</td>\n",
       "    </tr>\n",
       "    <tr>\n",
       "      <th>...</th>\n",
       "      <td>...</td>\n",
       "      <td>...</td>\n",
       "      <td>...</td>\n",
       "      <td>...</td>\n",
       "      <td>...</td>\n",
       "      <td>...</td>\n",
       "      <td>...</td>\n",
       "      <td>...</td>\n",
       "    </tr>\n",
       "    <tr>\n",
       "      <th>1574</th>\n",
       "      <td>3.8</td>\n",
       "      <td>15.0</td>\n",
       "      <td>29990</td>\n",
       "      <td>https://m.media-amazon.com/images/I/61E4zA32Fr...</td>\n",
       "      <td>https://www.amazon.in/Renewed-Z6-Storage-Snapd...</td>\n",
       "      <td>Refurbished, Legion Sky, 8GB RAM, 128GB Storage</td>\n",
       "      <td></td>\n",
       "      <td>IQOOZ6Pro5G(LegionSky 8GBRAM 128GBStorage</td>\n",
       "    </tr>\n",
       "    <tr>\n",
       "      <th>1575</th>\n",
       "      <td>3.7</td>\n",
       "      <td>11.0</td>\n",
       "      <td>27990</td>\n",
       "      <td>https://m.media-amazon.com/images/I/61Aj6UW+yu...</td>\n",
       "      <td>https://www.amazon.in/Renewed-Z6-Phantom-Snapd...</td>\n",
       "      <td>Refurbished, Phantom Dusk, 6GB RAM, 128GB Storage</td>\n",
       "      <td></td>\n",
       "      <td>IQOOZ6Pro5G(PhantomDusk 6GBRAM 128GBStorage</td>\n",
       "    </tr>\n",
       "    <tr>\n",
       "      <th>1576</th>\n",
       "      <td>3.3</td>\n",
       "      <td>6.0</td>\n",
       "      <td>54999</td>\n",
       "      <td>https://m.media-amazon.com/images/I/6157kr+aea...</td>\n",
       "      <td>https://www.amazon.in/Renewed-Legend-Storage-S...</td>\n",
       "      <td>Refurbished, Legend, 8GB RAM, 128GB Storage</td>\n",
       "      <td></td>\n",
       "      <td>IQOO9T5G(Legend 8GBRAM 128GBStorage</td>\n",
       "    </tr>\n",
       "    <tr>\n",
       "      <th>1578</th>\n",
       "      <td>3.7</td>\n",
       "      <td>5.0</td>\n",
       "      <td>15999</td>\n",
       "      <td>https://m.media-amazon.com/images/I/61VbKHdE0r...</td>\n",
       "      <td>https://www.amazon.in/iQOO-Z6-Lite-Snapdragon-...</td>\n",
       "      <td>Refurbished, Stellar Green, 4GB RAM, 64GB Storage</td>\n",
       "      <td></td>\n",
       "      <td>iQOOZ6Lite5G(StellarGreen 4GBRAM 64GBStorage</td>\n",
       "    </tr>\n",
       "    <tr>\n",
       "      <th>1579</th>\n",
       "      <td>4.0</td>\n",
       "      <td>65.0</td>\n",
       "      <td>26990</td>\n",
       "      <td>https://m.media-amazon.com/images/I/61R3cVyCcJ...</td>\n",
       "      <td>https://www.amazon.in/Renewed-iQOO-Cyber-256GB...</td>\n",
       "      <td>Refurbished, Cyber Blue, 8GB RAM, 256GB Storage</td>\n",
       "      <td></td>\n",
       "      <td>iQOOZ35G(CyberBlue 8GBRAM 256GBStorage</td>\n",
       "    </tr>\n",
       "  </tbody>\n",
       "</table>\n",
       "<p>1035 rows × 8 columns</p>\n",
       "</div>"
      ],
      "text/plain": [
       "      Rating  Reviews  Price  \\\n",
       "0        3.8    684.0  33999   \n",
       "1        3.8     60.0   9999   \n",
       "2        4.1    346.0  10999   \n",
       "3        4.1    346.0  10999   \n",
       "4        3.5     27.0   8999   \n",
       "...      ...      ...    ...   \n",
       "1574     3.8     15.0  29990   \n",
       "1575     3.7     11.0  27990   \n",
       "1576     3.3      6.0  54999   \n",
       "1578     3.7      5.0  15999   \n",
       "1579     4.0     65.0  26990   \n",
       "\n",
       "                                              Image URL  \\\n",
       "0     https://m.media-amazon.com/images/I/71nrf4zgq5...   \n",
       "1     https://m.media-amazon.com/images/I/81T3olLXpU...   \n",
       "2     https://m.media-amazon.com/images/I/71EN6N9kUE...   \n",
       "3     https://m.media-amazon.com/images/I/71r0Ysx+oV...   \n",
       "4     https://m.media-amazon.com/images/I/712tqhtIw1...   \n",
       "...                                                 ...   \n",
       "1574  https://m.media-amazon.com/images/I/61E4zA32Fr...   \n",
       "1575  https://m.media-amazon.com/images/I/61Aj6UW+yu...   \n",
       "1576  https://m.media-amazon.com/images/I/6157kr+aea...   \n",
       "1578  https://m.media-amazon.com/images/I/61VbKHdE0r...   \n",
       "1579  https://m.media-amazon.com/images/I/61R3cVyCcJ...   \n",
       "\n",
       "                                            Product URL  \\\n",
       "0     https://www.amazon.in/sspa/click?ie=UTF8&spc=M...   \n",
       "1     https://www.amazon.in/Samsung-Storage-Display-...   \n",
       "2     https://www.amazon.in/realme-Storage-Comfort-R...   \n",
       "3     https://www.amazon.in/realme-Storage-Comfort-R...   \n",
       "4     https://www.amazon.in/POCO-C61-Ethereal-Blue-6...   \n",
       "...                                                 ...   \n",
       "1574  https://www.amazon.in/Renewed-Z6-Storage-Snapd...   \n",
       "1575  https://www.amazon.in/Renewed-Z6-Phantom-Snapd...   \n",
       "1576  https://www.amazon.in/Renewed-Legend-Storage-S...   \n",
       "1578  https://www.amazon.in/iQOO-Z6-Lite-Snapdragon-...   \n",
       "1579  https://www.amazon.in/Renewed-iQOO-Cyber-256GB...   \n",
       "\n",
       "                                             features-1  \\\n",
       "0                  Fusion Black, 8GB RAM, 256GB Storage   \n",
       "1                    Mint Green, 4GB RAM, 64 GB Storage   \n",
       "2                    Marble Black,6GB RAM+128GB Storage   \n",
       "3                     Voyage Blue,6GB RAM+128GB Storage   \n",
       "4                                                         \n",
       "...                                                 ...   \n",
       "1574    Refurbished, Legion Sky, 8GB RAM, 128GB Storage   \n",
       "1575  Refurbished, Phantom Dusk, 6GB RAM, 128GB Storage   \n",
       "1576        Refurbished, Legend, 8GB RAM, 128GB Storage   \n",
       "1578  Refurbished, Stellar Green, 4GB RAM, 64GB Storage   \n",
       "1579    Refurbished, Cyber Blue, 8GB RAM, 256GB Storage   \n",
       "\n",
       "                   Company and Specifications  \\\n",
       "0                          Redmi Note 13 Pro+   \n",
       "1                          Samsung Galaxy M05   \n",
       "2                            realme NARZO N61   \n",
       "3                            realme NARZO N61   \n",
       "4     POCO C61 Ethereal Blue 4GB RAM 64GB ROM   \n",
       "...                                       ...   \n",
       "1574                                            \n",
       "1575                                            \n",
       "1576                                            \n",
       "1578                                            \n",
       "1579                                            \n",
       "\n",
       "                                              Deatils-1  \n",
       "0      \"WorldsFirstMediatek7200Ultra5G\" 200MPHi-ResC...  \n",
       "1      50MPDualCamera Bigger6.7\"HD+Display 5000mAhBa...  \n",
       "2     90HzEyeComfortDisplay IP54Dust&WaterResistance...  \n",
       "3     90HzEyeComfortDisplay IP54Dust&WaterResistance...  \n",
       "4               POCO C61 Ethereal Blue 4GB RAM 64GB ROM  \n",
       "...                                                 ...  \n",
       "1574          IQOOZ6Pro5G(LegionSky 8GBRAM 128GBStorage  \n",
       "1575        IQOOZ6Pro5G(PhantomDusk 6GBRAM 128GBStorage  \n",
       "1576                IQOO9T5G(Legend 8GBRAM 128GBStorage  \n",
       "1578       iQOOZ6Lite5G(StellarGreen 4GBRAM 64GBStorage  \n",
       "1579             iQOOZ35G(CyberBlue 8GBRAM 256GBStorage  \n",
       "\n",
       "[1035 rows x 8 columns]"
      ]
     },
     "execution_count": 128,
     "metadata": {},
     "output_type": "execute_result"
    }
   ],
   "source": [
    "df11"
   ]
  },
  {
   "cell_type": "code",
   "execution_count": 129,
   "metadata": {},
   "outputs": [],
   "source": [
    "df12=df11"
   ]
  },
  {
   "cell_type": "code",
   "execution_count": 130,
   "metadata": {},
   "outputs": [
    {
     "data": {
      "text/plain": [
       "0                            Redmi Note 13 Pro+\n",
       "1                            Samsung Galaxy M05\n",
       "2                              realme NARZO N61\n",
       "3                              realme NARZO N61\n",
       "4       POCO C61 Ethereal Blue 4GB RAM 64GB ROM\n",
       "                         ...                   \n",
       "1574                                           \n",
       "1575                                           \n",
       "1576                                           \n",
       "1578                                           \n",
       "1579                                           \n",
       "Name: Company and Specifications, Length: 1035, dtype: object"
      ]
     },
     "execution_count": 130,
     "metadata": {},
     "output_type": "execute_result"
    }
   ],
   "source": [
    "df11[\"Company and Specifications\"].astype(str)"
   ]
  },
  {
   "cell_type": "code",
   "execution_count": 131,
   "metadata": {},
   "outputs": [],
   "source": [
    "def pre_Company_and_Specifications(data):\n",
    "    data=data.replace(\"+\",\"plus\")\n",
    "    return data"
   ]
  },
  {
   "cell_type": "code",
   "execution_count": 132,
   "metadata": {},
   "outputs": [
    {
     "name": "stderr",
     "output_type": "stream",
     "text": [
      "C:\\Users\\benny\\AppData\\Local\\Temp\\ipykernel_31316\\200033123.py:1: SettingWithCopyWarning: \n",
      "A value is trying to be set on a copy of a slice from a DataFrame.\n",
      "Try using .loc[row_indexer,col_indexer] = value instead\n",
      "\n",
      "See the caveats in the documentation: https://pandas.pydata.org/pandas-docs/stable/user_guide/indexing.html#returning-a-view-versus-a-copy\n",
      "  df11[\"Company and Specifications\"]=df11[\"Company and Specifications\"].apply(pre_Company_and_Specifications)\n"
     ]
    }
   ],
   "source": [
    "df11[\"Company and Specifications\"]=df11[\"Company and Specifications\"].apply(pre_Company_and_Specifications)"
   ]
  },
  {
   "cell_type": "code",
   "execution_count": 133,
   "metadata": {},
   "outputs": [
    {
     "data": {
      "text/html": [
       "<div>\n",
       "<style scoped>\n",
       "    .dataframe tbody tr th:only-of-type {\n",
       "        vertical-align: middle;\n",
       "    }\n",
       "\n",
       "    .dataframe tbody tr th {\n",
       "        vertical-align: top;\n",
       "    }\n",
       "\n",
       "    .dataframe thead th {\n",
       "        text-align: right;\n",
       "    }\n",
       "</style>\n",
       "<table border=\"1\" class=\"dataframe\">\n",
       "  <thead>\n",
       "    <tr style=\"text-align: right;\">\n",
       "      <th></th>\n",
       "      <th>Rating</th>\n",
       "      <th>Reviews</th>\n",
       "      <th>Price</th>\n",
       "      <th>Image URL</th>\n",
       "      <th>Product URL</th>\n",
       "      <th>features-1</th>\n",
       "      <th>Company and Specifications</th>\n",
       "      <th>Deatils-1</th>\n",
       "    </tr>\n",
       "  </thead>\n",
       "  <tbody>\n",
       "    <tr>\n",
       "      <th>0</th>\n",
       "      <td>3.8</td>\n",
       "      <td>684.0</td>\n",
       "      <td>33999</td>\n",
       "      <td>https://m.media-amazon.com/images/I/71nrf4zgq5...</td>\n",
       "      <td>https://www.amazon.in/sspa/click?ie=UTF8&amp;spc=M...</td>\n",
       "      <td>Fusion Black, 8GB RAM, 256GB Storage</td>\n",
       "      <td>Redmi Note 13 Proplus</td>\n",
       "      <td>\"WorldsFirstMediatek7200Ultra5G\" 200MPHi-ResC...</td>\n",
       "    </tr>\n",
       "    <tr>\n",
       "      <th>1</th>\n",
       "      <td>3.8</td>\n",
       "      <td>60.0</td>\n",
       "      <td>9999</td>\n",
       "      <td>https://m.media-amazon.com/images/I/81T3olLXpU...</td>\n",
       "      <td>https://www.amazon.in/Samsung-Storage-Display-...</td>\n",
       "      <td>Mint Green, 4GB RAM, 64 GB Storage</td>\n",
       "      <td>Samsung Galaxy M05</td>\n",
       "      <td>50MPDualCamera Bigger6.7\"HD+Display 5000mAhBa...</td>\n",
       "    </tr>\n",
       "    <tr>\n",
       "      <th>2</th>\n",
       "      <td>4.1</td>\n",
       "      <td>346.0</td>\n",
       "      <td>10999</td>\n",
       "      <td>https://m.media-amazon.com/images/I/71EN6N9kUE...</td>\n",
       "      <td>https://www.amazon.in/realme-Storage-Comfort-R...</td>\n",
       "      <td>Marble Black,6GB RAM+128GB Storage</td>\n",
       "      <td>realme NARZO N61</td>\n",
       "      <td>90HzEyeComfortDisplay IP54Dust&amp;WaterResistance...</td>\n",
       "    </tr>\n",
       "    <tr>\n",
       "      <th>3</th>\n",
       "      <td>4.1</td>\n",
       "      <td>346.0</td>\n",
       "      <td>10999</td>\n",
       "      <td>https://m.media-amazon.com/images/I/71r0Ysx+oV...</td>\n",
       "      <td>https://www.amazon.in/realme-Storage-Comfort-R...</td>\n",
       "      <td>Voyage Blue,6GB RAM+128GB Storage</td>\n",
       "      <td>realme NARZO N61</td>\n",
       "      <td>90HzEyeComfortDisplay IP54Dust&amp;WaterResistance...</td>\n",
       "    </tr>\n",
       "    <tr>\n",
       "      <th>4</th>\n",
       "      <td>3.5</td>\n",
       "      <td>27.0</td>\n",
       "      <td>8999</td>\n",
       "      <td>https://m.media-amazon.com/images/I/712tqhtIw1...</td>\n",
       "      <td>https://www.amazon.in/POCO-C61-Ethereal-Blue-6...</td>\n",
       "      <td></td>\n",
       "      <td>POCO C61 Ethereal Blue 4GB RAM 64GB ROM</td>\n",
       "      <td>POCO C61 Ethereal Blue 4GB RAM 64GB ROM</td>\n",
       "    </tr>\n",
       "    <tr>\n",
       "      <th>...</th>\n",
       "      <td>...</td>\n",
       "      <td>...</td>\n",
       "      <td>...</td>\n",
       "      <td>...</td>\n",
       "      <td>...</td>\n",
       "      <td>...</td>\n",
       "      <td>...</td>\n",
       "      <td>...</td>\n",
       "    </tr>\n",
       "    <tr>\n",
       "      <th>1574</th>\n",
       "      <td>3.8</td>\n",
       "      <td>15.0</td>\n",
       "      <td>29990</td>\n",
       "      <td>https://m.media-amazon.com/images/I/61E4zA32Fr...</td>\n",
       "      <td>https://www.amazon.in/Renewed-Z6-Storage-Snapd...</td>\n",
       "      <td>Refurbished, Legion Sky, 8GB RAM, 128GB Storage</td>\n",
       "      <td></td>\n",
       "      <td>IQOOZ6Pro5G(LegionSky 8GBRAM 128GBStorage</td>\n",
       "    </tr>\n",
       "    <tr>\n",
       "      <th>1575</th>\n",
       "      <td>3.7</td>\n",
       "      <td>11.0</td>\n",
       "      <td>27990</td>\n",
       "      <td>https://m.media-amazon.com/images/I/61Aj6UW+yu...</td>\n",
       "      <td>https://www.amazon.in/Renewed-Z6-Phantom-Snapd...</td>\n",
       "      <td>Refurbished, Phantom Dusk, 6GB RAM, 128GB Storage</td>\n",
       "      <td></td>\n",
       "      <td>IQOOZ6Pro5G(PhantomDusk 6GBRAM 128GBStorage</td>\n",
       "    </tr>\n",
       "    <tr>\n",
       "      <th>1576</th>\n",
       "      <td>3.3</td>\n",
       "      <td>6.0</td>\n",
       "      <td>54999</td>\n",
       "      <td>https://m.media-amazon.com/images/I/6157kr+aea...</td>\n",
       "      <td>https://www.amazon.in/Renewed-Legend-Storage-S...</td>\n",
       "      <td>Refurbished, Legend, 8GB RAM, 128GB Storage</td>\n",
       "      <td></td>\n",
       "      <td>IQOO9T5G(Legend 8GBRAM 128GBStorage</td>\n",
       "    </tr>\n",
       "    <tr>\n",
       "      <th>1578</th>\n",
       "      <td>3.7</td>\n",
       "      <td>5.0</td>\n",
       "      <td>15999</td>\n",
       "      <td>https://m.media-amazon.com/images/I/61VbKHdE0r...</td>\n",
       "      <td>https://www.amazon.in/iQOO-Z6-Lite-Snapdragon-...</td>\n",
       "      <td>Refurbished, Stellar Green, 4GB RAM, 64GB Storage</td>\n",
       "      <td></td>\n",
       "      <td>iQOOZ6Lite5G(StellarGreen 4GBRAM 64GBStorage</td>\n",
       "    </tr>\n",
       "    <tr>\n",
       "      <th>1579</th>\n",
       "      <td>4.0</td>\n",
       "      <td>65.0</td>\n",
       "      <td>26990</td>\n",
       "      <td>https://m.media-amazon.com/images/I/61R3cVyCcJ...</td>\n",
       "      <td>https://www.amazon.in/Renewed-iQOO-Cyber-256GB...</td>\n",
       "      <td>Refurbished, Cyber Blue, 8GB RAM, 256GB Storage</td>\n",
       "      <td></td>\n",
       "      <td>iQOOZ35G(CyberBlue 8GBRAM 256GBStorage</td>\n",
       "    </tr>\n",
       "  </tbody>\n",
       "</table>\n",
       "<p>1035 rows × 8 columns</p>\n",
       "</div>"
      ],
      "text/plain": [
       "      Rating  Reviews  Price  \\\n",
       "0        3.8    684.0  33999   \n",
       "1        3.8     60.0   9999   \n",
       "2        4.1    346.0  10999   \n",
       "3        4.1    346.0  10999   \n",
       "4        3.5     27.0   8999   \n",
       "...      ...      ...    ...   \n",
       "1574     3.8     15.0  29990   \n",
       "1575     3.7     11.0  27990   \n",
       "1576     3.3      6.0  54999   \n",
       "1578     3.7      5.0  15999   \n",
       "1579     4.0     65.0  26990   \n",
       "\n",
       "                                              Image URL  \\\n",
       "0     https://m.media-amazon.com/images/I/71nrf4zgq5...   \n",
       "1     https://m.media-amazon.com/images/I/81T3olLXpU...   \n",
       "2     https://m.media-amazon.com/images/I/71EN6N9kUE...   \n",
       "3     https://m.media-amazon.com/images/I/71r0Ysx+oV...   \n",
       "4     https://m.media-amazon.com/images/I/712tqhtIw1...   \n",
       "...                                                 ...   \n",
       "1574  https://m.media-amazon.com/images/I/61E4zA32Fr...   \n",
       "1575  https://m.media-amazon.com/images/I/61Aj6UW+yu...   \n",
       "1576  https://m.media-amazon.com/images/I/6157kr+aea...   \n",
       "1578  https://m.media-amazon.com/images/I/61VbKHdE0r...   \n",
       "1579  https://m.media-amazon.com/images/I/61R3cVyCcJ...   \n",
       "\n",
       "                                            Product URL  \\\n",
       "0     https://www.amazon.in/sspa/click?ie=UTF8&spc=M...   \n",
       "1     https://www.amazon.in/Samsung-Storage-Display-...   \n",
       "2     https://www.amazon.in/realme-Storage-Comfort-R...   \n",
       "3     https://www.amazon.in/realme-Storage-Comfort-R...   \n",
       "4     https://www.amazon.in/POCO-C61-Ethereal-Blue-6...   \n",
       "...                                                 ...   \n",
       "1574  https://www.amazon.in/Renewed-Z6-Storage-Snapd...   \n",
       "1575  https://www.amazon.in/Renewed-Z6-Phantom-Snapd...   \n",
       "1576  https://www.amazon.in/Renewed-Legend-Storage-S...   \n",
       "1578  https://www.amazon.in/iQOO-Z6-Lite-Snapdragon-...   \n",
       "1579  https://www.amazon.in/Renewed-iQOO-Cyber-256GB...   \n",
       "\n",
       "                                             features-1  \\\n",
       "0                  Fusion Black, 8GB RAM, 256GB Storage   \n",
       "1                    Mint Green, 4GB RAM, 64 GB Storage   \n",
       "2                    Marble Black,6GB RAM+128GB Storage   \n",
       "3                     Voyage Blue,6GB RAM+128GB Storage   \n",
       "4                                                         \n",
       "...                                                 ...   \n",
       "1574    Refurbished, Legion Sky, 8GB RAM, 128GB Storage   \n",
       "1575  Refurbished, Phantom Dusk, 6GB RAM, 128GB Storage   \n",
       "1576        Refurbished, Legend, 8GB RAM, 128GB Storage   \n",
       "1578  Refurbished, Stellar Green, 4GB RAM, 64GB Storage   \n",
       "1579    Refurbished, Cyber Blue, 8GB RAM, 256GB Storage   \n",
       "\n",
       "                   Company and Specifications  \\\n",
       "0                       Redmi Note 13 Proplus   \n",
       "1                          Samsung Galaxy M05   \n",
       "2                            realme NARZO N61   \n",
       "3                            realme NARZO N61   \n",
       "4     POCO C61 Ethereal Blue 4GB RAM 64GB ROM   \n",
       "...                                       ...   \n",
       "1574                                            \n",
       "1575                                            \n",
       "1576                                            \n",
       "1578                                            \n",
       "1579                                            \n",
       "\n",
       "                                              Deatils-1  \n",
       "0      \"WorldsFirstMediatek7200Ultra5G\" 200MPHi-ResC...  \n",
       "1      50MPDualCamera Bigger6.7\"HD+Display 5000mAhBa...  \n",
       "2     90HzEyeComfortDisplay IP54Dust&WaterResistance...  \n",
       "3     90HzEyeComfortDisplay IP54Dust&WaterResistance...  \n",
       "4               POCO C61 Ethereal Blue 4GB RAM 64GB ROM  \n",
       "...                                                 ...  \n",
       "1574          IQOOZ6Pro5G(LegionSky 8GBRAM 128GBStorage  \n",
       "1575        IQOOZ6Pro5G(PhantomDusk 6GBRAM 128GBStorage  \n",
       "1576                IQOO9T5G(Legend 8GBRAM 128GBStorage  \n",
       "1578       iQOOZ6Lite5G(StellarGreen 4GBRAM 64GBStorage  \n",
       "1579             iQOOZ35G(CyberBlue 8GBRAM 256GBStorage  \n",
       "\n",
       "[1035 rows x 8 columns]"
      ]
     },
     "execution_count": 133,
     "metadata": {},
     "output_type": "execute_result"
    }
   ],
   "source": [
    "df11"
   ]
  },
  {
   "cell_type": "code",
   "execution_count": 134,
   "metadata": {},
   "outputs": [],
   "source": [
    "from sklearn.feature_extraction.text import CountVectorizer\n",
    "countv=CountVectorizer()"
   ]
  },
  {
   "cell_type": "code",
   "execution_count": null,
   "metadata": {},
   "outputs": [],
   "source": []
  },
  {
   "cell_type": "code",
   "execution_count": 135,
   "metadata": {},
   "outputs": [],
   "source": [
    "df11=df12"
   ]
  },
  {
   "cell_type": "code",
   "execution_count": 136,
   "metadata": {},
   "outputs": [],
   "source": [
    "df13=df11"
   ]
  },
  {
   "cell_type": "code",
   "execution_count": null,
   "metadata": {},
   "outputs": [],
   "source": []
  },
  {
   "cell_type": "code",
   "execution_count": 137,
   "metadata": {},
   "outputs": [
    {
     "data": {
      "text/plain": [
       "(1035, 8)"
      ]
     },
     "execution_count": 137,
     "metadata": {},
     "output_type": "execute_result"
    }
   ],
   "source": [
    "df13.shape"
   ]
  },
  {
   "cell_type": "code",
   "execution_count": 138,
   "metadata": {},
   "outputs": [
    {
     "data": {
      "text/plain": [
       "'from sklearn.preprocessing import LabelEncoder\\nle=LabelEncoder()\\ndf13[\"Company and Specifications\"]=le.fit_transform(df13[\"Company and Specifications\"])\\n'"
      ]
     },
     "execution_count": 138,
     "metadata": {},
     "output_type": "execute_result"
    }
   ],
   "source": [
    "'''from sklearn.preprocessing import LabelEncoder\n",
    "le=LabelEncoder()\n",
    "df13[\"Company and Specifications\"]=le.fit_transform(df13[\"Company and Specifications\"])\n",
    "'''"
   ]
  },
  {
   "cell_type": "code",
   "execution_count": 139,
   "metadata": {},
   "outputs": [],
   "source": [
    "df14=df13"
   ]
  },
  {
   "cell_type": "code",
   "execution_count": 140,
   "metadata": {},
   "outputs": [
    {
     "data": {
      "text/plain": [
       "'Mint Green, 4GB RAM, 64 GB Storage'"
      ]
     },
     "execution_count": 140,
     "metadata": {},
     "output_type": "execute_result"
    }
   ],
   "source": [
    "d2=df14[\"features-1\"].iloc[1]\n",
    "d2"
   ]
  },
  {
   "cell_type": "code",
   "execution_count": 141,
   "metadata": {},
   "outputs": [],
   "source": [
    "d2=d2.split(\",\")"
   ]
  },
  {
   "cell_type": "code",
   "execution_count": 142,
   "metadata": {},
   "outputs": [],
   "source": [
    "import numpy as np"
   ]
  },
  {
   "cell_type": "code",
   "execution_count": 143,
   "metadata": {},
   "outputs": [],
   "source": [
    "d2=np.array(d2).reshape(1,-1)"
   ]
  },
  {
   "cell_type": "code",
   "execution_count": 144,
   "metadata": {},
   "outputs": [
    {
     "data": {
      "text/plain": [
       "array([['Mint Green', ' 4GB RAM', ' 64 GB Storage']], dtype='<U14')"
      ]
     },
     "execution_count": 144,
     "metadata": {},
     "output_type": "execute_result"
    }
   ],
   "source": [
    "d2"
   ]
  },
  {
   "cell_type": "code",
   "execution_count": 145,
   "metadata": {},
   "outputs": [],
   "source": [
    "#pip install spacy"
   ]
  },
  {
   "cell_type": "code",
   "execution_count": 146,
   "metadata": {},
   "outputs": [],
   "source": [
    "import spacy"
   ]
  },
  {
   "cell_type": "code",
   "execution_count": 147,
   "metadata": {},
   "outputs": [],
   "source": [
    "nlp=spacy.load(\"en_core_web_sm\")"
   ]
  },
  {
   "cell_type": "code",
   "execution_count": 148,
   "metadata": {},
   "outputs": [],
   "source": [
    "def preprocess_text(text):\n",
    "    doc=nlp(text)\n",
    "    filtered_token=[]\n",
    "    for token in doc:\n",
    "        if token.is_stop or token.is_punct:\n",
    "            continue\n",
    "        filtered_token.append(token.lemma_)\n",
    "    return \" \".join(filtered_token)"
   ]
  },
  {
   "cell_type": "code",
   "execution_count": 149,
   "metadata": {},
   "outputs": [
    {
     "name": "stderr",
     "output_type": "stream",
     "text": [
      "C:\\Users\\benny\\AppData\\Local\\Temp\\ipykernel_31316\\3397986354.py:1: SettingWithCopyWarning: \n",
      "A value is trying to be set on a copy of a slice from a DataFrame.\n",
      "Try using .loc[row_indexer,col_indexer] = value instead\n",
      "\n",
      "See the caveats in the documentation: https://pandas.pydata.org/pandas-docs/stable/user_guide/indexing.html#returning-a-view-versus-a-copy\n",
      "  df14[\"Company and Specifications\"]=df14[\"Company and Specifications\"].apply(preprocess_text)\n"
     ]
    }
   ],
   "source": [
    "df14[\"Company and Specifications\"]=df14[\"Company and Specifications\"].apply(preprocess_text)"
   ]
  },
  {
   "cell_type": "code",
   "execution_count": 150,
   "metadata": {},
   "outputs": [
    {
     "name": "stderr",
     "output_type": "stream",
     "text": [
      "C:\\Users\\benny\\AppData\\Local\\Temp\\ipykernel_31316\\577332388.py:1: SettingWithCopyWarning: \n",
      "A value is trying to be set on a copy of a slice from a DataFrame.\n",
      "Try using .loc[row_indexer,col_indexer] = value instead\n",
      "\n",
      "See the caveats in the documentation: https://pandas.pydata.org/pandas-docs/stable/user_guide/indexing.html#returning-a-view-versus-a-copy\n",
      "  df14[\"features-1\"]=df14[\"features-1\"].apply(preprocess_text)\n"
     ]
    }
   ],
   "source": [
    "df14[\"features-1\"]=df14[\"features-1\"].apply(preprocess_text)"
   ]
  },
  {
   "cell_type": "code",
   "execution_count": 151,
   "metadata": {},
   "outputs": [
    {
     "name": "stderr",
     "output_type": "stream",
     "text": [
      "C:\\Users\\benny\\AppData\\Local\\Temp\\ipykernel_31316\\3630740452.py:1: SettingWithCopyWarning: \n",
      "A value is trying to be set on a copy of a slice from a DataFrame.\n",
      "Try using .loc[row_indexer,col_indexer] = value instead\n",
      "\n",
      "See the caveats in the documentation: https://pandas.pydata.org/pandas-docs/stable/user_guide/indexing.html#returning-a-view-versus-a-copy\n",
      "  df14[\"Deatils-1\"]=df14[\"Deatils-1\"].apply(preprocess_text)\n"
     ]
    }
   ],
   "source": [
    "df14[\"Deatils-1\"]=df14[\"Deatils-1\"].apply(preprocess_text)"
   ]
  },
  {
   "cell_type": "code",
   "execution_count": 152,
   "metadata": {},
   "outputs": [
    {
     "name": "stderr",
     "output_type": "stream",
     "text": [
      "C:\\Users\\benny\\AppData\\Local\\Temp\\ipykernel_31316\\649394473.py:1: SettingWithCopyWarning: \n",
      "A value is trying to be set on a copy of a slice from a DataFrame.\n",
      "Try using .loc[row_indexer,col_indexer] = value instead\n",
      "\n",
      "See the caveats in the documentation: https://pandas.pydata.org/pandas-docs/stable/user_guide/indexing.html#returning-a-view-versus-a-copy\n",
      "  df14[\"Company and Specifications\"]=df14[\"Company and Specifications\"].astype(str)\n"
     ]
    }
   ],
   "source": [
    "df14[\"Company and Specifications\"]=df14[\"Company and Specifications\"].astype(str)"
   ]
  },
  {
   "cell_type": "code",
   "execution_count": 153,
   "metadata": {},
   "outputs": [],
   "source": [
    "def pre1(data):\n",
    "    data=data.replace(\"[\",\"\").replace(\"]\",\"\").replace(\"'\",\"\")\n",
    "    return data"
   ]
  },
  {
   "cell_type": "code",
   "execution_count": 154,
   "metadata": {},
   "outputs": [
    {
     "name": "stderr",
     "output_type": "stream",
     "text": [
      "C:\\Users\\benny\\AppData\\Local\\Temp\\ipykernel_31316\\10161850.py:1: SettingWithCopyWarning: \n",
      "A value is trying to be set on a copy of a slice from a DataFrame.\n",
      "Try using .loc[row_indexer,col_indexer] = value instead\n",
      "\n",
      "See the caveats in the documentation: https://pandas.pydata.org/pandas-docs/stable/user_guide/indexing.html#returning-a-view-versus-a-copy\n",
      "  df14[\"Company and Specifications\"]=df14[\"Company and Specifications\"].apply(pre1)\n"
     ]
    }
   ],
   "source": [
    "df14[\"Company and Specifications\"]=df14[\"Company and Specifications\"].apply(pre1)"
   ]
  },
  {
   "cell_type": "code",
   "execution_count": 155,
   "metadata": {},
   "outputs": [
    {
     "data": {
      "text/html": [
       "<div>\n",
       "<style scoped>\n",
       "    .dataframe tbody tr th:only-of-type {\n",
       "        vertical-align: middle;\n",
       "    }\n",
       "\n",
       "    .dataframe tbody tr th {\n",
       "        vertical-align: top;\n",
       "    }\n",
       "\n",
       "    .dataframe thead th {\n",
       "        text-align: right;\n",
       "    }\n",
       "</style>\n",
       "<table border=\"1\" class=\"dataframe\">\n",
       "  <thead>\n",
       "    <tr style=\"text-align: right;\">\n",
       "      <th></th>\n",
       "      <th>Rating</th>\n",
       "      <th>Reviews</th>\n",
       "      <th>Price</th>\n",
       "      <th>Image URL</th>\n",
       "      <th>Product URL</th>\n",
       "      <th>features-1</th>\n",
       "      <th>Company and Specifications</th>\n",
       "      <th>Deatils-1</th>\n",
       "    </tr>\n",
       "  </thead>\n",
       "  <tbody>\n",
       "    <tr>\n",
       "      <th>0</th>\n",
       "      <td>3.8</td>\n",
       "      <td>684.0</td>\n",
       "      <td>33999</td>\n",
       "      <td>https://m.media-amazon.com/images/I/71nrf4zgq5...</td>\n",
       "      <td>https://www.amazon.in/sspa/click?ie=UTF8&amp;spc=M...</td>\n",
       "      <td>fusion Black 8 GB RAM 256 GB storage</td>\n",
       "      <td>Redmi note 13 Proplus</td>\n",
       "      <td>WorldsFirstMediatek7200Ultra5 G 200MPHi ResC...</td>\n",
       "    </tr>\n",
       "    <tr>\n",
       "      <th>1</th>\n",
       "      <td>3.8</td>\n",
       "      <td>60.0</td>\n",
       "      <td>9999</td>\n",
       "      <td>https://m.media-amazon.com/images/I/81T3olLXpU...</td>\n",
       "      <td>https://www.amazon.in/Samsung-Storage-Display-...</td>\n",
       "      <td>Mint Green 4 GB RAM 64 GB storage</td>\n",
       "      <td>Samsung Galaxy M05</td>\n",
       "      <td>50mpdualcamera bigger6.7\"hd+display 5000mahb...</td>\n",
       "    </tr>\n",
       "    <tr>\n",
       "      <th>2</th>\n",
       "      <td>4.1</td>\n",
       "      <td>346.0</td>\n",
       "      <td>10999</td>\n",
       "      <td>https://m.media-amazon.com/images/I/71EN6N9kUE...</td>\n",
       "      <td>https://www.amazon.in/realme-Storage-Comfort-R...</td>\n",
       "      <td>marble black,6 GB ram+128 GB storage</td>\n",
       "      <td>realme NARZO N61</td>\n",
       "      <td>90hzeyecomfortdisplay ip54dust&amp;waterresistance...</td>\n",
       "    </tr>\n",
       "    <tr>\n",
       "      <th>3</th>\n",
       "      <td>4.1</td>\n",
       "      <td>346.0</td>\n",
       "      <td>10999</td>\n",
       "      <td>https://m.media-amazon.com/images/I/71r0Ysx+oV...</td>\n",
       "      <td>https://www.amazon.in/realme-Storage-Comfort-R...</td>\n",
       "      <td>Voyage Blue,6 GB ram+128 GB storage</td>\n",
       "      <td>realme NARZO N61</td>\n",
       "      <td>90hzeyecomfortdisplay ip54dust&amp;waterresistance...</td>\n",
       "    </tr>\n",
       "    <tr>\n",
       "      <th>4</th>\n",
       "      <td>3.5</td>\n",
       "      <td>27.0</td>\n",
       "      <td>8999</td>\n",
       "      <td>https://m.media-amazon.com/images/I/712tqhtIw1...</td>\n",
       "      <td>https://www.amazon.in/POCO-C61-Ethereal-Blue-6...</td>\n",
       "      <td></td>\n",
       "      <td>poco C61 Ethereal Blue 4 GB ram 64 GB rom</td>\n",
       "      <td>poco C61 Ethereal Blue 4 GB ram 64 GB rom</td>\n",
       "    </tr>\n",
       "    <tr>\n",
       "      <th>...</th>\n",
       "      <td>...</td>\n",
       "      <td>...</td>\n",
       "      <td>...</td>\n",
       "      <td>...</td>\n",
       "      <td>...</td>\n",
       "      <td>...</td>\n",
       "      <td>...</td>\n",
       "      <td>...</td>\n",
       "    </tr>\n",
       "    <tr>\n",
       "      <th>1574</th>\n",
       "      <td>3.8</td>\n",
       "      <td>15.0</td>\n",
       "      <td>29990</td>\n",
       "      <td>https://m.media-amazon.com/images/I/61E4zA32Fr...</td>\n",
       "      <td>https://www.amazon.in/Renewed-Z6-Storage-Snapd...</td>\n",
       "      <td>refurbish Legion Sky 8 GB ram 128 GB storage</td>\n",
       "      <td></td>\n",
       "      <td>iqooz6pro5g(legionsky 8GBRAM 128gbstorage</td>\n",
       "    </tr>\n",
       "    <tr>\n",
       "      <th>1575</th>\n",
       "      <td>3.7</td>\n",
       "      <td>11.0</td>\n",
       "      <td>27990</td>\n",
       "      <td>https://m.media-amazon.com/images/I/61Aj6UW+yu...</td>\n",
       "      <td>https://www.amazon.in/Renewed-Z6-Phantom-Snapd...</td>\n",
       "      <td>refurbish Phantom Dusk 6 GB RAM 128 GB storage</td>\n",
       "      <td></td>\n",
       "      <td>IQOOZ6Pro5G(PhantomDusk 6GBRAM 128gbstorage</td>\n",
       "    </tr>\n",
       "    <tr>\n",
       "      <th>1576</th>\n",
       "      <td>3.3</td>\n",
       "      <td>6.0</td>\n",
       "      <td>54999</td>\n",
       "      <td>https://m.media-amazon.com/images/I/6157kr+aea...</td>\n",
       "      <td>https://www.amazon.in/Renewed-Legend-Storage-S...</td>\n",
       "      <td>refurbish Legend 8 GB ram 128 GB storage</td>\n",
       "      <td></td>\n",
       "      <td>IQOO9T5G(Legend 8GBRAM 128gbstorage</td>\n",
       "    </tr>\n",
       "    <tr>\n",
       "      <th>1578</th>\n",
       "      <td>3.7</td>\n",
       "      <td>5.0</td>\n",
       "      <td>15999</td>\n",
       "      <td>https://m.media-amazon.com/images/I/61VbKHdE0r...</td>\n",
       "      <td>https://www.amazon.in/iQOO-Z6-Lite-Snapdragon-...</td>\n",
       "      <td>refurbish Stellar Green 4 GB RAM 64 GB storage</td>\n",
       "      <td></td>\n",
       "      <td>iQOOZ6Lite5G(StellarGreen 4gbram 64gbstorage</td>\n",
       "    </tr>\n",
       "    <tr>\n",
       "      <th>1579</th>\n",
       "      <td>4.0</td>\n",
       "      <td>65.0</td>\n",
       "      <td>26990</td>\n",
       "      <td>https://m.media-amazon.com/images/I/61R3cVyCcJ...</td>\n",
       "      <td>https://www.amazon.in/Renewed-iQOO-Cyber-256GB...</td>\n",
       "      <td>refurbish Cyber Blue 8 GB RAM 256 GB storage</td>\n",
       "      <td></td>\n",
       "      <td>iqooz35g(cyberblue 8gbram 256gbstorage</td>\n",
       "    </tr>\n",
       "  </tbody>\n",
       "</table>\n",
       "<p>1035 rows × 8 columns</p>\n",
       "</div>"
      ],
      "text/plain": [
       "      Rating  Reviews  Price  \\\n",
       "0        3.8    684.0  33999   \n",
       "1        3.8     60.0   9999   \n",
       "2        4.1    346.0  10999   \n",
       "3        4.1    346.0  10999   \n",
       "4        3.5     27.0   8999   \n",
       "...      ...      ...    ...   \n",
       "1574     3.8     15.0  29990   \n",
       "1575     3.7     11.0  27990   \n",
       "1576     3.3      6.0  54999   \n",
       "1578     3.7      5.0  15999   \n",
       "1579     4.0     65.0  26990   \n",
       "\n",
       "                                              Image URL  \\\n",
       "0     https://m.media-amazon.com/images/I/71nrf4zgq5...   \n",
       "1     https://m.media-amazon.com/images/I/81T3olLXpU...   \n",
       "2     https://m.media-amazon.com/images/I/71EN6N9kUE...   \n",
       "3     https://m.media-amazon.com/images/I/71r0Ysx+oV...   \n",
       "4     https://m.media-amazon.com/images/I/712tqhtIw1...   \n",
       "...                                                 ...   \n",
       "1574  https://m.media-amazon.com/images/I/61E4zA32Fr...   \n",
       "1575  https://m.media-amazon.com/images/I/61Aj6UW+yu...   \n",
       "1576  https://m.media-amazon.com/images/I/6157kr+aea...   \n",
       "1578  https://m.media-amazon.com/images/I/61VbKHdE0r...   \n",
       "1579  https://m.media-amazon.com/images/I/61R3cVyCcJ...   \n",
       "\n",
       "                                            Product URL  \\\n",
       "0     https://www.amazon.in/sspa/click?ie=UTF8&spc=M...   \n",
       "1     https://www.amazon.in/Samsung-Storage-Display-...   \n",
       "2     https://www.amazon.in/realme-Storage-Comfort-R...   \n",
       "3     https://www.amazon.in/realme-Storage-Comfort-R...   \n",
       "4     https://www.amazon.in/POCO-C61-Ethereal-Blue-6...   \n",
       "...                                                 ...   \n",
       "1574  https://www.amazon.in/Renewed-Z6-Storage-Snapd...   \n",
       "1575  https://www.amazon.in/Renewed-Z6-Phantom-Snapd...   \n",
       "1576  https://www.amazon.in/Renewed-Legend-Storage-S...   \n",
       "1578  https://www.amazon.in/iQOO-Z6-Lite-Snapdragon-...   \n",
       "1579  https://www.amazon.in/Renewed-iQOO-Cyber-256GB...   \n",
       "\n",
       "                                          features-1  \\\n",
       "0               fusion Black 8 GB RAM 256 GB storage   \n",
       "1                  Mint Green 4 GB RAM 64 GB storage   \n",
       "2               marble black,6 GB ram+128 GB storage   \n",
       "3                Voyage Blue,6 GB ram+128 GB storage   \n",
       "4                                                      \n",
       "...                                              ...   \n",
       "1574    refurbish Legion Sky 8 GB ram 128 GB storage   \n",
       "1575  refurbish Phantom Dusk 6 GB RAM 128 GB storage   \n",
       "1576        refurbish Legend 8 GB ram 128 GB storage   \n",
       "1578  refurbish Stellar Green 4 GB RAM 64 GB storage   \n",
       "1579    refurbish Cyber Blue 8 GB RAM 256 GB storage   \n",
       "\n",
       "                     Company and Specifications  \\\n",
       "0                         Redmi note 13 Proplus   \n",
       "1                            Samsung Galaxy M05   \n",
       "2                              realme NARZO N61   \n",
       "3                              realme NARZO N61   \n",
       "4     poco C61 Ethereal Blue 4 GB ram 64 GB rom   \n",
       "...                                         ...   \n",
       "1574                                              \n",
       "1575                                              \n",
       "1576                                              \n",
       "1578                                              \n",
       "1579                                              \n",
       "\n",
       "                                              Deatils-1  \n",
       "0       WorldsFirstMediatek7200Ultra5 G 200MPHi ResC...  \n",
       "1       50mpdualcamera bigger6.7\"hd+display 5000mahb...  \n",
       "2     90hzeyecomfortdisplay ip54dust&waterresistance...  \n",
       "3     90hzeyecomfortdisplay ip54dust&waterresistance...  \n",
       "4             poco C61 Ethereal Blue 4 GB ram 64 GB rom  \n",
       "...                                                 ...  \n",
       "1574          iqooz6pro5g(legionsky 8GBRAM 128gbstorage  \n",
       "1575        IQOOZ6Pro5G(PhantomDusk 6GBRAM 128gbstorage  \n",
       "1576                IQOO9T5G(Legend 8GBRAM 128gbstorage  \n",
       "1578       iQOOZ6Lite5G(StellarGreen 4gbram 64gbstorage  \n",
       "1579             iqooz35g(cyberblue 8gbram 256gbstorage  \n",
       "\n",
       "[1035 rows x 8 columns]"
      ]
     },
     "execution_count": 155,
     "metadata": {},
     "output_type": "execute_result"
    }
   ],
   "source": [
    "df14"
   ]
  },
  {
   "cell_type": "code",
   "execution_count": 156,
   "metadata": {},
   "outputs": [],
   "source": [
    "df15=df14.drop([\"Image URL\",\"Product URL\"],axis=1)"
   ]
  },
  {
   "cell_type": "code",
   "execution_count": 157,
   "metadata": {},
   "outputs": [],
   "source": [
    "from sklearn.neighbors import KNeighborsRegressor \n",
    "from sklearn.pipeline import Pipeline\n",
    "from sklearn.feature_extraction.text import TfidfVectorizer\n",
    "from sklearn.model_selection import train_test_split"
   ]
  },
  {
   "cell_type": "code",
   "execution_count": 159,
   "metadata": {},
   "outputs": [
    {
     "data": {
      "text/plain": [
       "0       https://m.media-amazon.com/images/I/71nrf4zgq5...\n",
       "1       https://m.media-amazon.com/images/I/81T3olLXpU...\n",
       "2       https://m.media-amazon.com/images/I/71EN6N9kUE...\n",
       "3       https://m.media-amazon.com/images/I/71r0Ysx+oV...\n",
       "4       https://m.media-amazon.com/images/I/712tqhtIw1...\n",
       "                              ...                        \n",
       "1577    https://m.media-amazon.com/images/I/611rQWZa5r...\n",
       "1578    https://m.media-amazon.com/images/I/61VbKHdE0r...\n",
       "1579    https://m.media-amazon.com/images/I/61R3cVyCcJ...\n",
       "1580    https://m.media-amazon.com/images/I/611rQWZa5r...\n",
       "1581    https://m.media-amazon.com/images/I/71ZeuCAbcS...\n",
       "Name: Image URL, Length: 1582, dtype: object"
      ]
     },
     "execution_count": 159,
     "metadata": {},
     "output_type": "execute_result"
    }
   ],
   "source": [
    "image_url"
   ]
  },
  {
   "cell_type": "code",
   "execution_count": 637,
   "metadata": {},
   "outputs": [
    {
     "data": {
      "text/plain": [
       "0       https://www.amazon.in/sspa/click?ie=UTF8&spc=M...\n",
       "1       https://www.amazon.in/Samsung-Storage-Display-...\n",
       "2       https://www.amazon.in/realme-Storage-Comfort-R...\n",
       "3       https://www.amazon.in/realme-Storage-Comfort-R...\n",
       "4       https://www.amazon.in/POCO-C61-Ethereal-Blue-6...\n",
       "                              ...                        \n",
       "1577    https://www.amazon.in/Refurbished-iQOO-Snapdra...\n",
       "1578    https://www.amazon.in/iQOO-Z6-Lite-Snapdragon-...\n",
       "1579    https://www.amazon.in/Renewed-iQOO-Cyber-256GB...\n",
       "1580    https://www.amazon.in/Refurbished-iQOO-Snapdra...\n",
       "1581    https://www.amazon.in/Refurbished-iQOO-Snapdra...\n",
       "Name: Product URL, Length: 1582, dtype: object"
      ]
     },
     "execution_count": 637,
     "metadata": {},
     "output_type": "execute_result"
    }
   ],
   "source": [
    "product_url"
   ]
  },
  {
   "cell_type": "code",
   "execution_count": 638,
   "metadata": {},
   "outputs": [],
   "source": [
    "X=df15.drop(\"Price\",axis=1)"
   ]
  },
  {
   "cell_type": "code",
   "execution_count": 639,
   "metadata": {},
   "outputs": [],
   "source": [
    "y=df15[\"Price\"]"
   ]
  },
  {
   "cell_type": "code",
   "execution_count": 640,
   "metadata": {},
   "outputs": [],
   "source": [
    "features=X"
   ]
  },
  {
   "cell_type": "code",
   "execution_count": 641,
   "metadata": {},
   "outputs": [],
   "source": [
    "from sklearn.preprocessing import LabelEncoder\n",
    "le=LabelEncoder()\n",
    "X[\"Company and Specifications\"]=le.fit_transform(X[\"Company and Specifications\"])\n",
    "X[\"features-1\"]=le.fit_transform(X[\"features-1\"])\n",
    "X[\"Deatils-1\"]=le.fit_transform(X[\"Deatils-1\"])"
   ]
  },
  {
   "cell_type": "code",
   "execution_count": 642,
   "metadata": {},
   "outputs": [],
   "source": [
    "x_train,x_test,y_train,y_test=train_test_split(X,y,test_size=0.2,random_state=2025)"
   ]
  },
  {
   "cell_type": "code",
   "execution_count": 643,
   "metadata": {},
   "outputs": [
    {
     "data": {
      "text/html": [
       "<div>\n",
       "<style scoped>\n",
       "    .dataframe tbody tr th:only-of-type {\n",
       "        vertical-align: middle;\n",
       "    }\n",
       "\n",
       "    .dataframe tbody tr th {\n",
       "        vertical-align: top;\n",
       "    }\n",
       "\n",
       "    .dataframe thead th {\n",
       "        text-align: right;\n",
       "    }\n",
       "</style>\n",
       "<table border=\"1\" class=\"dataframe\">\n",
       "  <thead>\n",
       "    <tr style=\"text-align: right;\">\n",
       "      <th></th>\n",
       "      <th>Rating</th>\n",
       "      <th>Reviews</th>\n",
       "      <th>features-1</th>\n",
       "      <th>Company and Specifications</th>\n",
       "      <th>Deatils-1</th>\n",
       "    </tr>\n",
       "  </thead>\n",
       "  <tbody>\n",
       "    <tr>\n",
       "      <th>0</th>\n",
       "      <td>3.8</td>\n",
       "      <td>684.0</td>\n",
       "      <td>282</td>\n",
       "      <td>135</td>\n",
       "      <td>48</td>\n",
       "    </tr>\n",
       "    <tr>\n",
       "      <th>1</th>\n",
       "      <td>3.8</td>\n",
       "      <td>60.0</td>\n",
       "      <td>158</td>\n",
       "      <td>149</td>\n",
       "      <td>11</td>\n",
       "    </tr>\n",
       "    <tr>\n",
       "      <th>2</th>\n",
       "      <td>4.1</td>\n",
       "      <td>346.0</td>\n",
       "      <td>296</td>\n",
       "      <td>254</td>\n",
       "      <td>93</td>\n",
       "    </tr>\n",
       "    <tr>\n",
       "      <th>3</th>\n",
       "      <td>4.1</td>\n",
       "      <td>346.0</td>\n",
       "      <td>254</td>\n",
       "      <td>254</td>\n",
       "      <td>93</td>\n",
       "    </tr>\n",
       "    <tr>\n",
       "      <th>4</th>\n",
       "      <td>3.5</td>\n",
       "      <td>27.0</td>\n",
       "      <td>0</td>\n",
       "      <td>231</td>\n",
       "      <td>202</td>\n",
       "    </tr>\n",
       "    <tr>\n",
       "      <th>...</th>\n",
       "      <td>...</td>\n",
       "      <td>...</td>\n",
       "      <td>...</td>\n",
       "      <td>...</td>\n",
       "      <td>...</td>\n",
       "    </tr>\n",
       "    <tr>\n",
       "      <th>1574</th>\n",
       "      <td>3.8</td>\n",
       "      <td>15.0</td>\n",
       "      <td>319</td>\n",
       "      <td>0</td>\n",
       "      <td>188</td>\n",
       "    </tr>\n",
       "    <tr>\n",
       "      <th>1575</th>\n",
       "      <td>3.7</td>\n",
       "      <td>11.0</td>\n",
       "      <td>322</td>\n",
       "      <td>0</td>\n",
       "      <td>112</td>\n",
       "    </tr>\n",
       "    <tr>\n",
       "      <th>1576</th>\n",
       "      <td>3.3</td>\n",
       "      <td>6.0</td>\n",
       "      <td>317</td>\n",
       "      <td>0</td>\n",
       "      <td>110</td>\n",
       "    </tr>\n",
       "    <tr>\n",
       "      <th>1578</th>\n",
       "      <td>3.7</td>\n",
       "      <td>5.0</td>\n",
       "      <td>324</td>\n",
       "      <td>0</td>\n",
       "      <td>180</td>\n",
       "    </tr>\n",
       "    <tr>\n",
       "      <th>1579</th>\n",
       "      <td>4.0</td>\n",
       "      <td>65.0</td>\n",
       "      <td>313</td>\n",
       "      <td>0</td>\n",
       "      <td>187</td>\n",
       "    </tr>\n",
       "  </tbody>\n",
       "</table>\n",
       "<p>1035 rows × 5 columns</p>\n",
       "</div>"
      ],
      "text/plain": [
       "      Rating  Reviews  features-1  Company and Specifications  Deatils-1\n",
       "0        3.8    684.0         282                         135         48\n",
       "1        3.8     60.0         158                         149         11\n",
       "2        4.1    346.0         296                         254         93\n",
       "3        4.1    346.0         254                         254         93\n",
       "4        3.5     27.0           0                         231        202\n",
       "...      ...      ...         ...                         ...        ...\n",
       "1574     3.8     15.0         319                           0        188\n",
       "1575     3.7     11.0         322                           0        112\n",
       "1576     3.3      6.0         317                           0        110\n",
       "1578     3.7      5.0         324                           0        180\n",
       "1579     4.0     65.0         313                           0        187\n",
       "\n",
       "[1035 rows x 5 columns]"
      ]
     },
     "execution_count": 643,
     "metadata": {},
     "output_type": "execute_result"
    }
   ],
   "source": [
    "X"
   ]
  },
  {
   "cell_type": "code",
   "execution_count": 644,
   "metadata": {},
   "outputs": [
    {
     "data": {
      "text/plain": [
       "'from sklearn.preprocessing import StandardScaler\\nscale=StandardScaler()\\nfor x in X.columns:\\n    X[x]=scale.fit_transform(X[[x]])'"
      ]
     },
     "execution_count": 644,
     "metadata": {},
     "output_type": "execute_result"
    }
   ],
   "source": [
    "'''from sklearn.preprocessing import StandardScaler\n",
    "scale=StandardScaler()\n",
    "for x in X.columns:\n",
    "    X[x]=scale.fit_transform(X[[x]])'''"
   ]
  },
  {
   "cell_type": "code",
   "execution_count": 645,
   "metadata": {},
   "outputs": [
    {
     "data": {
      "text/plain": [
       "(828, 5)"
      ]
     },
     "execution_count": 645,
     "metadata": {},
     "output_type": "execute_result"
    }
   ],
   "source": [
    "x_train.shape"
   ]
  },
  {
   "cell_type": "code",
   "execution_count": 646,
   "metadata": {},
   "outputs": [
    {
     "name": "stdout",
     "output_type": "stream",
     "text": [
      "828\n",
      "828\n"
     ]
    }
   ],
   "source": [
    "print(len(x_train))\n",
    "print(len(y_train))"
   ]
  },
  {
   "cell_type": "code",
   "execution_count": 647,
   "metadata": {},
   "outputs": [
    {
     "name": "stdout",
     "output_type": "stream",
     "text": [
      "207\n",
      "207\n"
     ]
    }
   ],
   "source": [
    "print(len(x_test))\n",
    "print(len(y_test))"
   ]
  },
  {
   "cell_type": "code",
   "execution_count": 648,
   "metadata": {},
   "outputs": [
    {
     "name": "stdout",
     "output_type": "stream",
     "text": [
      "(828, 5)\n",
      "(207,)\n",
      "(207, 5)\n",
      "(207,)\n"
     ]
    }
   ],
   "source": [
    "print(x_train.shape)\n",
    "print(y_test.shape)\n",
    "print(x_test.shape)\n",
    "print(y_test.shape)"
   ]
  },
  {
   "cell_type": "code",
   "execution_count": 649,
   "metadata": {},
   "outputs": [],
   "source": [
    "x_train, x_test, y_train, y_test = train_test_split(X, y, test_size=0.2, random_state=42)\n",
    "\n"
   ]
  },
  {
   "cell_type": "code",
   "execution_count": 650,
   "metadata": {},
   "outputs": [
    {
     "data": {
      "text/html": [
       "<div>\n",
       "<style scoped>\n",
       "    .dataframe tbody tr th:only-of-type {\n",
       "        vertical-align: middle;\n",
       "    }\n",
       "\n",
       "    .dataframe tbody tr th {\n",
       "        vertical-align: top;\n",
       "    }\n",
       "\n",
       "    .dataframe thead th {\n",
       "        text-align: right;\n",
       "    }\n",
       "</style>\n",
       "<table border=\"1\" class=\"dataframe\">\n",
       "  <thead>\n",
       "    <tr style=\"text-align: right;\">\n",
       "      <th></th>\n",
       "      <th>Rating</th>\n",
       "      <th>Reviews</th>\n",
       "      <th>features-1</th>\n",
       "      <th>Company and Specifications</th>\n",
       "      <th>Deatils-1</th>\n",
       "    </tr>\n",
       "  </thead>\n",
       "  <tbody>\n",
       "    <tr>\n",
       "      <th>713</th>\n",
       "      <td>4.1</td>\n",
       "      <td>2132.0</td>\n",
       "      <td>121</td>\n",
       "      <td>164</td>\n",
       "      <td>21</td>\n",
       "    </tr>\n",
       "    <tr>\n",
       "      <th>478</th>\n",
       "      <td>3.6</td>\n",
       "      <td>19.0</td>\n",
       "      <td>171</td>\n",
       "      <td>77</td>\n",
       "      <td>38</td>\n",
       "    </tr>\n",
       "    <tr>\n",
       "      <th>730</th>\n",
       "      <td>4.2</td>\n",
       "      <td>21.0</td>\n",
       "      <td>278</td>\n",
       "      <td>151</td>\n",
       "      <td>58</td>\n",
       "    </tr>\n",
       "    <tr>\n",
       "      <th>605</th>\n",
       "      <td>3.8</td>\n",
       "      <td>684.0</td>\n",
       "      <td>282</td>\n",
       "      <td>135</td>\n",
       "      <td>48</td>\n",
       "    </tr>\n",
       "    <tr>\n",
       "      <th>1416</th>\n",
       "      <td>4.7</td>\n",
       "      <td>4.0</td>\n",
       "      <td>7</td>\n",
       "      <td>28</td>\n",
       "      <td>92</td>\n",
       "    </tr>\n",
       "    <tr>\n",
       "      <th>...</th>\n",
       "      <td>...</td>\n",
       "      <td>...</td>\n",
       "      <td>...</td>\n",
       "      <td>...</td>\n",
       "      <td>...</td>\n",
       "    </tr>\n",
       "    <tr>\n",
       "      <th>117</th>\n",
       "      <td>3.9</td>\n",
       "      <td>1402.0</td>\n",
       "      <td>0</td>\n",
       "      <td>260</td>\n",
       "      <td>207</td>\n",
       "    </tr>\n",
       "    <tr>\n",
       "      <th>447</th>\n",
       "      <td>3.6</td>\n",
       "      <td>92.0</td>\n",
       "      <td>0</td>\n",
       "      <td>42</td>\n",
       "      <td>102</td>\n",
       "    </tr>\n",
       "    <tr>\n",
       "      <th>636</th>\n",
       "      <td>3.6</td>\n",
       "      <td>293.0</td>\n",
       "      <td>61</td>\n",
       "      <td>145</td>\n",
       "      <td>39</td>\n",
       "    </tr>\n",
       "    <tr>\n",
       "      <th>162</th>\n",
       "      <td>4.3</td>\n",
       "      <td>1780.0</td>\n",
       "      <td>205</td>\n",
       "      <td>250</td>\n",
       "      <td>32</td>\n",
       "    </tr>\n",
       "    <tr>\n",
       "      <th>1225</th>\n",
       "      <td>3.9</td>\n",
       "      <td>168.0</td>\n",
       "      <td>261</td>\n",
       "      <td>17</td>\n",
       "      <td>0</td>\n",
       "    </tr>\n",
       "  </tbody>\n",
       "</table>\n",
       "<p>828 rows × 5 columns</p>\n",
       "</div>"
      ],
      "text/plain": [
       "      Rating  Reviews  features-1  Company and Specifications  Deatils-1\n",
       "713      4.1   2132.0         121                         164         21\n",
       "478      3.6     19.0         171                          77         38\n",
       "730      4.2     21.0         278                         151         58\n",
       "605      3.8    684.0         282                         135         48\n",
       "1416     4.7      4.0           7                          28         92\n",
       "...      ...      ...         ...                         ...        ...\n",
       "117      3.9   1402.0           0                         260        207\n",
       "447      3.6     92.0           0                          42        102\n",
       "636      3.6    293.0          61                         145         39\n",
       "162      4.3   1780.0         205                         250         32\n",
       "1225     3.9    168.0         261                          17          0\n",
       "\n",
       "[828 rows x 5 columns]"
      ]
     },
     "execution_count": 650,
     "metadata": {},
     "output_type": "execute_result"
    }
   ],
   "source": [
    "x_train"
   ]
  },
  {
   "cell_type": "code",
   "execution_count": 651,
   "metadata": {},
   "outputs": [
    {
     "name": "stdout",
     "output_type": "stream",
     "text": [
      "Feature shape: (1035, 5)\n",
      "Target shape: (1035,)\n"
     ]
    }
   ],
   "source": [
    "print(\"Feature shape:\", X.shape)  # Should match the number of samples in y\n",
    "print(\"Target shape:\", y.shape)\n"
   ]
  },
  {
   "cell_type": "code",
   "execution_count": 652,
   "metadata": {},
   "outputs": [],
   "source": [
    "from sklearn.ensemble import RandomForestRegressor"
   ]
  },
  {
   "cell_type": "code",
   "execution_count": 653,
   "metadata": {},
   "outputs": [
    {
     "data": {
      "text/html": [
       "<style>#sk-container-id-4 {\n",
       "  /* Definition of color scheme common for light and dark mode */\n",
       "  --sklearn-color-text: black;\n",
       "  --sklearn-color-line: gray;\n",
       "  /* Definition of color scheme for unfitted estimators */\n",
       "  --sklearn-color-unfitted-level-0: #fff5e6;\n",
       "  --sklearn-color-unfitted-level-1: #f6e4d2;\n",
       "  --sklearn-color-unfitted-level-2: #ffe0b3;\n",
       "  --sklearn-color-unfitted-level-3: chocolate;\n",
       "  /* Definition of color scheme for fitted estimators */\n",
       "  --sklearn-color-fitted-level-0: #f0f8ff;\n",
       "  --sklearn-color-fitted-level-1: #d4ebff;\n",
       "  --sklearn-color-fitted-level-2: #b3dbfd;\n",
       "  --sklearn-color-fitted-level-3: cornflowerblue;\n",
       "\n",
       "  /* Specific color for light theme */\n",
       "  --sklearn-color-text-on-default-background: var(--sg-text-color, var(--theme-code-foreground, var(--jp-content-font-color1, black)));\n",
       "  --sklearn-color-background: var(--sg-background-color, var(--theme-background, var(--jp-layout-color0, white)));\n",
       "  --sklearn-color-border-box: var(--sg-text-color, var(--theme-code-foreground, var(--jp-content-font-color1, black)));\n",
       "  --sklearn-color-icon: #696969;\n",
       "\n",
       "  @media (prefers-color-scheme: dark) {\n",
       "    /* Redefinition of color scheme for dark theme */\n",
       "    --sklearn-color-text-on-default-background: var(--sg-text-color, var(--theme-code-foreground, var(--jp-content-font-color1, white)));\n",
       "    --sklearn-color-background: var(--sg-background-color, var(--theme-background, var(--jp-layout-color0, #111)));\n",
       "    --sklearn-color-border-box: var(--sg-text-color, var(--theme-code-foreground, var(--jp-content-font-color1, white)));\n",
       "    --sklearn-color-icon: #878787;\n",
       "  }\n",
       "}\n",
       "\n",
       "#sk-container-id-4 {\n",
       "  color: var(--sklearn-color-text);\n",
       "}\n",
       "\n",
       "#sk-container-id-4 pre {\n",
       "  padding: 0;\n",
       "}\n",
       "\n",
       "#sk-container-id-4 input.sk-hidden--visually {\n",
       "  border: 0;\n",
       "  clip: rect(1px 1px 1px 1px);\n",
       "  clip: rect(1px, 1px, 1px, 1px);\n",
       "  height: 1px;\n",
       "  margin: -1px;\n",
       "  overflow: hidden;\n",
       "  padding: 0;\n",
       "  position: absolute;\n",
       "  width: 1px;\n",
       "}\n",
       "\n",
       "#sk-container-id-4 div.sk-dashed-wrapped {\n",
       "  border: 1px dashed var(--sklearn-color-line);\n",
       "  margin: 0 0.4em 0.5em 0.4em;\n",
       "  box-sizing: border-box;\n",
       "  padding-bottom: 0.4em;\n",
       "  background-color: var(--sklearn-color-background);\n",
       "}\n",
       "\n",
       "#sk-container-id-4 div.sk-container {\n",
       "  /* jupyter's `normalize.less` sets `[hidden] { display: none; }`\n",
       "     but bootstrap.min.css set `[hidden] { display: none !important; }`\n",
       "     so we also need the `!important` here to be able to override the\n",
       "     default hidden behavior on the sphinx rendered scikit-learn.org.\n",
       "     See: https://github.com/scikit-learn/scikit-learn/issues/21755 */\n",
       "  display: inline-block !important;\n",
       "  position: relative;\n",
       "}\n",
       "\n",
       "#sk-container-id-4 div.sk-text-repr-fallback {\n",
       "  display: none;\n",
       "}\n",
       "\n",
       "div.sk-parallel-item,\n",
       "div.sk-serial,\n",
       "div.sk-item {\n",
       "  /* draw centered vertical line to link estimators */\n",
       "  background-image: linear-gradient(var(--sklearn-color-text-on-default-background), var(--sklearn-color-text-on-default-background));\n",
       "  background-size: 2px 100%;\n",
       "  background-repeat: no-repeat;\n",
       "  background-position: center center;\n",
       "}\n",
       "\n",
       "/* Parallel-specific style estimator block */\n",
       "\n",
       "#sk-container-id-4 div.sk-parallel-item::after {\n",
       "  content: \"\";\n",
       "  width: 100%;\n",
       "  border-bottom: 2px solid var(--sklearn-color-text-on-default-background);\n",
       "  flex-grow: 1;\n",
       "}\n",
       "\n",
       "#sk-container-id-4 div.sk-parallel {\n",
       "  display: flex;\n",
       "  align-items: stretch;\n",
       "  justify-content: center;\n",
       "  background-color: var(--sklearn-color-background);\n",
       "  position: relative;\n",
       "}\n",
       "\n",
       "#sk-container-id-4 div.sk-parallel-item {\n",
       "  display: flex;\n",
       "  flex-direction: column;\n",
       "}\n",
       "\n",
       "#sk-container-id-4 div.sk-parallel-item:first-child::after {\n",
       "  align-self: flex-end;\n",
       "  width: 50%;\n",
       "}\n",
       "\n",
       "#sk-container-id-4 div.sk-parallel-item:last-child::after {\n",
       "  align-self: flex-start;\n",
       "  width: 50%;\n",
       "}\n",
       "\n",
       "#sk-container-id-4 div.sk-parallel-item:only-child::after {\n",
       "  width: 0;\n",
       "}\n",
       "\n",
       "/* Serial-specific style estimator block */\n",
       "\n",
       "#sk-container-id-4 div.sk-serial {\n",
       "  display: flex;\n",
       "  flex-direction: column;\n",
       "  align-items: center;\n",
       "  background-color: var(--sklearn-color-background);\n",
       "  padding-right: 1em;\n",
       "  padding-left: 1em;\n",
       "}\n",
       "\n",
       "\n",
       "/* Toggleable style: style used for estimator/Pipeline/ColumnTransformer box that is\n",
       "clickable and can be expanded/collapsed.\n",
       "- Pipeline and ColumnTransformer use this feature and define the default style\n",
       "- Estimators will overwrite some part of the style using the `sk-estimator` class\n",
       "*/\n",
       "\n",
       "/* Pipeline and ColumnTransformer style (default) */\n",
       "\n",
       "#sk-container-id-4 div.sk-toggleable {\n",
       "  /* Default theme specific background. It is overwritten whether we have a\n",
       "  specific estimator or a Pipeline/ColumnTransformer */\n",
       "  background-color: var(--sklearn-color-background);\n",
       "}\n",
       "\n",
       "/* Toggleable label */\n",
       "#sk-container-id-4 label.sk-toggleable__label {\n",
       "  cursor: pointer;\n",
       "  display: block;\n",
       "  width: 100%;\n",
       "  margin-bottom: 0;\n",
       "  padding: 0.5em;\n",
       "  box-sizing: border-box;\n",
       "  text-align: center;\n",
       "}\n",
       "\n",
       "#sk-container-id-4 label.sk-toggleable__label-arrow:before {\n",
       "  /* Arrow on the left of the label */\n",
       "  content: \"▸\";\n",
       "  float: left;\n",
       "  margin-right: 0.25em;\n",
       "  color: var(--sklearn-color-icon);\n",
       "}\n",
       "\n",
       "#sk-container-id-4 label.sk-toggleable__label-arrow:hover:before {\n",
       "  color: var(--sklearn-color-text);\n",
       "}\n",
       "\n",
       "/* Toggleable content - dropdown */\n",
       "\n",
       "#sk-container-id-4 div.sk-toggleable__content {\n",
       "  max-height: 0;\n",
       "  max-width: 0;\n",
       "  overflow: hidden;\n",
       "  text-align: left;\n",
       "  /* unfitted */\n",
       "  background-color: var(--sklearn-color-unfitted-level-0);\n",
       "}\n",
       "\n",
       "#sk-container-id-4 div.sk-toggleable__content.fitted {\n",
       "  /* fitted */\n",
       "  background-color: var(--sklearn-color-fitted-level-0);\n",
       "}\n",
       "\n",
       "#sk-container-id-4 div.sk-toggleable__content pre {\n",
       "  margin: 0.2em;\n",
       "  border-radius: 0.25em;\n",
       "  color: var(--sklearn-color-text);\n",
       "  /* unfitted */\n",
       "  background-color: var(--sklearn-color-unfitted-level-0);\n",
       "}\n",
       "\n",
       "#sk-container-id-4 div.sk-toggleable__content.fitted pre {\n",
       "  /* unfitted */\n",
       "  background-color: var(--sklearn-color-fitted-level-0);\n",
       "}\n",
       "\n",
       "#sk-container-id-4 input.sk-toggleable__control:checked~div.sk-toggleable__content {\n",
       "  /* Expand drop-down */\n",
       "  max-height: 200px;\n",
       "  max-width: 100%;\n",
       "  overflow: auto;\n",
       "}\n",
       "\n",
       "#sk-container-id-4 input.sk-toggleable__control:checked~label.sk-toggleable__label-arrow:before {\n",
       "  content: \"▾\";\n",
       "}\n",
       "\n",
       "/* Pipeline/ColumnTransformer-specific style */\n",
       "\n",
       "#sk-container-id-4 div.sk-label input.sk-toggleable__control:checked~label.sk-toggleable__label {\n",
       "  color: var(--sklearn-color-text);\n",
       "  background-color: var(--sklearn-color-unfitted-level-2);\n",
       "}\n",
       "\n",
       "#sk-container-id-4 div.sk-label.fitted input.sk-toggleable__control:checked~label.sk-toggleable__label {\n",
       "  background-color: var(--sklearn-color-fitted-level-2);\n",
       "}\n",
       "\n",
       "/* Estimator-specific style */\n",
       "\n",
       "/* Colorize estimator box */\n",
       "#sk-container-id-4 div.sk-estimator input.sk-toggleable__control:checked~label.sk-toggleable__label {\n",
       "  /* unfitted */\n",
       "  background-color: var(--sklearn-color-unfitted-level-2);\n",
       "}\n",
       "\n",
       "#sk-container-id-4 div.sk-estimator.fitted input.sk-toggleable__control:checked~label.sk-toggleable__label {\n",
       "  /* fitted */\n",
       "  background-color: var(--sklearn-color-fitted-level-2);\n",
       "}\n",
       "\n",
       "#sk-container-id-4 div.sk-label label.sk-toggleable__label,\n",
       "#sk-container-id-4 div.sk-label label {\n",
       "  /* The background is the default theme color */\n",
       "  color: var(--sklearn-color-text-on-default-background);\n",
       "}\n",
       "\n",
       "/* On hover, darken the color of the background */\n",
       "#sk-container-id-4 div.sk-label:hover label.sk-toggleable__label {\n",
       "  color: var(--sklearn-color-text);\n",
       "  background-color: var(--sklearn-color-unfitted-level-2);\n",
       "}\n",
       "\n",
       "/* Label box, darken color on hover, fitted */\n",
       "#sk-container-id-4 div.sk-label.fitted:hover label.sk-toggleable__label.fitted {\n",
       "  color: var(--sklearn-color-text);\n",
       "  background-color: var(--sklearn-color-fitted-level-2);\n",
       "}\n",
       "\n",
       "/* Estimator label */\n",
       "\n",
       "#sk-container-id-4 div.sk-label label {\n",
       "  font-family: monospace;\n",
       "  font-weight: bold;\n",
       "  display: inline-block;\n",
       "  line-height: 1.2em;\n",
       "}\n",
       "\n",
       "#sk-container-id-4 div.sk-label-container {\n",
       "  text-align: center;\n",
       "}\n",
       "\n",
       "/* Estimator-specific */\n",
       "#sk-container-id-4 div.sk-estimator {\n",
       "  font-family: monospace;\n",
       "  border: 1px dotted var(--sklearn-color-border-box);\n",
       "  border-radius: 0.25em;\n",
       "  box-sizing: border-box;\n",
       "  margin-bottom: 0.5em;\n",
       "  /* unfitted */\n",
       "  background-color: var(--sklearn-color-unfitted-level-0);\n",
       "}\n",
       "\n",
       "#sk-container-id-4 div.sk-estimator.fitted {\n",
       "  /* fitted */\n",
       "  background-color: var(--sklearn-color-fitted-level-0);\n",
       "}\n",
       "\n",
       "/* on hover */\n",
       "#sk-container-id-4 div.sk-estimator:hover {\n",
       "  /* unfitted */\n",
       "  background-color: var(--sklearn-color-unfitted-level-2);\n",
       "}\n",
       "\n",
       "#sk-container-id-4 div.sk-estimator.fitted:hover {\n",
       "  /* fitted */\n",
       "  background-color: var(--sklearn-color-fitted-level-2);\n",
       "}\n",
       "\n",
       "/* Specification for estimator info (e.g. \"i\" and \"?\") */\n",
       "\n",
       "/* Common style for \"i\" and \"?\" */\n",
       "\n",
       ".sk-estimator-doc-link,\n",
       "a:link.sk-estimator-doc-link,\n",
       "a:visited.sk-estimator-doc-link {\n",
       "  float: right;\n",
       "  font-size: smaller;\n",
       "  line-height: 1em;\n",
       "  font-family: monospace;\n",
       "  background-color: var(--sklearn-color-background);\n",
       "  border-radius: 1em;\n",
       "  height: 1em;\n",
       "  width: 1em;\n",
       "  text-decoration: none !important;\n",
       "  margin-left: 1ex;\n",
       "  /* unfitted */\n",
       "  border: var(--sklearn-color-unfitted-level-1) 1pt solid;\n",
       "  color: var(--sklearn-color-unfitted-level-1);\n",
       "}\n",
       "\n",
       ".sk-estimator-doc-link.fitted,\n",
       "a:link.sk-estimator-doc-link.fitted,\n",
       "a:visited.sk-estimator-doc-link.fitted {\n",
       "  /* fitted */\n",
       "  border: var(--sklearn-color-fitted-level-1) 1pt solid;\n",
       "  color: var(--sklearn-color-fitted-level-1);\n",
       "}\n",
       "\n",
       "/* On hover */\n",
       "div.sk-estimator:hover .sk-estimator-doc-link:hover,\n",
       ".sk-estimator-doc-link:hover,\n",
       "div.sk-label-container:hover .sk-estimator-doc-link:hover,\n",
       ".sk-estimator-doc-link:hover {\n",
       "  /* unfitted */\n",
       "  background-color: var(--sklearn-color-unfitted-level-3);\n",
       "  color: var(--sklearn-color-background);\n",
       "  text-decoration: none;\n",
       "}\n",
       "\n",
       "div.sk-estimator.fitted:hover .sk-estimator-doc-link.fitted:hover,\n",
       ".sk-estimator-doc-link.fitted:hover,\n",
       "div.sk-label-container:hover .sk-estimator-doc-link.fitted:hover,\n",
       ".sk-estimator-doc-link.fitted:hover {\n",
       "  /* fitted */\n",
       "  background-color: var(--sklearn-color-fitted-level-3);\n",
       "  color: var(--sklearn-color-background);\n",
       "  text-decoration: none;\n",
       "}\n",
       "\n",
       "/* Span, style for the box shown on hovering the info icon */\n",
       ".sk-estimator-doc-link span {\n",
       "  display: none;\n",
       "  z-index: 9999;\n",
       "  position: relative;\n",
       "  font-weight: normal;\n",
       "  right: .2ex;\n",
       "  padding: .5ex;\n",
       "  margin: .5ex;\n",
       "  width: min-content;\n",
       "  min-width: 20ex;\n",
       "  max-width: 50ex;\n",
       "  color: var(--sklearn-color-text);\n",
       "  box-shadow: 2pt 2pt 4pt #999;\n",
       "  /* unfitted */\n",
       "  background: var(--sklearn-color-unfitted-level-0);\n",
       "  border: .5pt solid var(--sklearn-color-unfitted-level-3);\n",
       "}\n",
       "\n",
       ".sk-estimator-doc-link.fitted span {\n",
       "  /* fitted */\n",
       "  background: var(--sklearn-color-fitted-level-0);\n",
       "  border: var(--sklearn-color-fitted-level-3);\n",
       "}\n",
       "\n",
       ".sk-estimator-doc-link:hover span {\n",
       "  display: block;\n",
       "}\n",
       "\n",
       "/* \"?\"-specific style due to the `<a>` HTML tag */\n",
       "\n",
       "#sk-container-id-4 a.estimator_doc_link {\n",
       "  float: right;\n",
       "  font-size: 1rem;\n",
       "  line-height: 1em;\n",
       "  font-family: monospace;\n",
       "  background-color: var(--sklearn-color-background);\n",
       "  border-radius: 1rem;\n",
       "  height: 1rem;\n",
       "  width: 1rem;\n",
       "  text-decoration: none;\n",
       "  /* unfitted */\n",
       "  color: var(--sklearn-color-unfitted-level-1);\n",
       "  border: var(--sklearn-color-unfitted-level-1) 1pt solid;\n",
       "}\n",
       "\n",
       "#sk-container-id-4 a.estimator_doc_link.fitted {\n",
       "  /* fitted */\n",
       "  border: var(--sklearn-color-fitted-level-1) 1pt solid;\n",
       "  color: var(--sklearn-color-fitted-level-1);\n",
       "}\n",
       "\n",
       "/* On hover */\n",
       "#sk-container-id-4 a.estimator_doc_link:hover {\n",
       "  /* unfitted */\n",
       "  background-color: var(--sklearn-color-unfitted-level-3);\n",
       "  color: var(--sklearn-color-background);\n",
       "  text-decoration: none;\n",
       "}\n",
       "\n",
       "#sk-container-id-4 a.estimator_doc_link.fitted:hover {\n",
       "  /* fitted */\n",
       "  background-color: var(--sklearn-color-fitted-level-3);\n",
       "}\n",
       "</style><div id=\"sk-container-id-4\" class=\"sk-top-container\"><div class=\"sk-text-repr-fallback\"><pre>RandomForestRegressor(n_estimators=190)</pre><b>In a Jupyter environment, please rerun this cell to show the HTML representation or trust the notebook. <br />On GitHub, the HTML representation is unable to render, please try loading this page with nbviewer.org.</b></div><div class=\"sk-container\" hidden><div class=\"sk-item\"><div class=\"sk-estimator fitted sk-toggleable\"><input class=\"sk-toggleable__control sk-hidden--visually\" id=\"sk-estimator-id-4\" type=\"checkbox\" checked><label for=\"sk-estimator-id-4\" class=\"sk-toggleable__label fitted sk-toggleable__label-arrow fitted\">&nbsp;&nbsp;RandomForestRegressor<a class=\"sk-estimator-doc-link fitted\" rel=\"noreferrer\" target=\"_blank\" href=\"https://scikit-learn.org/1.5/modules/generated/sklearn.ensemble.RandomForestRegressor.html\">?<span>Documentation for RandomForestRegressor</span></a><span class=\"sk-estimator-doc-link fitted\">i<span>Fitted</span></span></label><div class=\"sk-toggleable__content fitted\"><pre>RandomForestRegressor(n_estimators=190)</pre></div> </div></div></div></div>"
      ],
      "text/plain": [
       "RandomForestRegressor(n_estimators=190)"
      ]
     },
     "execution_count": 653,
     "metadata": {},
     "output_type": "execute_result"
    }
   ],
   "source": [
    "model=RandomForestRegressor(n_estimators=190)\n",
    "model.fit(x_train,y_train)"
   ]
  },
  {
   "cell_type": "code",
   "execution_count": 654,
   "metadata": {},
   "outputs": [
    {
     "data": {
      "text/plain": [
       "0.8048895098320215"
      ]
     },
     "execution_count": 654,
     "metadata": {},
     "output_type": "execute_result"
    }
   ],
   "source": [
    "model.score(x_test,y_test)"
   ]
  },
  {
   "cell_type": "code",
   "execution_count": 655,
   "metadata": {},
   "outputs": [],
   "source": [
    "df17=X"
   ]
  },
  {
   "cell_type": "code",
   "execution_count": 656,
   "metadata": {},
   "outputs": [
    {
     "data": {
      "text/html": [
       "<div>\n",
       "<style scoped>\n",
       "    .dataframe tbody tr th:only-of-type {\n",
       "        vertical-align: middle;\n",
       "    }\n",
       "\n",
       "    .dataframe tbody tr th {\n",
       "        vertical-align: top;\n",
       "    }\n",
       "\n",
       "    .dataframe thead th {\n",
       "        text-align: right;\n",
       "    }\n",
       "</style>\n",
       "<table border=\"1\" class=\"dataframe\">\n",
       "  <thead>\n",
       "    <tr style=\"text-align: right;\">\n",
       "      <th></th>\n",
       "      <th>Rating</th>\n",
       "      <th>Reviews</th>\n",
       "      <th>features-1</th>\n",
       "      <th>Company and Specifications</th>\n",
       "      <th>Deatils-1</th>\n",
       "    </tr>\n",
       "  </thead>\n",
       "  <tbody>\n",
       "    <tr>\n",
       "      <th>0</th>\n",
       "      <td>3.8</td>\n",
       "      <td>684.0</td>\n",
       "      <td>282</td>\n",
       "      <td>135</td>\n",
       "      <td>48</td>\n",
       "    </tr>\n",
       "    <tr>\n",
       "      <th>1</th>\n",
       "      <td>3.8</td>\n",
       "      <td>60.0</td>\n",
       "      <td>158</td>\n",
       "      <td>149</td>\n",
       "      <td>11</td>\n",
       "    </tr>\n",
       "    <tr>\n",
       "      <th>2</th>\n",
       "      <td>4.1</td>\n",
       "      <td>346.0</td>\n",
       "      <td>296</td>\n",
       "      <td>254</td>\n",
       "      <td>93</td>\n",
       "    </tr>\n",
       "    <tr>\n",
       "      <th>3</th>\n",
       "      <td>4.1</td>\n",
       "      <td>346.0</td>\n",
       "      <td>254</td>\n",
       "      <td>254</td>\n",
       "      <td>93</td>\n",
       "    </tr>\n",
       "    <tr>\n",
       "      <th>4</th>\n",
       "      <td>3.5</td>\n",
       "      <td>27.0</td>\n",
       "      <td>0</td>\n",
       "      <td>231</td>\n",
       "      <td>202</td>\n",
       "    </tr>\n",
       "    <tr>\n",
       "      <th>...</th>\n",
       "      <td>...</td>\n",
       "      <td>...</td>\n",
       "      <td>...</td>\n",
       "      <td>...</td>\n",
       "      <td>...</td>\n",
       "    </tr>\n",
       "    <tr>\n",
       "      <th>1574</th>\n",
       "      <td>3.8</td>\n",
       "      <td>15.0</td>\n",
       "      <td>319</td>\n",
       "      <td>0</td>\n",
       "      <td>188</td>\n",
       "    </tr>\n",
       "    <tr>\n",
       "      <th>1575</th>\n",
       "      <td>3.7</td>\n",
       "      <td>11.0</td>\n",
       "      <td>322</td>\n",
       "      <td>0</td>\n",
       "      <td>112</td>\n",
       "    </tr>\n",
       "    <tr>\n",
       "      <th>1576</th>\n",
       "      <td>3.3</td>\n",
       "      <td>6.0</td>\n",
       "      <td>317</td>\n",
       "      <td>0</td>\n",
       "      <td>110</td>\n",
       "    </tr>\n",
       "    <tr>\n",
       "      <th>1578</th>\n",
       "      <td>3.7</td>\n",
       "      <td>5.0</td>\n",
       "      <td>324</td>\n",
       "      <td>0</td>\n",
       "      <td>180</td>\n",
       "    </tr>\n",
       "    <tr>\n",
       "      <th>1579</th>\n",
       "      <td>4.0</td>\n",
       "      <td>65.0</td>\n",
       "      <td>313</td>\n",
       "      <td>0</td>\n",
       "      <td>187</td>\n",
       "    </tr>\n",
       "  </tbody>\n",
       "</table>\n",
       "<p>1035 rows × 5 columns</p>\n",
       "</div>"
      ],
      "text/plain": [
       "      Rating  Reviews  features-1  Company and Specifications  Deatils-1\n",
       "0        3.8    684.0         282                         135         48\n",
       "1        3.8     60.0         158                         149         11\n",
       "2        4.1    346.0         296                         254         93\n",
       "3        4.1    346.0         254                         254         93\n",
       "4        3.5     27.0           0                         231        202\n",
       "...      ...      ...         ...                         ...        ...\n",
       "1574     3.8     15.0         319                           0        188\n",
       "1575     3.7     11.0         322                           0        112\n",
       "1576     3.3      6.0         317                           0        110\n",
       "1578     3.7      5.0         324                           0        180\n",
       "1579     4.0     65.0         313                           0        187\n",
       "\n",
       "[1035 rows x 5 columns]"
      ]
     },
     "execution_count": 656,
     "metadata": {},
     "output_type": "execute_result"
    }
   ],
   "source": [
    "df17"
   ]
  },
  {
   "cell_type": "code",
   "execution_count": 657,
   "metadata": {},
   "outputs": [],
   "source": [
    "df16=df15.drop_duplicates()"
   ]
  },
  {
   "cell_type": "code",
   "execution_count": 658,
   "metadata": {},
   "outputs": [
    {
     "data": {
      "text/plain": [
       "(495, 6)"
      ]
     },
     "execution_count": 658,
     "metadata": {},
     "output_type": "execute_result"
    }
   ],
   "source": [
    "df16.shape"
   ]
  },
  {
   "cell_type": "code",
   "execution_count": 659,
   "metadata": {},
   "outputs": [
    {
     "data": {
      "text/html": [
       "<div>\n",
       "<style scoped>\n",
       "    .dataframe tbody tr th:only-of-type {\n",
       "        vertical-align: middle;\n",
       "    }\n",
       "\n",
       "    .dataframe tbody tr th {\n",
       "        vertical-align: top;\n",
       "    }\n",
       "\n",
       "    .dataframe thead th {\n",
       "        text-align: right;\n",
       "    }\n",
       "</style>\n",
       "<table border=\"1\" class=\"dataframe\">\n",
       "  <thead>\n",
       "    <tr style=\"text-align: right;\">\n",
       "      <th></th>\n",
       "      <th>Rating</th>\n",
       "      <th>Reviews</th>\n",
       "      <th>Price</th>\n",
       "      <th>features-1</th>\n",
       "      <th>Company and Specifications</th>\n",
       "      <th>Deatils-1</th>\n",
       "    </tr>\n",
       "  </thead>\n",
       "  <tbody>\n",
       "    <tr>\n",
       "      <th>0</th>\n",
       "      <td>3.8</td>\n",
       "      <td>684.0</td>\n",
       "      <td>33999</td>\n",
       "      <td>fusion Black 8 GB RAM 256 GB storage</td>\n",
       "      <td>Redmi note 13 Proplus</td>\n",
       "      <td>WorldsFirstMediatek7200Ultra5 G 200MPHi ResC...</td>\n",
       "    </tr>\n",
       "    <tr>\n",
       "      <th>1</th>\n",
       "      <td>3.8</td>\n",
       "      <td>60.0</td>\n",
       "      <td>9999</td>\n",
       "      <td>Mint Green 4 GB RAM 64 GB storage</td>\n",
       "      <td>Samsung Galaxy M05</td>\n",
       "      <td>50mpdualcamera bigger6.7\"hd+display 5000mahb...</td>\n",
       "    </tr>\n",
       "    <tr>\n",
       "      <th>2</th>\n",
       "      <td>4.1</td>\n",
       "      <td>346.0</td>\n",
       "      <td>10999</td>\n",
       "      <td>marble black,6 GB ram+128 GB storage</td>\n",
       "      <td>realme NARZO N61</td>\n",
       "      <td>90hzeyecomfortdisplay ip54dust&amp;waterresistance...</td>\n",
       "    </tr>\n",
       "    <tr>\n",
       "      <th>3</th>\n",
       "      <td>4.1</td>\n",
       "      <td>346.0</td>\n",
       "      <td>10999</td>\n",
       "      <td>Voyage Blue,6 GB ram+128 GB storage</td>\n",
       "      <td>realme NARZO N61</td>\n",
       "      <td>90hzeyecomfortdisplay ip54dust&amp;waterresistance...</td>\n",
       "    </tr>\n",
       "    <tr>\n",
       "      <th>4</th>\n",
       "      <td>3.5</td>\n",
       "      <td>27.0</td>\n",
       "      <td>8999</td>\n",
       "      <td></td>\n",
       "      <td>poco C61 Ethereal Blue 4 GB ram 64 GB rom</td>\n",
       "      <td>poco C61 Ethereal Blue 4 GB ram 64 GB rom</td>\n",
       "    </tr>\n",
       "    <tr>\n",
       "      <th>...</th>\n",
       "      <td>...</td>\n",
       "      <td>...</td>\n",
       "      <td>...</td>\n",
       "      <td>...</td>\n",
       "      <td>...</td>\n",
       "      <td>...</td>\n",
       "    </tr>\n",
       "    <tr>\n",
       "      <th>1574</th>\n",
       "      <td>3.8</td>\n",
       "      <td>15.0</td>\n",
       "      <td>29990</td>\n",
       "      <td>refurbish Legion Sky 8 GB ram 128 GB storage</td>\n",
       "      <td></td>\n",
       "      <td>iqooz6pro5g(legionsky 8GBRAM 128gbstorage</td>\n",
       "    </tr>\n",
       "    <tr>\n",
       "      <th>1575</th>\n",
       "      <td>3.7</td>\n",
       "      <td>11.0</td>\n",
       "      <td>27990</td>\n",
       "      <td>refurbish Phantom Dusk 6 GB RAM 128 GB storage</td>\n",
       "      <td></td>\n",
       "      <td>IQOOZ6Pro5G(PhantomDusk 6GBRAM 128gbstorage</td>\n",
       "    </tr>\n",
       "    <tr>\n",
       "      <th>1576</th>\n",
       "      <td>3.3</td>\n",
       "      <td>6.0</td>\n",
       "      <td>54999</td>\n",
       "      <td>refurbish Legend 8 GB ram 128 GB storage</td>\n",
       "      <td></td>\n",
       "      <td>IQOO9T5G(Legend 8GBRAM 128gbstorage</td>\n",
       "    </tr>\n",
       "    <tr>\n",
       "      <th>1578</th>\n",
       "      <td>3.7</td>\n",
       "      <td>5.0</td>\n",
       "      <td>15999</td>\n",
       "      <td>refurbish Stellar Green 4 GB RAM 64 GB storage</td>\n",
       "      <td></td>\n",
       "      <td>iQOOZ6Lite5G(StellarGreen 4gbram 64gbstorage</td>\n",
       "    </tr>\n",
       "    <tr>\n",
       "      <th>1579</th>\n",
       "      <td>4.0</td>\n",
       "      <td>65.0</td>\n",
       "      <td>26990</td>\n",
       "      <td>refurbish Cyber Blue 8 GB RAM 256 GB storage</td>\n",
       "      <td></td>\n",
       "      <td>iqooz35g(cyberblue 8gbram 256gbstorage</td>\n",
       "    </tr>\n",
       "  </tbody>\n",
       "</table>\n",
       "<p>495 rows × 6 columns</p>\n",
       "</div>"
      ],
      "text/plain": [
       "      Rating  Reviews  Price                                      features-1  \\\n",
       "0        3.8    684.0  33999            fusion Black 8 GB RAM 256 GB storage   \n",
       "1        3.8     60.0   9999               Mint Green 4 GB RAM 64 GB storage   \n",
       "2        4.1    346.0  10999            marble black,6 GB ram+128 GB storage   \n",
       "3        4.1    346.0  10999             Voyage Blue,6 GB ram+128 GB storage   \n",
       "4        3.5     27.0   8999                                                   \n",
       "...      ...      ...    ...                                             ...   \n",
       "1574     3.8     15.0  29990    refurbish Legion Sky 8 GB ram 128 GB storage   \n",
       "1575     3.7     11.0  27990  refurbish Phantom Dusk 6 GB RAM 128 GB storage   \n",
       "1576     3.3      6.0  54999        refurbish Legend 8 GB ram 128 GB storage   \n",
       "1578     3.7      5.0  15999  refurbish Stellar Green 4 GB RAM 64 GB storage   \n",
       "1579     4.0     65.0  26990    refurbish Cyber Blue 8 GB RAM 256 GB storage   \n",
       "\n",
       "                     Company and Specifications  \\\n",
       "0                         Redmi note 13 Proplus   \n",
       "1                            Samsung Galaxy M05   \n",
       "2                              realme NARZO N61   \n",
       "3                              realme NARZO N61   \n",
       "4     poco C61 Ethereal Blue 4 GB ram 64 GB rom   \n",
       "...                                         ...   \n",
       "1574                                              \n",
       "1575                                              \n",
       "1576                                              \n",
       "1578                                              \n",
       "1579                                              \n",
       "\n",
       "                                              Deatils-1  \n",
       "0       WorldsFirstMediatek7200Ultra5 G 200MPHi ResC...  \n",
       "1       50mpdualcamera bigger6.7\"hd+display 5000mahb...  \n",
       "2     90hzeyecomfortdisplay ip54dust&waterresistance...  \n",
       "3     90hzeyecomfortdisplay ip54dust&waterresistance...  \n",
       "4             poco C61 Ethereal Blue 4 GB ram 64 GB rom  \n",
       "...                                                 ...  \n",
       "1574          iqooz6pro5g(legionsky 8GBRAM 128gbstorage  \n",
       "1575        IQOOZ6Pro5G(PhantomDusk 6GBRAM 128gbstorage  \n",
       "1576                IQOO9T5G(Legend 8GBRAM 128gbstorage  \n",
       "1578       iQOOZ6Lite5G(StellarGreen 4gbram 64gbstorage  \n",
       "1579             iqooz35g(cyberblue 8gbram 256gbstorage  \n",
       "\n",
       "[495 rows x 6 columns]"
      ]
     },
     "execution_count": 659,
     "metadata": {},
     "output_type": "execute_result"
    }
   ],
   "source": [
    "df16"
   ]
  },
  {
   "cell_type": "code",
   "execution_count": 660,
   "metadata": {},
   "outputs": [],
   "source": [
    "df16.to_json(\"data.json\",orient=\"records\")"
   ]
  },
  {
   "cell_type": "code",
   "execution_count": 661,
   "metadata": {},
   "outputs": [],
   "source": [
    "import pickle\n",
    "with open(\"model.pkl\",\"wb\") as f:\n",
    "    pickle.dump(model,f)"
   ]
  },
  {
   "cell_type": "code",
   "execution_count": 662,
   "metadata": {},
   "outputs": [],
   "source": [
    "with open(\"encoder.pkl\",\"wb\") as f:\n",
    "    pickle.dump(le,f)"
   ]
  },
  {
   "cell_type": "code",
   "execution_count": 663,
   "metadata": {},
   "outputs": [],
   "source": [
    "with open(\"model.pkl\",\"rb\") as f:\n",
    "    model1=pickle.load(f)"
   ]
  },
  {
   "cell_type": "code",
   "execution_count": 664,
   "metadata": {},
   "outputs": [],
   "source": [
    "t=X.iloc[0].values"
   ]
  },
  {
   "cell_type": "code",
   "execution_count": 665,
   "metadata": {},
   "outputs": [
    {
     "name": "stderr",
     "output_type": "stream",
     "text": [
      "d:\\Phone price prediction\\venv\\Lib\\site-packages\\sklearn\\base.py:493: UserWarning: X does not have valid feature names, but RandomForestRegressor was fitted with feature names\n",
      "  warnings.warn(\n"
     ]
    },
    {
     "data": {
      "text/plain": [
       "array([33999.])"
      ]
     },
     "execution_count": 665,
     "metadata": {},
     "output_type": "execute_result"
    }
   ],
   "source": [
    "model1.predict(t.reshape(1,-1))"
   ]
  },
  {
   "cell_type": "code",
   "execution_count": 666,
   "metadata": {},
   "outputs": [],
   "source": [
    "import pickle\n",
    "with open(\"encoder.pkl\",\"rb\") as f:\n",
    "    encoder1=pickle.load(f)"
   ]
  },
  {
   "cell_type": "code",
   "execution_count": 667,
   "metadata": {},
   "outputs": [
    {
     "data": {
      "text/html": [
       "<div>\n",
       "<style scoped>\n",
       "    .dataframe tbody tr th:only-of-type {\n",
       "        vertical-align: middle;\n",
       "    }\n",
       "\n",
       "    .dataframe tbody tr th {\n",
       "        vertical-align: top;\n",
       "    }\n",
       "\n",
       "    .dataframe thead th {\n",
       "        text-align: right;\n",
       "    }\n",
       "</style>\n",
       "<table border=\"1\" class=\"dataframe\">\n",
       "  <thead>\n",
       "    <tr style=\"text-align: right;\">\n",
       "      <th></th>\n",
       "      <th>Rating</th>\n",
       "      <th>Reviews</th>\n",
       "      <th>features-1</th>\n",
       "      <th>Company and Specifications</th>\n",
       "      <th>Deatils-1</th>\n",
       "    </tr>\n",
       "  </thead>\n",
       "  <tbody>\n",
       "    <tr>\n",
       "      <th>0</th>\n",
       "      <td>3.8</td>\n",
       "      <td>684.0</td>\n",
       "      <td>282</td>\n",
       "      <td>135</td>\n",
       "      <td>48</td>\n",
       "    </tr>\n",
       "    <tr>\n",
       "      <th>1</th>\n",
       "      <td>3.8</td>\n",
       "      <td>60.0</td>\n",
       "      <td>158</td>\n",
       "      <td>149</td>\n",
       "      <td>11</td>\n",
       "    </tr>\n",
       "    <tr>\n",
       "      <th>2</th>\n",
       "      <td>4.1</td>\n",
       "      <td>346.0</td>\n",
       "      <td>296</td>\n",
       "      <td>254</td>\n",
       "      <td>93</td>\n",
       "    </tr>\n",
       "    <tr>\n",
       "      <th>3</th>\n",
       "      <td>4.1</td>\n",
       "      <td>346.0</td>\n",
       "      <td>254</td>\n",
       "      <td>254</td>\n",
       "      <td>93</td>\n",
       "    </tr>\n",
       "    <tr>\n",
       "      <th>4</th>\n",
       "      <td>3.5</td>\n",
       "      <td>27.0</td>\n",
       "      <td>0</td>\n",
       "      <td>231</td>\n",
       "      <td>202</td>\n",
       "    </tr>\n",
       "    <tr>\n",
       "      <th>...</th>\n",
       "      <td>...</td>\n",
       "      <td>...</td>\n",
       "      <td>...</td>\n",
       "      <td>...</td>\n",
       "      <td>...</td>\n",
       "    </tr>\n",
       "    <tr>\n",
       "      <th>1574</th>\n",
       "      <td>3.8</td>\n",
       "      <td>15.0</td>\n",
       "      <td>319</td>\n",
       "      <td>0</td>\n",
       "      <td>188</td>\n",
       "    </tr>\n",
       "    <tr>\n",
       "      <th>1575</th>\n",
       "      <td>3.7</td>\n",
       "      <td>11.0</td>\n",
       "      <td>322</td>\n",
       "      <td>0</td>\n",
       "      <td>112</td>\n",
       "    </tr>\n",
       "    <tr>\n",
       "      <th>1576</th>\n",
       "      <td>3.3</td>\n",
       "      <td>6.0</td>\n",
       "      <td>317</td>\n",
       "      <td>0</td>\n",
       "      <td>110</td>\n",
       "    </tr>\n",
       "    <tr>\n",
       "      <th>1578</th>\n",
       "      <td>3.7</td>\n",
       "      <td>5.0</td>\n",
       "      <td>324</td>\n",
       "      <td>0</td>\n",
       "      <td>180</td>\n",
       "    </tr>\n",
       "    <tr>\n",
       "      <th>1579</th>\n",
       "      <td>4.0</td>\n",
       "      <td>65.0</td>\n",
       "      <td>313</td>\n",
       "      <td>0</td>\n",
       "      <td>187</td>\n",
       "    </tr>\n",
       "  </tbody>\n",
       "</table>\n",
       "<p>1035 rows × 5 columns</p>\n",
       "</div>"
      ],
      "text/plain": [
       "      Rating  Reviews  features-1  Company and Specifications  Deatils-1\n",
       "0        3.8    684.0         282                         135         48\n",
       "1        3.8     60.0         158                         149         11\n",
       "2        4.1    346.0         296                         254         93\n",
       "3        4.1    346.0         254                         254         93\n",
       "4        3.5     27.0           0                         231        202\n",
       "...      ...      ...         ...                         ...        ...\n",
       "1574     3.8     15.0         319                           0        188\n",
       "1575     3.7     11.0         322                           0        112\n",
       "1576     3.3      6.0         317                           0        110\n",
       "1578     3.7      5.0         324                           0        180\n",
       "1579     4.0     65.0         313                           0        187\n",
       "\n",
       "[1035 rows x 5 columns]"
      ]
     },
     "execution_count": 667,
     "metadata": {},
     "output_type": "execute_result"
    }
   ],
   "source": [
    "features"
   ]
  },
  {
   "cell_type": "code",
   "execution_count": 668,
   "metadata": {},
   "outputs": [
    {
     "data": {
      "text/plain": [
       "(1035, 8)"
      ]
     },
     "execution_count": 668,
     "metadata": {},
     "output_type": "execute_result"
    }
   ],
   "source": [
    "df12.shape"
   ]
  },
  {
   "cell_type": "code",
   "execution_count": 669,
   "metadata": {},
   "outputs": [],
   "source": [
    "d4=df12[[\"features-1\",\"Company and Specifications\",\"Deatils-1\"]]"
   ]
  },
  {
   "cell_type": "code",
   "execution_count": 670,
   "metadata": {},
   "outputs": [],
   "source": [
    "d3=df12.iloc[0].values"
   ]
  },
  {
   "cell_type": "code",
   "execution_count": 671,
   "metadata": {},
   "outputs": [],
   "source": [
    "d3=list(d3)"
   ]
  },
  {
   "cell_type": "code",
   "execution_count": 672,
   "metadata": {},
   "outputs": [
    {
     "data": {
      "text/plain": [
       "'Redmi note 13 Proplus'"
      ]
     },
     "execution_count": 672,
     "metadata": {},
     "output_type": "execute_result"
    }
   ],
   "source": [
    "df12[\"Company and Specifications\"].iloc[0]"
   ]
  },
  {
   "cell_type": "code",
   "execution_count": 680,
   "metadata": {},
   "outputs": [],
   "source": [
    "d5=X[\"Company and Specifications\"].iloc[0]\n",
    "d5=np.array(d5).reshape(-1,1)"
   ]
  },
  {
   "cell_type": "code",
   "execution_count": 683,
   "metadata": {},
   "outputs": [
    {
     "data": {
      "text/html": [
       "<div>\n",
       "<style scoped>\n",
       "    .dataframe tbody tr th:only-of-type {\n",
       "        vertical-align: middle;\n",
       "    }\n",
       "\n",
       "    .dataframe tbody tr th {\n",
       "        vertical-align: top;\n",
       "    }\n",
       "\n",
       "    .dataframe thead th {\n",
       "        text-align: right;\n",
       "    }\n",
       "</style>\n",
       "<table border=\"1\" class=\"dataframe\">\n",
       "  <thead>\n",
       "    <tr style=\"text-align: right;\">\n",
       "      <th></th>\n",
       "      <th>Rating</th>\n",
       "      <th>Reviews</th>\n",
       "      <th>features-1</th>\n",
       "      <th>Company and Specifications</th>\n",
       "      <th>Deatils-1</th>\n",
       "    </tr>\n",
       "  </thead>\n",
       "  <tbody>\n",
       "    <tr>\n",
       "      <th>0</th>\n",
       "      <td>3.8</td>\n",
       "      <td>684.0</td>\n",
       "      <td>282</td>\n",
       "      <td>135</td>\n",
       "      <td>48</td>\n",
       "    </tr>\n",
       "    <tr>\n",
       "      <th>1</th>\n",
       "      <td>3.8</td>\n",
       "      <td>60.0</td>\n",
       "      <td>158</td>\n",
       "      <td>149</td>\n",
       "      <td>11</td>\n",
       "    </tr>\n",
       "    <tr>\n",
       "      <th>2</th>\n",
       "      <td>4.1</td>\n",
       "      <td>346.0</td>\n",
       "      <td>296</td>\n",
       "      <td>254</td>\n",
       "      <td>93</td>\n",
       "    </tr>\n",
       "    <tr>\n",
       "      <th>3</th>\n",
       "      <td>4.1</td>\n",
       "      <td>346.0</td>\n",
       "      <td>254</td>\n",
       "      <td>254</td>\n",
       "      <td>93</td>\n",
       "    </tr>\n",
       "    <tr>\n",
       "      <th>4</th>\n",
       "      <td>3.5</td>\n",
       "      <td>27.0</td>\n",
       "      <td>0</td>\n",
       "      <td>231</td>\n",
       "      <td>202</td>\n",
       "    </tr>\n",
       "    <tr>\n",
       "      <th>...</th>\n",
       "      <td>...</td>\n",
       "      <td>...</td>\n",
       "      <td>...</td>\n",
       "      <td>...</td>\n",
       "      <td>...</td>\n",
       "    </tr>\n",
       "    <tr>\n",
       "      <th>1574</th>\n",
       "      <td>3.8</td>\n",
       "      <td>15.0</td>\n",
       "      <td>319</td>\n",
       "      <td>0</td>\n",
       "      <td>188</td>\n",
       "    </tr>\n",
       "    <tr>\n",
       "      <th>1575</th>\n",
       "      <td>3.7</td>\n",
       "      <td>11.0</td>\n",
       "      <td>322</td>\n",
       "      <td>0</td>\n",
       "      <td>112</td>\n",
       "    </tr>\n",
       "    <tr>\n",
       "      <th>1576</th>\n",
       "      <td>3.3</td>\n",
       "      <td>6.0</td>\n",
       "      <td>317</td>\n",
       "      <td>0</td>\n",
       "      <td>110</td>\n",
       "    </tr>\n",
       "    <tr>\n",
       "      <th>1578</th>\n",
       "      <td>3.7</td>\n",
       "      <td>5.0</td>\n",
       "      <td>324</td>\n",
       "      <td>0</td>\n",
       "      <td>180</td>\n",
       "    </tr>\n",
       "    <tr>\n",
       "      <th>1579</th>\n",
       "      <td>4.0</td>\n",
       "      <td>65.0</td>\n",
       "      <td>313</td>\n",
       "      <td>0</td>\n",
       "      <td>187</td>\n",
       "    </tr>\n",
       "  </tbody>\n",
       "</table>\n",
       "<p>1035 rows × 5 columns</p>\n",
       "</div>"
      ],
      "text/plain": [
       "      Rating  Reviews  features-1  Company and Specifications  Deatils-1\n",
       "0        3.8    684.0         282                         135         48\n",
       "1        3.8     60.0         158                         149         11\n",
       "2        4.1    346.0         296                         254         93\n",
       "3        4.1    346.0         254                         254         93\n",
       "4        3.5     27.0           0                         231        202\n",
       "...      ...      ...         ...                         ...        ...\n",
       "1574     3.8     15.0         319                           0        188\n",
       "1575     3.7     11.0         322                           0        112\n",
       "1576     3.3      6.0         317                           0        110\n",
       "1578     3.7      5.0         324                           0        180\n",
       "1579     4.0     65.0         313                           0        187\n",
       "\n",
       "[1035 rows x 5 columns]"
      ]
     },
     "execution_count": 683,
     "metadata": {},
     "output_type": "execute_result"
    }
   ],
   "source": []
  },
  {
   "cell_type": "code",
   "execution_count": 681,
   "metadata": {},
   "outputs": [
    {
     "name": "stderr",
     "output_type": "stream",
     "text": [
      "d:\\Phone price prediction\\venv\\Lib\\site-packages\\sklearn\\preprocessing\\_label.py:153: DataConversionWarning: A column-vector y was passed when a 1d array was expected. Please change the shape of y to (n_samples, ), for example using ravel().\n",
      "  y = column_or_1d(y, warn=True)\n"
     ]
    },
    {
     "data": {
      "text/plain": [
       "array(['Mr. Case Soft Transparent Hybrid Slim Fit Frosted Matte Silicone TPU Cover Phone 2A -transparent Gray'],\n",
       "      dtype=object)"
      ]
     },
     "execution_count": 681,
     "metadata": {},
     "output_type": "execute_result"
    }
   ],
   "source": [
    "le.inverse_transform(d5)"
   ]
  },
  {
   "cell_type": "code",
   "execution_count": 685,
   "metadata": {},
   "outputs": [
    {
     "data": {
      "text/html": [
       "<style>#sk-container-id-5 {\n",
       "  /* Definition of color scheme common for light and dark mode */\n",
       "  --sklearn-color-text: black;\n",
       "  --sklearn-color-line: gray;\n",
       "  /* Definition of color scheme for unfitted estimators */\n",
       "  --sklearn-color-unfitted-level-0: #fff5e6;\n",
       "  --sklearn-color-unfitted-level-1: #f6e4d2;\n",
       "  --sklearn-color-unfitted-level-2: #ffe0b3;\n",
       "  --sklearn-color-unfitted-level-3: chocolate;\n",
       "  /* Definition of color scheme for fitted estimators */\n",
       "  --sklearn-color-fitted-level-0: #f0f8ff;\n",
       "  --sklearn-color-fitted-level-1: #d4ebff;\n",
       "  --sklearn-color-fitted-level-2: #b3dbfd;\n",
       "  --sklearn-color-fitted-level-3: cornflowerblue;\n",
       "\n",
       "  /* Specific color for light theme */\n",
       "  --sklearn-color-text-on-default-background: var(--sg-text-color, var(--theme-code-foreground, var(--jp-content-font-color1, black)));\n",
       "  --sklearn-color-background: var(--sg-background-color, var(--theme-background, var(--jp-layout-color0, white)));\n",
       "  --sklearn-color-border-box: var(--sg-text-color, var(--theme-code-foreground, var(--jp-content-font-color1, black)));\n",
       "  --sklearn-color-icon: #696969;\n",
       "\n",
       "  @media (prefers-color-scheme: dark) {\n",
       "    /* Redefinition of color scheme for dark theme */\n",
       "    --sklearn-color-text-on-default-background: var(--sg-text-color, var(--theme-code-foreground, var(--jp-content-font-color1, white)));\n",
       "    --sklearn-color-background: var(--sg-background-color, var(--theme-background, var(--jp-layout-color0, #111)));\n",
       "    --sklearn-color-border-box: var(--sg-text-color, var(--theme-code-foreground, var(--jp-content-font-color1, white)));\n",
       "    --sklearn-color-icon: #878787;\n",
       "  }\n",
       "}\n",
       "\n",
       "#sk-container-id-5 {\n",
       "  color: var(--sklearn-color-text);\n",
       "}\n",
       "\n",
       "#sk-container-id-5 pre {\n",
       "  padding: 0;\n",
       "}\n",
       "\n",
       "#sk-container-id-5 input.sk-hidden--visually {\n",
       "  border: 0;\n",
       "  clip: rect(1px 1px 1px 1px);\n",
       "  clip: rect(1px, 1px, 1px, 1px);\n",
       "  height: 1px;\n",
       "  margin: -1px;\n",
       "  overflow: hidden;\n",
       "  padding: 0;\n",
       "  position: absolute;\n",
       "  width: 1px;\n",
       "}\n",
       "\n",
       "#sk-container-id-5 div.sk-dashed-wrapped {\n",
       "  border: 1px dashed var(--sklearn-color-line);\n",
       "  margin: 0 0.4em 0.5em 0.4em;\n",
       "  box-sizing: border-box;\n",
       "  padding-bottom: 0.4em;\n",
       "  background-color: var(--sklearn-color-background);\n",
       "}\n",
       "\n",
       "#sk-container-id-5 div.sk-container {\n",
       "  /* jupyter's `normalize.less` sets `[hidden] { display: none; }`\n",
       "     but bootstrap.min.css set `[hidden] { display: none !important; }`\n",
       "     so we also need the `!important` here to be able to override the\n",
       "     default hidden behavior on the sphinx rendered scikit-learn.org.\n",
       "     See: https://github.com/scikit-learn/scikit-learn/issues/21755 */\n",
       "  display: inline-block !important;\n",
       "  position: relative;\n",
       "}\n",
       "\n",
       "#sk-container-id-5 div.sk-text-repr-fallback {\n",
       "  display: none;\n",
       "}\n",
       "\n",
       "div.sk-parallel-item,\n",
       "div.sk-serial,\n",
       "div.sk-item {\n",
       "  /* draw centered vertical line to link estimators */\n",
       "  background-image: linear-gradient(var(--sklearn-color-text-on-default-background), var(--sklearn-color-text-on-default-background));\n",
       "  background-size: 2px 100%;\n",
       "  background-repeat: no-repeat;\n",
       "  background-position: center center;\n",
       "}\n",
       "\n",
       "/* Parallel-specific style estimator block */\n",
       "\n",
       "#sk-container-id-5 div.sk-parallel-item::after {\n",
       "  content: \"\";\n",
       "  width: 100%;\n",
       "  border-bottom: 2px solid var(--sklearn-color-text-on-default-background);\n",
       "  flex-grow: 1;\n",
       "}\n",
       "\n",
       "#sk-container-id-5 div.sk-parallel {\n",
       "  display: flex;\n",
       "  align-items: stretch;\n",
       "  justify-content: center;\n",
       "  background-color: var(--sklearn-color-background);\n",
       "  position: relative;\n",
       "}\n",
       "\n",
       "#sk-container-id-5 div.sk-parallel-item {\n",
       "  display: flex;\n",
       "  flex-direction: column;\n",
       "}\n",
       "\n",
       "#sk-container-id-5 div.sk-parallel-item:first-child::after {\n",
       "  align-self: flex-end;\n",
       "  width: 50%;\n",
       "}\n",
       "\n",
       "#sk-container-id-5 div.sk-parallel-item:last-child::after {\n",
       "  align-self: flex-start;\n",
       "  width: 50%;\n",
       "}\n",
       "\n",
       "#sk-container-id-5 div.sk-parallel-item:only-child::after {\n",
       "  width: 0;\n",
       "}\n",
       "\n",
       "/* Serial-specific style estimator block */\n",
       "\n",
       "#sk-container-id-5 div.sk-serial {\n",
       "  display: flex;\n",
       "  flex-direction: column;\n",
       "  align-items: center;\n",
       "  background-color: var(--sklearn-color-background);\n",
       "  padding-right: 1em;\n",
       "  padding-left: 1em;\n",
       "}\n",
       "\n",
       "\n",
       "/* Toggleable style: style used for estimator/Pipeline/ColumnTransformer box that is\n",
       "clickable and can be expanded/collapsed.\n",
       "- Pipeline and ColumnTransformer use this feature and define the default style\n",
       "- Estimators will overwrite some part of the style using the `sk-estimator` class\n",
       "*/\n",
       "\n",
       "/* Pipeline and ColumnTransformer style (default) */\n",
       "\n",
       "#sk-container-id-5 div.sk-toggleable {\n",
       "  /* Default theme specific background. It is overwritten whether we have a\n",
       "  specific estimator or a Pipeline/ColumnTransformer */\n",
       "  background-color: var(--sklearn-color-background);\n",
       "}\n",
       "\n",
       "/* Toggleable label */\n",
       "#sk-container-id-5 label.sk-toggleable__label {\n",
       "  cursor: pointer;\n",
       "  display: block;\n",
       "  width: 100%;\n",
       "  margin-bottom: 0;\n",
       "  padding: 0.5em;\n",
       "  box-sizing: border-box;\n",
       "  text-align: center;\n",
       "}\n",
       "\n",
       "#sk-container-id-5 label.sk-toggleable__label-arrow:before {\n",
       "  /* Arrow on the left of the label */\n",
       "  content: \"▸\";\n",
       "  float: left;\n",
       "  margin-right: 0.25em;\n",
       "  color: var(--sklearn-color-icon);\n",
       "}\n",
       "\n",
       "#sk-container-id-5 label.sk-toggleable__label-arrow:hover:before {\n",
       "  color: var(--sklearn-color-text);\n",
       "}\n",
       "\n",
       "/* Toggleable content - dropdown */\n",
       "\n",
       "#sk-container-id-5 div.sk-toggleable__content {\n",
       "  max-height: 0;\n",
       "  max-width: 0;\n",
       "  overflow: hidden;\n",
       "  text-align: left;\n",
       "  /* unfitted */\n",
       "  background-color: var(--sklearn-color-unfitted-level-0);\n",
       "}\n",
       "\n",
       "#sk-container-id-5 div.sk-toggleable__content.fitted {\n",
       "  /* fitted */\n",
       "  background-color: var(--sklearn-color-fitted-level-0);\n",
       "}\n",
       "\n",
       "#sk-container-id-5 div.sk-toggleable__content pre {\n",
       "  margin: 0.2em;\n",
       "  border-radius: 0.25em;\n",
       "  color: var(--sklearn-color-text);\n",
       "  /* unfitted */\n",
       "  background-color: var(--sklearn-color-unfitted-level-0);\n",
       "}\n",
       "\n",
       "#sk-container-id-5 div.sk-toggleable__content.fitted pre {\n",
       "  /* unfitted */\n",
       "  background-color: var(--sklearn-color-fitted-level-0);\n",
       "}\n",
       "\n",
       "#sk-container-id-5 input.sk-toggleable__control:checked~div.sk-toggleable__content {\n",
       "  /* Expand drop-down */\n",
       "  max-height: 200px;\n",
       "  max-width: 100%;\n",
       "  overflow: auto;\n",
       "}\n",
       "\n",
       "#sk-container-id-5 input.sk-toggleable__control:checked~label.sk-toggleable__label-arrow:before {\n",
       "  content: \"▾\";\n",
       "}\n",
       "\n",
       "/* Pipeline/ColumnTransformer-specific style */\n",
       "\n",
       "#sk-container-id-5 div.sk-label input.sk-toggleable__control:checked~label.sk-toggleable__label {\n",
       "  color: var(--sklearn-color-text);\n",
       "  background-color: var(--sklearn-color-unfitted-level-2);\n",
       "}\n",
       "\n",
       "#sk-container-id-5 div.sk-label.fitted input.sk-toggleable__control:checked~label.sk-toggleable__label {\n",
       "  background-color: var(--sklearn-color-fitted-level-2);\n",
       "}\n",
       "\n",
       "/* Estimator-specific style */\n",
       "\n",
       "/* Colorize estimator box */\n",
       "#sk-container-id-5 div.sk-estimator input.sk-toggleable__control:checked~label.sk-toggleable__label {\n",
       "  /* unfitted */\n",
       "  background-color: var(--sklearn-color-unfitted-level-2);\n",
       "}\n",
       "\n",
       "#sk-container-id-5 div.sk-estimator.fitted input.sk-toggleable__control:checked~label.sk-toggleable__label {\n",
       "  /* fitted */\n",
       "  background-color: var(--sklearn-color-fitted-level-2);\n",
       "}\n",
       "\n",
       "#sk-container-id-5 div.sk-label label.sk-toggleable__label,\n",
       "#sk-container-id-5 div.sk-label label {\n",
       "  /* The background is the default theme color */\n",
       "  color: var(--sklearn-color-text-on-default-background);\n",
       "}\n",
       "\n",
       "/* On hover, darken the color of the background */\n",
       "#sk-container-id-5 div.sk-label:hover label.sk-toggleable__label {\n",
       "  color: var(--sklearn-color-text);\n",
       "  background-color: var(--sklearn-color-unfitted-level-2);\n",
       "}\n",
       "\n",
       "/* Label box, darken color on hover, fitted */\n",
       "#sk-container-id-5 div.sk-label.fitted:hover label.sk-toggleable__label.fitted {\n",
       "  color: var(--sklearn-color-text);\n",
       "  background-color: var(--sklearn-color-fitted-level-2);\n",
       "}\n",
       "\n",
       "/* Estimator label */\n",
       "\n",
       "#sk-container-id-5 div.sk-label label {\n",
       "  font-family: monospace;\n",
       "  font-weight: bold;\n",
       "  display: inline-block;\n",
       "  line-height: 1.2em;\n",
       "}\n",
       "\n",
       "#sk-container-id-5 div.sk-label-container {\n",
       "  text-align: center;\n",
       "}\n",
       "\n",
       "/* Estimator-specific */\n",
       "#sk-container-id-5 div.sk-estimator {\n",
       "  font-family: monospace;\n",
       "  border: 1px dotted var(--sklearn-color-border-box);\n",
       "  border-radius: 0.25em;\n",
       "  box-sizing: border-box;\n",
       "  margin-bottom: 0.5em;\n",
       "  /* unfitted */\n",
       "  background-color: var(--sklearn-color-unfitted-level-0);\n",
       "}\n",
       "\n",
       "#sk-container-id-5 div.sk-estimator.fitted {\n",
       "  /* fitted */\n",
       "  background-color: var(--sklearn-color-fitted-level-0);\n",
       "}\n",
       "\n",
       "/* on hover */\n",
       "#sk-container-id-5 div.sk-estimator:hover {\n",
       "  /* unfitted */\n",
       "  background-color: var(--sklearn-color-unfitted-level-2);\n",
       "}\n",
       "\n",
       "#sk-container-id-5 div.sk-estimator.fitted:hover {\n",
       "  /* fitted */\n",
       "  background-color: var(--sklearn-color-fitted-level-2);\n",
       "}\n",
       "\n",
       "/* Specification for estimator info (e.g. \"i\" and \"?\") */\n",
       "\n",
       "/* Common style for \"i\" and \"?\" */\n",
       "\n",
       ".sk-estimator-doc-link,\n",
       "a:link.sk-estimator-doc-link,\n",
       "a:visited.sk-estimator-doc-link {\n",
       "  float: right;\n",
       "  font-size: smaller;\n",
       "  line-height: 1em;\n",
       "  font-family: monospace;\n",
       "  background-color: var(--sklearn-color-background);\n",
       "  border-radius: 1em;\n",
       "  height: 1em;\n",
       "  width: 1em;\n",
       "  text-decoration: none !important;\n",
       "  margin-left: 1ex;\n",
       "  /* unfitted */\n",
       "  border: var(--sklearn-color-unfitted-level-1) 1pt solid;\n",
       "  color: var(--sklearn-color-unfitted-level-1);\n",
       "}\n",
       "\n",
       ".sk-estimator-doc-link.fitted,\n",
       "a:link.sk-estimator-doc-link.fitted,\n",
       "a:visited.sk-estimator-doc-link.fitted {\n",
       "  /* fitted */\n",
       "  border: var(--sklearn-color-fitted-level-1) 1pt solid;\n",
       "  color: var(--sklearn-color-fitted-level-1);\n",
       "}\n",
       "\n",
       "/* On hover */\n",
       "div.sk-estimator:hover .sk-estimator-doc-link:hover,\n",
       ".sk-estimator-doc-link:hover,\n",
       "div.sk-label-container:hover .sk-estimator-doc-link:hover,\n",
       ".sk-estimator-doc-link:hover {\n",
       "  /* unfitted */\n",
       "  background-color: var(--sklearn-color-unfitted-level-3);\n",
       "  color: var(--sklearn-color-background);\n",
       "  text-decoration: none;\n",
       "}\n",
       "\n",
       "div.sk-estimator.fitted:hover .sk-estimator-doc-link.fitted:hover,\n",
       ".sk-estimator-doc-link.fitted:hover,\n",
       "div.sk-label-container:hover .sk-estimator-doc-link.fitted:hover,\n",
       ".sk-estimator-doc-link.fitted:hover {\n",
       "  /* fitted */\n",
       "  background-color: var(--sklearn-color-fitted-level-3);\n",
       "  color: var(--sklearn-color-background);\n",
       "  text-decoration: none;\n",
       "}\n",
       "\n",
       "/* Span, style for the box shown on hovering the info icon */\n",
       ".sk-estimator-doc-link span {\n",
       "  display: none;\n",
       "  z-index: 9999;\n",
       "  position: relative;\n",
       "  font-weight: normal;\n",
       "  right: .2ex;\n",
       "  padding: .5ex;\n",
       "  margin: .5ex;\n",
       "  width: min-content;\n",
       "  min-width: 20ex;\n",
       "  max-width: 50ex;\n",
       "  color: var(--sklearn-color-text);\n",
       "  box-shadow: 2pt 2pt 4pt #999;\n",
       "  /* unfitted */\n",
       "  background: var(--sklearn-color-unfitted-level-0);\n",
       "  border: .5pt solid var(--sklearn-color-unfitted-level-3);\n",
       "}\n",
       "\n",
       ".sk-estimator-doc-link.fitted span {\n",
       "  /* fitted */\n",
       "  background: var(--sklearn-color-fitted-level-0);\n",
       "  border: var(--sklearn-color-fitted-level-3);\n",
       "}\n",
       "\n",
       ".sk-estimator-doc-link:hover span {\n",
       "  display: block;\n",
       "}\n",
       "\n",
       "/* \"?\"-specific style due to the `<a>` HTML tag */\n",
       "\n",
       "#sk-container-id-5 a.estimator_doc_link {\n",
       "  float: right;\n",
       "  font-size: 1rem;\n",
       "  line-height: 1em;\n",
       "  font-family: monospace;\n",
       "  background-color: var(--sklearn-color-background);\n",
       "  border-radius: 1rem;\n",
       "  height: 1rem;\n",
       "  width: 1rem;\n",
       "  text-decoration: none;\n",
       "  /* unfitted */\n",
       "  color: var(--sklearn-color-unfitted-level-1);\n",
       "  border: var(--sklearn-color-unfitted-level-1) 1pt solid;\n",
       "}\n",
       "\n",
       "#sk-container-id-5 a.estimator_doc_link.fitted {\n",
       "  /* fitted */\n",
       "  border: var(--sklearn-color-fitted-level-1) 1pt solid;\n",
       "  color: var(--sklearn-color-fitted-level-1);\n",
       "}\n",
       "\n",
       "/* On hover */\n",
       "#sk-container-id-5 a.estimator_doc_link:hover {\n",
       "  /* unfitted */\n",
       "  background-color: var(--sklearn-color-unfitted-level-3);\n",
       "  color: var(--sklearn-color-background);\n",
       "  text-decoration: none;\n",
       "}\n",
       "\n",
       "#sk-container-id-5 a.estimator_doc_link.fitted:hover {\n",
       "  /* fitted */\n",
       "  background-color: var(--sklearn-color-fitted-level-3);\n",
       "}\n",
       "</style><div id=\"sk-container-id-5\" class=\"sk-top-container\"><div class=\"sk-text-repr-fallback\"><pre>LabelEncoder()</pre><b>In a Jupyter environment, please rerun this cell to show the HTML representation or trust the notebook. <br />On GitHub, the HTML representation is unable to render, please try loading this page with nbviewer.org.</b></div><div class=\"sk-container\" hidden><div class=\"sk-item\"><div class=\"sk-estimator fitted sk-toggleable\"><input class=\"sk-toggleable__control sk-hidden--visually\" id=\"sk-estimator-id-5\" type=\"checkbox\" checked><label for=\"sk-estimator-id-5\" class=\"sk-toggleable__label fitted sk-toggleable__label-arrow fitted\">&nbsp;&nbsp;LabelEncoder<a class=\"sk-estimator-doc-link fitted\" rel=\"noreferrer\" target=\"_blank\" href=\"https://scikit-learn.org/1.5/modules/generated/sklearn.preprocessing.LabelEncoder.html\">?<span>Documentation for LabelEncoder</span></a><span class=\"sk-estimator-doc-link fitted\">i<span>Fitted</span></span></label><div class=\"sk-toggleable__content fitted\"><pre>LabelEncoder()</pre></div> </div></div></div></div>"
      ],
      "text/plain": [
       "LabelEncoder()"
      ]
     },
     "execution_count": 685,
     "metadata": {},
     "output_type": "execute_result"
    }
   ],
   "source": [
    "lebel=LabelEncoder()\n",
    "lebel.fit(df15[\"Company and Specifications\"])\n",
    "lebel.fit(df15[\"features-1\"])\n",
    "lebel.fit(df15[\"Deatils-1\"])\n"
   ]
  },
  {
   "cell_type": "code",
   "execution_count": 696,
   "metadata": {},
   "outputs": [
    {
     "data": {
      "text/plain": [
       "array(['', '  1.5kamoled 200MPHi ResCamera Flagship4nmSD7sGen2',\n",
       "       '  108mp&50mpspotlightportraitcamera FlagshipAMOLEDDisplay 3240hzpwmdimming',\n",
       "       '  108mp3xzoomportraitcamera trendywatchdesign 45wsupervooccharge',\n",
       "       '  108mpcamera+32mpselfiecamera 120HzDot inAMOLEDDisplay dualspeakerswithdolbyatmos',\n",
       "       '  108mpultraclearimage superellipsedesign mtkd60805gprocessor',\n",
       "       '  120hz3dcurvedamoleddisplay 5500mahultra ThinBattery dimesity73005gprocessor',\n",
       "       '  120hzcurvedamoleddisplay 2.6ghzdimensity70506nmprocessor 64mpprimarysensor',\n",
       "       '  120hzultrasmoothdisplay Dimensity6100 + 6nm5 g 50mpaicamera',\n",
       "       '  50MPMainCamera Android14withOneUI6.0 12GBExpandableRAM',\n",
       "       '  50MPMainCamera Android14withOneUI6.0 16gbexpandableram',\n",
       "       '  50mpdualcamera bigger6.7\"hd+display 5000mahbattery',\n",
       "       '  50mpsonyimx882oiscamera 32mp2xflagshiptelephotoportraitcamera snapdragon6gen15gprocessor',\n",
       "       '  50mptriplecam 5000mahbattery snapdragon680processor',\n",
       "       '  6.67\"fhd+amoleddisplay 32mpsonyimx615selfiecamera aiportraitexpert',\n",
       "       '  6.67hd+120hzrefreshratescreen 45wsupervooc withNoCostEMI additionalexchangeoffer',\n",
       "       '  6.7 inchamoledquad curveddisplay dualois50mp+50mp+12mpcamera 50mpselfiecamera',\n",
       "       '  6.7\"120HzCurvedAMOLEDDisplay 64MPPeriscope+50MPSonyIMX890OISCamera+8MP 32mpselfiecamera',\n",
       "       '  6.7\"fhd+amoledtoughest3dcurveddisplay 64mpaifeaturedcamera IP69',\n",
       "       '  6.78 inchamoledquad curveddisplay dualois50mp+50mp+12mpcamera 50mpselfiecamera',\n",
       "       '  8gbexpandableram industry1st50mprgbw ProCamera segment1st108mpultra widemacrolen',\n",
       "       '  90hzpunchholedisplaywithdynamicport&dualspeakerswithdts 5000mahbattery 10wtype c',\n",
       "       '  AGGlassBack T616OctacoreProcessor 18wfastcharging',\n",
       "       '  AdvancedAIFeatures 108mpultraclearaicamera d6300powerfulprocessor',\n",
       "       '  CompatiblewithMagSafeCarMount WindshieldMagneticCarMountforiPhone16/15/14/13/12 CarAccessories MetallicGrey',\n",
       "       '  CorningGorillaGlassVictus+ AnTuTuScore595K+ VapourCoolingChamber',\n",
       "       '  Dimensity6080Processor 5000mahbattery+33wfastcharging 108mp+2mprearcamera&16mpfrontcamera',\n",
       "       '  Dimensity63005 g 50mpsonyaicamera ChargerinTheBox',\n",
       "       '  ExpandableUpto2 TB 50mp+2mp 16mpfrontcamera',\n",
       "       '  ExpandableUpto2 TB MediaTekDimensity7050Processor Ultra SmoothAMOLEDDisplay',\n",
       "       '  ExpandableUpto2 TB Upto18GBDynamicRAM 50MPAIDualCamera',\n",
       "       '  ExpandableUpto2 TB upto24gbramwithramboost 50MP(OIS',\n",
       "       '  Indias1st7+Gen3FlagshipChipset 1.5m+antutuscore 5500mah+120w',\n",
       "       '  IndiasFirstUltra bounceanti DropCurvedAMOLEDDisplay 5800mAhBattery 108mpprimarycamera',\n",
       "       '  JioChat JioPhotos powerful2500mahbattery LEDTorch DigitalCamera DarkGrey lockedforjionetwork',\n",
       "       '  MediaTekDimensity6100 + 5gprocessor 5000mahbattery+18wfastcharging 50MPAIDual CameraSystem&SideFingerprintSensor',\n",
       "       '  MetalFrame 50mpmaincamera(ois',\n",
       "       '  MiniLED+CardioidMicrophone+PhoneClip+TripodforLiveBroadcastingVideoCallingVloggingYouTubeInstagram',\n",
       "       '  Octacore5G6nmProcessor 50mpaicamera 5000mahbattery',\n",
       "       '  PremiumGlassBack 50mpmaincamera(ois',\n",
       "       '  PremiumGlassBackDesign mediatekdimensity6080processor 50mp+8mpultrawidedualcamera 16mpfrontcamera 33wfastcharging CleanAndroid',\n",
       "       '  PremiumHaloDesign 90HzDisplay Powerful4GG36Processor',\n",
       "       '  PremiumHaloDesign 90HzDisplay powerfuloctacoreprocessor',\n",
       "       '  PrimeDesign MTKDimensity700 50mpdualcam',\n",
       "       '  SegmentFirst90HzDot inDisplaywithDynamicPort&DualSpeakerswithDTS 5000mah 10wtype c',\n",
       "       '  Upto12GB(6 + 6 GB', '  Upto16GB(8 + 8 GB',\n",
       "       '  Upto16GBExtentedRAM 6.78\"amoleddisplay 108mp+2mp+2mp',\n",
       "       '  WorldsFirstMediatek7200Ultra5 G 200MPHi ResCamera 1.5kcurvedamoled',\n",
       "       '  black',\n",
       "       '  dimensity7300energy5gchipsetisfastestchipsetinthissegment motorsportsinspireddesign',\n",
       "       '  dynamicultrasmoothdisplay Upto8GB+8GBDynamicRAM 108mp3zoom',\n",
       "       '  innovativecolorchangingtechnology 120wflashcharge',\n",
       "       '  innovativecolorchangingtechnology 120wflashchargecellularphoenix',\n",
       "       '  longlastingbattery LEDTorch DigitalCamera Blue lockedforjionetwork',\n",
       "       '  mediatekdimensity8020processor 64mprgbw(g+p',\n",
       "       '  premiumglossyback OctacoreProcessor 18wfastcharging',\n",
       "       '  segmentsfastestdimensity7300energy5gchipset motorsportsinspireddesign',\n",
       "       '  superamoleddisplay 50mptriplecam 6000mahbattery',\n",
       "       '  upto2tbexpandable 6.72\"fullhd+lcddisplay 64mp+2mp',\n",
       "       '  worlds1st4nmdimensity90005gprocessor dualcurvedamoleddisplay 64mprgbwcamera',\n",
       "       '  worlds1stretractable50mpportraitlen worlds1st4nmdimensity90005gprocessor',\n",
       "       '-MeadowGreen',\n",
       "       '-SegmentFirst5GCurvedAMOLEDDisplay 64MPSonySensorCamera Upto8GBExpandableRAM latestmediatek5gprocessor',\n",
       "       '-UniversalMagneticCarPhoneHolder ACVents androidoriosdevice 360degreerotation',\n",
       "       '-black', '-chalkpink',\n",
       "       '-coolgreen 50mpaitriplecamera 18wfastcharger 6.5inch(16.5 cm',\n",
       "       '-crystalblue', '-gloriousorange', '-nebulablack',\n",
       "       '-superamoleddisplay 64mpquadcamera 33WChargerIncluded', '/(2a',\n",
       "       '1.2v830mahnimhaaarechargeablebatteriescompatibleforpanasoniccordlessphone ElectronicDevices',\n",
       "       '12gbram',\n",
       "       '160cmlongtripodselfiestickwithwirelessremote aluminumrodwith3legsbase 360head goproadapter 7sectionadjustment compatiblewithphones&actioncameras',\n",
       "       '256gbrom', '3gbram(crystalgreen', '3gbram(timberblack',\n",
       "       '45w CMF fast Charger Adapter CMF Phone 1 Phone 2A Phone 2a Plus Phone 2 Buds Ear Stick CMF 33w Power Charger Mobile 45 W Type C Charging Adaptor 33 w Charge White',\n",
       "       '45wfastcharge 5000mahdurablebattery 7.74mmultraslim 50mpaicamera',\n",
       "       '4gbram', '5G(Black 8GBRAM 128gbstorage',\n",
       "       '5G(Black 8gbram 256gbstorage', '5G(Blue 8GBRAM 128gbstorage',\n",
       "       '5G(Blue 8GBRAM 256gbstorage', '5g(black 12gbram 256gbstorage',\n",
       "       '5g(grey 12gbram 512gbstorage',\n",
       "       '5g(thermoplasticpolyurethane_clear',\n",
       "       '6 PCS Phone Suction Sticker Suction Phone Case Phone Sticky Pad Grip Phone Suction Pad Sticky Phone Case Wall Suction Phone Case Shower Mirror Fingertip toy',\n",
       "       '660wmax', '6gbram', '8gbram',\n",
       "       '90hzeyecomfortdisplay ip54dust&waterresistance 48 MonthFluency ChargerinTheBox',\n",
       "       'AILKIN 45w original usb c Power Charger Adapter   Super Fast Charging CMF Phone Phone 2a Phone 2,phone 1 Bud Laptops   PD3.0 QC4.0+/QC3.0 QC2.0 Compatible White',\n",
       "       'APPS2Car Mobile Holder Car Air Vent Hands Free Holder car Button Release 360 Degree Rotation Phone Mount compatible iPhone Samsung etc',\n",
       "       'Amazon Basics rotate Mobile Holder Adjustable Screw 360 Swivel Tripod Ring Light Phone Camera Video Camera Ideal Videographers Photographers',\n",
       "       'BackCover camerabump&360flexipuffarmorprotection mattesoftsiliconshockproofrubberisedbackcasecover(black',\n",
       "       'BackCover camerabumpprotection&innervelvetfabricline ultraslimmattesoftrubberisedcasecover(black',\n",
       "       'Dravina Al Face Tracking Phone Holder 360 Rotation Face Body| Gesture Control Tripod Smart Shooting Camera Mount Remote App Required| Rechargeable Battery 2 Led color change light',\n",
       "       'ESR Samsung Galaxy S24 Ultra Case Kickstand S24 Ultra Cover 3 Stand Modes Military Grade Drop Protection Shockproof Slim Phone Case Patented Kickstand TPU Boost Series Clear Gray',\n",
       "       'GadgetBite Universal Anti lost Phone Lanyard Wrist Rope Secure Stylish Phone Wrist Strap Cord',\n",
       "       'HMD 105 Keypad Phone build UPI App Phone Talker Long last Battery Wireless FM Radio | Purple',\n",
       "       'HMD 105 Keypad Phone build UPI App Phone Talker Long last Battery Wireless FM Radio | black',\n",
       "       'HMD 110 Keypad Phone build Scan Pay UPI App Rear Camera Long last Battery Wireless FM Radio | black',\n",
       "       'Hola Tf 610 Caller d Speaker Phone memory',\n",
       "       'Hola tc 700 Cordless 2.4ghz Landline Phone Caller d Display Stores 50 Contacts Upto 8hrs Talk Time Solid Build Quality Alarm Function Auto Answer Mute Flash Function',\n",
       "       'IKALL K75 Car Mobile Phone Gold | 1.8 inch Display Dual SIM | 32 MB RAM 32 mb Storage | mp3 Video Player FM Radio Camera | 800 mAh Battery | Keypad Mobile Phone | 1 Year Warranty',\n",
       "       'IQOO9T5G(Alpha 12gbram 256gbstorage',\n",
       "       'IQOO9T5G(Alpha 8gbram 128gbstorage',\n",
       "       'IQOO9T5G(Legend 8GBRAM 128gbstorage',\n",
       "       'IQOOZ6Pro5G(LegionSky 6GBRAM 128gbstorage',\n",
       "       'IQOOZ6Pro5G(PhantomDusk 6GBRAM 128gbstorage',\n",
       "       'IQOOZ6Pro5G(PhantomDusk 8gbram 128gbstorage',\n",
       "       'KPC tech Beetel B25 cord Wall Mounting Phone Black Color',\n",
       "       'Kratos Grip x2 Adjustable Car Mobile Holder Quick Release 360 Rotatable multiple view Angles Strong Suction Cup Windshield Dashboard mobile holder car compatible smartphone',\n",
       "       'LandlinePhones',\n",
       "       'Lava A7 Torch Keypad Mobile Phone | Instant Torch Slider | Powerful Loud Clear Speaker | 2575mah Big Battery Upto 15 day Standby Time | 2.4 Big Display | Vibration Alert | Bluetooth | Blue',\n",
       "       'Lava A7 Torch Keypad Mobile Phone | Instant Torch Slider | Powerful Loud Clear Speaker | 2575mah Big Battery Upto 15 day Standby Time | 2.4 Big Display | Vibration Alert | Bluetooth | black',\n",
       "       'Lava Hero Shakti Keypad Mobile Phone Vibration Alert | 1.8 Big Display | Long last Battery Upto 7 day Standby Time | Auto Recording | Wireless FM | Number Talker | Dark Blue',\n",
       "       'Lava Hero Shakti Keypad Mobile Phone Vibration Alert | 1.8 Big Display | Long last Battery Upto 7 day Standby Time | Auto Recording | Wireless FM | Number Talker | Mint Green',\n",
       "       'Lava Hero Shakti Keypad Mobile Phone Vibration Alert | 1.8 Big Display | Long last Battery Upto 7 day Standby Time | Auto Recording | Wireless FM | Number Talker | Pepsi Blue',\n",
       "       'M56', 'M73',\n",
       "       'MI 10 t 5 G Cosmic Black 6 GB RAM 128 GB Storage |Additional Exchange Cost EMI offer',\n",
       "       'Mag XGray',\n",
       "       'Matlek game Ear Headphones Adjustable Mic | work Mobile Phones | Surround Sound Deep Bass Blue',\n",
       "       'MediaTekHelioProcessor LCDDisplay DualSIM 5000mahbattery',\n",
       "       'MediaTekHelioProcessor LCDDisplay DualSim 5000mahbattery',\n",
       "       'Micromax New X1i Flip keypad Phone Dual SIM | Big 2.4 Display | TypeC usb Port | Wireless FM | Auto Recording | Red Black |',\n",
       "       'Micromax New X809 |Robust Reliable Design |Keypad Mobile 2.4 big screen| 1000 mah Battery Big Screen | Expandable Storage Upto 16gb| Super Battery Mode | Wireless FM |blue',\n",
       "       'Moto G85 5 g 8 GB 128 GB Olive Green New',\n",
       "       'Motorola New A50 Dual Sim keypad Phone Voice Feature | vga Rear Camera | 1750 mah powerful Battery Upto 10 day Standby time| 6 indian Languages Input Support | Dark Blue',\n",
       "       'Motorola New A50 Dual Sim keypad Phone Voice Feature | vga Rear Camera | 1750 mah powerful Battery Upto 10 day Standby time| 6 indian Languages Input Support | gold',\n",
       "       'MotorolaAll NewA10DualSimkeypadPhonewithVoiceFeature Long LastingBatteryBackup wirelessfmwithrecorde BluetoothConnectivity',\n",
       "       'Mr. Case Soft Transparent Hybrid Slim Fit Frosted Matte Silicone TPU Cover Phone 2A -transparent Gray',\n",
       "       'Mr. Case Transparent Case CMF Phone 1 Frosted Cover Matte Silicone TPU Silver Ring',\n",
       "       'MultipurposeDesktopPhoneWallMountedLandlineCallerIDTelephoneCordedPhoneForHomeOfficeHotel(MultiColor',\n",
       "       'NEXATECH New I16 PRO Cell FLIP Phone 2 G KEYPAD GSM1.77MOBILE FOLD Phone 2 SIM unlocked',\n",
       "       'Nokia 106 Dual Sim Keypad Phone build UPI Payments App Long last Battery Wireless FM Radio MP3 Player microsd card Slot | Red',\n",
       "       'Nokia 106 Single Sim Keypad Phone build UPI Payments App Long last Battery Wireless FM Radio MP3 Player microsd card Slot | charcoal',\n",
       "       'Nokia 220 4 g | New 4 g Keypad Phone Dual SIM build UPI App Wireless FM Radio MP3 Player Bluetooth USB Type C | Black',\n",
       "       'Nokia 2660 Flip 4 G Volte keypad Phone Dual SIM Dual Screen inbuilt MP3 Player Wireless FM Radio | black',\n",
       "       'Nokia 3.4 Dusk 4 GB RAM 64 GB storage',\n",
       "       'Nokia 3210 4 g | new Classic Keypad Phone Dual SIM YouTube Scan Pay UPI Rear Camera Wireless FM Radio MP3 Player Bluetooth USB Type C | Grunge Black',\n",
       "       'Nokia 3210 4 g | new Classic Keypad Phone Dual SIM YouTube Scan Pay UPI Rear Camera Wireless FM Radio MP3 Player Bluetooth USB Type C | Scuba Blue',\n",
       "       'Nokia 3210 4 g | new Classic Keypad Phone Dual SIM YouTube Scan Pay UPI Rear Camera Wireless FM Radio MP3 Player Bluetooth USB Type C | Y2 K Gold',\n",
       "       'Nokia 5710 XpressAudio keypad Phone inbuilt Wireless Earbuds MP3 Player Wireless FM Radio Dedicated Music Buttons big Battery | Black',\n",
       "       'Nokia 5710 XpressAudio keypad Phone inbuilt Wireless Earbuds MP3 Player Wireless FM Radio Dedicated Music Buttons big Battery | White',\n",
       "       'Nokia1064GKeypadPhonewith4 G Built inUPIPaymentsApp Long LastingBattery wirelessfmradio&mp3player andmicrosdcardslot charcoal',\n",
       "       'Nokia150DualSIMPremiumKeypadPhone RearCamera longlastingbatterylife WirelessFMRadio&MP3PlayerandAll NewModernPremiumDesign Black',\n",
       "       'Nokia150DualSIMPremiumKeypadPhone RearCamera longlastingbatterylife WirelessFMRadio&MP3PlayerandAll newmodernpremiumdesign Blue',\n",
       "       'NokiaAll New105KeypadPhonewithBuilt inUPIPayments Long LastingBattery wirelessfmradio charcoal',\n",
       "       'POCOX2(AtlantisBlue 8gbram 256gbstorage', 'PackOf1', 'Packof5',\n",
       "       'Panasonic Corded Telephone White',\n",
       "       'Panasonic KX TG3711SX Single Line 2.4ghz Digital Cordless Phone silver',\n",
       "       'REBONICX K-9 Cell Phone Stand Angle Height Adjustable Desk Foldable Cell Phone Holder Cradle Dock Tablet Stand Case Friendly Compatible Phone iPad Kindle Tablet',\n",
       "       'Realme 12 pro+ 5 G Submarine Blue 12 GB RAM 256 GB storage',\n",
       "       'Redmi a3 Midnight Black 4 gb 128 gb',\n",
       "       'Redmi note 13 pro 5 g scarlet red 8 gb 256 gb',\n",
       "       'Regor Tabletop Finger Grip Mobile Holder | Mobile Stand | Phone Holder Hand Mobile Holder Grip | Great Selfie Works iPhone Stand Android Phone Stand Black',\n",
       "       'SHILPMART Butterfly Phone Strap Lanyard Birthday Gift Girl White',\n",
       "       'Tensea Mobile Phone Charging Stand Multi functional Storage Holder Bedside Fixed Rack Bedroom Office Accessories Acrylonitrile Butadiene Styrene White 01 Portable Electronic Devices',\n",
       "       'Upto12GBRAMwithMemoryFusion 13mpdualrearcamera&8mpfrontcamera 5000mahwithtype C DynamicBar',\n",
       "       'VICETRONIX LYF Jio Phone Battery Double Quality Checked 6 Months Warranty 2000 MAH Jio Keypad Phones Longest Battery Backup',\n",
       "       'VIDO Super Frosted Raised Camera Protect Soft Case Cover CMF Phone 1',\n",
       "       'VONZEE Compatible Samsung S24 Case compatible MagSafe Military Grade Protective Case build Stash Stand Phone Case Scratch resistant Cover Classic series|clear black',\n",
       "       'Wayona Airplane Travel Phone Airplane Phone Holder Travel Essentials double Directional 360 plus 180 Degree Rotation Pocket sized Universal Handsfree Phone Mount Home Kitchen Office',\n",
       "       'WithoutOffer',\n",
       "       'ZEBRONICS CMH100 Car Mobile Holder Windshield Dashboard Suitable Surfaces Strong Suction Cup 360 Rotatable Devices upto 6.8 inch Click Quick Release',\n",
       "       'ZORDIK Rotatable Foldable Tabletop Mobile Stand Stable Metalic Round Base | Multiple Adjustments Height Angle Phone Stand | Mobile Holder Smartphones | Tablets Kindles',\n",
       "       'Zapcase Case Cover Phone 2a 5 g | compatible Phone 2a 5 g case Cover | Liquid Silicon Magic Case Camera Protection | Sapphire',\n",
       "       'andtwowayspeakerphonefunctionsupportedbydate timedisplay(black',\n",
       "       'black',\n",
       "       'blaxstoc 60w usb Fast Charging Travel Data Cable Set Type C Lightening Micro USB Port Inbuilt Mobile Stand Compatible Pad Samsang RealMi Android phone',\n",
       "       'easyfone Elite 4 g Volte 2.8 Premium Senior Citizen Phone 20 + Senior Friendly Features Sturdy Build help senior stay Connected Independent Safe healthy',\n",
       "       'iQOOZ6Lite5G(MysticNight 4gbram 64gbstorage',\n",
       "       'iQOOZ6Lite5G(MysticNight 6GBRAM 128gbstorage',\n",
       "       'iQOOZ6Lite5G(StellarGreen 4gbram 64gbstorage',\n",
       "       'iQOOZ7Pro5G(BlueLagoon 8GBRAM 128gbstorage',\n",
       "       'iQOOZ7Pro5G(BlueLagoon 8gbram 256gbstorage',\n",
       "       'iQOOZ7Pro5G(GraphiteMatte 8GBRAM 128gbstorage',\n",
       "       'indias1std63005gchipset UltraSlim190gDesign 120HzEyeComfortDisplay 50mpaicamera',\n",
       "       'indias1std63005gchipset ultraslimdesign 120HzEyeComfortDisplay 50mpaicamera',\n",
       "       'iqooneo65g(darknova 12gbram 256gbstorage',\n",
       "       'iqooz35g(cyberblue 8gbram 256gbstorage',\n",
       "       'iqooz6pro5g(legionsky 8GBRAM 128gbstorage', 'itel A70 smartphone',\n",
       "       'itel A70 | 12 GB RAM + 64 GB ROM| 13mp Dual Rear Camera 8mp Camera | 5000mah Battery Type C charge | dynamic Bar | Fingerprint Sensor | Octa Core Processor | Azure Blue',\n",
       "       'itel Circle 1 | Unique Design Round Screen Mobile Phone | 500mah Battery | 1.32 Display BT | Rose Gold',\n",
       "       'itel Circle 1 | Unique Design Round Screen Mobile Phone | 500mah Battery | 1.32 Display BT | black',\n",
       "       'itel Color Pro 5 g | color change | 6 GB ram+128 GB ROM Upto 12 GB ram Memory fusion| | Dimensity 6080 | 50MP AI Dual Rear camera| 5000mah Battery 18w Type c Fast Charging | River Blue',\n",
       "       'itel P55 + 4 g | Upto 16 GB ram Memory Fusion 256 GB ROM| 50MP AI Dual Rear Camera 8mp camera| 45w Charger 5000 mah Battery | dynamic Bar|UFS 2.2| Meteor Black',\n",
       "       'itel P55 + 4 g | Upto 16 GB ram Memory Fusion 256 GB ROM| 50MP AI Dual Rear Camera 8mp camera| 45w Charger 5000 mah Battery | dynamic Bar|UFS 2.2| Royal Green',\n",
       "       'itel P55 4 g | Upto 12 GB ram Memory Fusion 128 GB ROM| 50MP AI Dual Rear Camera 8mp camera| 5000mah Battery 18w Charger | dynamic Bar|UFS 2.2| Moonlit Black',\n",
       "       'itel Power 120 come 2 Display 2500 mah Battery Kingvoice VGA Rear Camera Strip lead torch',\n",
       "       'itel a50|6.6 hd+ display dynamic bar| 3 GB ram +64 GB ROM Upto 8 GB ram memory fusion|octacore processor|8mp AI Dual Rear Cam|5000 mAh Battery | Misty Black',\n",
       "       'like Star Adjustable Chest Strap Mount Mobile Holder Clip Screw Compatible Smart Phones Body Belt Harness Gopro Hero SJCAM Yi Action Cameras black',\n",
       "       'original 45w Rapid Fast Type C Mobile Phone Charger Adapter CMF Phone 2a 2a Plus Phone 2 CMF Phone 1 PD PPS Technology Support usb C 45 W Power Delivery Adaptor White',\n",
       "       'poco C61 Diamond Dust Black 4 GB RAM 64 GB rom',\n",
       "       'poco C61 Ethereal Blue 4 GB ram 64 GB rom',\n",
       "       'portronic Snapcase 60w Multifunctional Fast Charging Data Cable Kit Conversion Set usb Type C Male Micro Type C Lightning Data Transfer Sim Storage Sim Eject Pin Pocket Mirror Phone Holder',\n",
       "       'realme C61 Safari Green 4 GB 64 GB',\n",
       "       'realme NARZO 70 5 g Forest Green,8 GB RAM 128 GB Storage | dimensity 7050 5 G Chipset | 120hz amoled Display | 50MP Primary Camera | 45w Charger Box',\n",
       "       'realme NARZO 70 5 g Ice blue,8 GB RAM 128 GB Storage | dimensity 7050 5 G Chipset | 120hz amoled Display | 50MP Primary Camera | 45w Charger Box',\n",
       "       'redmi 13 5 G Orchid Pink 6gb+128 GB | India Debut SD 4 Gen 2 AE | 108MP Pro Grade Camera | 6.79 large Display segment',\n",
       "       'redmi 13 5 G Orchid Pink 8gb+128 GB | India Debut SD 4 Gen 2 AE | 108MP Pro Grade Camera | 6.79 large Display segment',\n",
       "       'redmi 13 5 g Hawaiian Blue 6gb+128 GB | India Debut SD 4 Gen 2 AE | 108MP Pro Grade Camera | 6.79 large Display segment',\n",
       "       'redmiy3(elegantblue 32 GB 3gbram', 'tpu+polycarbonate ZeroOne',\n",
       "       'upto16gbramwithmemoryfusion 108mpairearcamera 6.6\"hd+90hzpunchhole heliog91',\n",
       "       'vido 3d Iron Man Avengers case Cover Phone 2a 5 g Phone 2a plus',\n",
       "       'white',\n",
       "       'withFreeInstallationKit EdgeToEdge.(In screenfingerprintlockwillnotworkwiththeprivacyguard',\n",
       "       'withFreeInstallationKit fullscreencoverage-6.55inch',\n",
       "       'withNoCostEMI AdditionalExchangeOffers WithoutCharger',\n",
       "       'withNoCostEMI additionalexchangeoffer',\n",
       "       'witheasyselfinstallationkit black'], dtype=object)"
      ]
     },
     "execution_count": 696,
     "metadata": {},
     "output_type": "execute_result"
    }
   ],
   "source": [
    "lebel.classes_"
   ]
  },
  {
   "cell_type": "code",
   "execution_count": 686,
   "metadata": {},
   "outputs": [],
   "source": [
    "with open(\"encoder1.pkl\",\"wb\") as f:\n",
    "    pickle.dump(lebel,f)"
   ]
  },
  {
   "cell_type": "code",
   "execution_count": 687,
   "metadata": {},
   "outputs": [],
   "source": [
    "with open(\"encoder1.pkl\",\"rb\") as f:\n",
    "    en=pickle.load(f)"
   ]
  },
  {
   "cell_type": "code",
   "execution_count": 694,
   "metadata": {},
   "outputs": [
    {
     "data": {
      "text/plain": [
       "'Redmi note 13 Proplus'"
      ]
     },
     "execution_count": 694,
     "metadata": {},
     "output_type": "execute_result"
    }
   ],
   "source": [
    "df15[\"Company and Specifications\"].iloc[0]"
   ]
  },
  {
   "cell_type": "code",
   "execution_count": 697,
   "metadata": {},
   "outputs": [
    {
     "name": "stderr",
     "output_type": "stream",
     "text": [
      "d:\\Phone price prediction\\venv\\Lib\\site-packages\\sklearn\\preprocessing\\_label.py:132: DataConversionWarning: A column-vector y was passed when a 1d array was expected. Please change the shape of y to (n_samples, ), for example using ravel().\n",
      "  y = column_or_1d(y, dtype=self.classes_.dtype, warn=True)\n"
     ]
    }
   ],
   "source": [
    "input_data =['  1.5kamoled 200MPHi ResCamera Flagship4nmSD7sGen2']\n",
    "\n",
    "transformed_output = en.transform(np.array(input_data).reshape(1,-1))"
   ]
  },
  {
   "cell_type": "code",
   "execution_count": 699,
   "metadata": {},
   "outputs": [
    {
     "data": {
      "text/plain": [
       "array(['  1.5kamoled 200MPHi ResCamera Flagship4nmSD7sGen2'], dtype=object)"
      ]
     },
     "execution_count": 699,
     "metadata": {},
     "output_type": "execute_result"
    }
   ],
   "source": [
    "en.inverse_transform(transformed_output)"
   ]
  },
  {
   "cell_type": "code",
   "execution_count": 700,
   "metadata": {},
   "outputs": [
    {
     "data": {
      "text/plain": [
       "sklearn.preprocessing._label.LabelEncoder"
      ]
     },
     "execution_count": 700,
     "metadata": {},
     "output_type": "execute_result"
    }
   ],
   "source": [
    "type(lebel)"
   ]
  },
  {
   "cell_type": "code",
   "execution_count": 703,
   "metadata": {},
   "outputs": [
    {
     "data": {
      "text/plain": [
       "220"
      ]
     },
     "execution_count": 703,
     "metadata": {},
     "output_type": "execute_result"
    }
   ],
   "source": [
    "len(lebel.classes_)"
   ]
  },
  {
   "cell_type": "code",
   "execution_count": 705,
   "metadata": {},
   "outputs": [
    {
     "data": {
      "text/plain": [
       "220"
      ]
     },
     "execution_count": 705,
     "metadata": {},
     "output_type": "execute_result"
    }
   ],
   "source": [
    "len(le.classes_)"
   ]
  },
  {
   "cell_type": "code",
   "execution_count": 708,
   "metadata": {},
   "outputs": [
    {
     "data": {
      "text/plain": [
       "Rating                        float64\n",
       "Reviews                       float64\n",
       "Price                           int64\n",
       "features-1                     object\n",
       "Company and Specifications     object\n",
       "Deatils-1                      object\n",
       "dtype: object"
      ]
     },
     "execution_count": 708,
     "metadata": {},
     "output_type": "execute_result"
    }
   ],
   "source": [
    "df15.dtypes"
   ]
  },
  {
   "cell_type": "code",
   "execution_count": 709,
   "metadata": {},
   "outputs": [],
   "source": [
    "df18=df15.drop(\"Price\",axis=1)"
   ]
  },
  {
   "cell_type": "code",
   "execution_count": 712,
   "metadata": {},
   "outputs": [
    {
     "data": {
      "text/plain": [
       "Rating                        float64\n",
       "Reviews                       float64\n",
       "Price                           int64\n",
       "features-1                     object\n",
       "Company and Specifications     object\n",
       "Deatils-1                      object\n",
       "dtype: object"
      ]
     },
     "execution_count": 712,
     "metadata": {},
     "output_type": "execute_result"
    }
   ],
   "source": [
    "df15.dtypes"
   ]
  },
  {
   "cell_type": "code",
   "execution_count": 721,
   "metadata": {},
   "outputs": [
    {
     "data": {
      "text/plain": [
       "Index(['Rating', 'Reviews', 'Price', 'features-1',\n",
       "       'Company and Specifications', 'Deatils-1'],\n",
       "      dtype='object')"
      ]
     },
     "execution_count": 721,
     "metadata": {},
     "output_type": "execute_result"
    }
   ],
   "source": [
    "df15.columns"
   ]
  },
  {
   "cell_type": "code",
   "execution_count": 728,
   "metadata": {},
   "outputs": [],
   "source": [
    "le1=LabelEncoder()\n",
    "df15[\"Company and Specifications\"]=le1.fit_transform(df15[\"Company and Specifications\"])\n",
    "with open(\"Company_encoder1.pkl\",\"wb\") as f:\n",
    "    pickle.dump(le1,f)\n",
    "le1=LabelEncoder()\n",
    "df15[\"Deatils-1\"]=le1.fit_transform(df15[\"Deatils-1\"])\n",
    "with open(\"Detail_encoder2.pkl\",\"wb\") as f:\n",
    "    pickle.dump(le1,f)\n",
    "le1=LabelEncoder()\n",
    "df15[\"features-1\"]=le1.fit_transform(df15[\"features-1\"])\n",
    "with open(\"feature_encoder3.pkl\",\"wb\") as f:\n",
    "    pickle.dump(le1,f)"
   ]
  },
  {
   "cell_type": "code",
   "execution_count": 729,
   "metadata": {},
   "outputs": [],
   "source": [
    "with open(\"Company_encoder1.pkl\",\"rb\") as f:\n",
    "    l1=pickle.load(f)\n",
    "with open(\"Detail_encoder2.pkl\",\"rb\") as f:\n",
    "    l2=pickle.load(f)\n",
    "with open(\"feature_encoder3.pkl\",\"rb\") as f:\n",
    "    l3=pickle.load(f)\n"
   ]
  },
  {
   "cell_type": "code",
   "execution_count": 730,
   "metadata": {},
   "outputs": [
    {
     "name": "stdout",
     "output_type": "stream",
     "text": [
      "281\n",
      "220\n",
      "345\n"
     ]
    }
   ],
   "source": [
    "print(len(l1.classes_))\n",
    "print(len(l2.classes_))\n",
    "print(len(l3.classes_))"
   ]
  },
  {
   "cell_type": "code",
   "execution_count": 738,
   "metadata": {},
   "outputs": [
    {
     "name": "stderr",
     "output_type": "stream",
     "text": [
      "d:\\Phone price prediction\\venv\\Lib\\site-packages\\sklearn\\preprocessing\\_label.py:132: DataConversionWarning: A column-vector y was passed when a 1d array was expected. Please change the shape of y to (n_samples, ), for example using ravel().\n",
      "  y = column_or_1d(y, dtype=self.classes_.dtype, warn=True)\n"
     ]
    },
    {
     "data": {
      "text/plain": [
       "array([135])"
      ]
     },
     "execution_count": 738,
     "metadata": {},
     "output_type": "execute_result"
    }
   ],
   "source": [
    "data=X[\"Company and Specifications\"].iloc[0]\n",
    "l1.transform(np.array(data).reshape(1,-1))"
   ]
  },
  {
   "cell_type": "code",
   "execution_count": 727,
   "metadata": {},
   "outputs": [
    {
     "data": {
      "text/plain": [
       "846"
      ]
     },
     "execution_count": 727,
     "metadata": {},
     "output_type": "execute_result"
    }
   ],
   "source": [
    "281+220+345"
   ]
  },
  {
   "cell_type": "code",
   "execution_count": 739,
   "metadata": {},
   "outputs": [
    {
     "data": {
      "text/plain": [
       "array([135])"
      ]
     },
     "execution_count": 739,
     "metadata": {},
     "output_type": "execute_result"
    }
   ],
   "source": [
    "new=df15[\"Company and Specifications\"].iloc[0]\n",
    "l1.transform(np.array(new).reshape(1,-1)[0])"
   ]
  },
  {
   "cell_type": "code",
   "execution_count": 732,
   "metadata": {},
   "outputs": [],
   "source": [
    "with open(\"model.pkl\",\"rb\") as f:\n",
    "    model2=pickle.load(f)"
   ]
  },
  {
   "cell_type": "code",
   "execution_count": 733,
   "metadata": {},
   "outputs": [],
   "source": [
    "newdata=X.iloc[0]"
   ]
  },
  {
   "cell_type": "code",
   "execution_count": 740,
   "metadata": {},
   "outputs": [
    {
     "data": {
      "text/plain": [
       "Index(['Rating', 'Reviews', 'features-1', 'Company and Specifications',\n",
       "       'Deatils-1'],\n",
       "      dtype='object')"
      ]
     },
     "execution_count": 740,
     "metadata": {},
     "output_type": "execute_result"
    }
   ],
   "source": [
    "X.columns"
   ]
  },
  {
   "cell_type": "code",
   "execution_count": 734,
   "metadata": {},
   "outputs": [
    {
     "name": "stderr",
     "output_type": "stream",
     "text": [
      "d:\\Phone price prediction\\venv\\Lib\\site-packages\\sklearn\\base.py:493: UserWarning: X does not have valid feature names, but RandomForestRegressor was fitted with feature names\n",
      "  warnings.warn(\n"
     ]
    },
    {
     "data": {
      "text/plain": [
       "array([33999.])"
      ]
     },
     "execution_count": 734,
     "metadata": {},
     "output_type": "execute_result"
    }
   ],
   "source": [
    "model2.predict(np.array(newdata).reshape(1,-1))"
   ]
  },
  {
   "cell_type": "code",
   "execution_count": 735,
   "metadata": {},
   "outputs": [
    {
     "data": {
      "text/plain": [
       "Index(['Rating', 'Reviews', 'features-1', 'Company and Specifications',\n",
       "       'Deatils-1'],\n",
       "      dtype='object')"
      ]
     },
     "execution_count": 735,
     "metadata": {},
     "output_type": "execute_result"
    }
   ],
   "source": [
    "X.columns"
   ]
  },
  {
   "cell_type": "code",
   "execution_count": 167,
   "metadata": {},
   "outputs": [],
   "source": [
    "image_url1.to_json(\"image.json\",orient=\"records\")"
   ]
  },
  {
   "cell_type": "code",
   "execution_count": 168,
   "metadata": {},
   "outputs": [],
   "source": [
    "product_url1.to_json(\"product.json\",orient=\"records\")"
   ]
  },
  {
   "cell_type": "code",
   "execution_count": null,
   "metadata": {},
   "outputs": [],
   "source": []
  }
 ],
 "metadata": {
  "kernelspec": {
   "display_name": "venv",
   "language": "python",
   "name": "python3"
  },
  "language_info": {
   "codemirror_mode": {
    "name": "ipython",
    "version": 3
   },
   "file_extension": ".py",
   "mimetype": "text/x-python",
   "name": "python",
   "nbconvert_exporter": "python",
   "pygments_lexer": "ipython3",
   "version": "3.11.0"
  }
 },
 "nbformat": 4,
 "nbformat_minor": 2
}
